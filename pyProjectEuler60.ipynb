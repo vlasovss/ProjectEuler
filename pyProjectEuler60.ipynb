{
  "nbformat": 4,
  "nbformat_minor": 0,
  "metadata": {
    "colab": {
      "name": "pyProjectEuler60.ipynb",
      "private_outputs": true,
      "provenance": [],
      "collapsed_sections": [],
      "mount_file_id": "1ZoIJ4zmXi9hWa4APzkpNc6NnkUC_dOPL",
      "authorship_tag": "ABX9TyP+oU80uFQeLXdrxSd7O7Zm",
      "include_colab_link": true
    },
    "kernelspec": {
      "name": "python3",
      "display_name": "Python 3"
    }
  },
  "cells": [
    {
      "cell_type": "markdown",
      "metadata": {
        "id": "view-in-github",
        "colab_type": "text"
      },
      "source": [
        "<a href=\"https://colab.research.google.com/github/vlasovss/ProjectEuler/blob/main/pyProjectEuler60.ipynb\" target=\"_parent\"><img src=\"https://colab.research.google.com/assets/colab-badge.svg\" alt=\"Open In Colab\"/></a>"
      ]
    },
    {
      "cell_type": "markdown",
      "metadata": {
        "id": "xpeYEfcnSQb6"
      },
      "source": [
        "# Project Eulera на Python\n",
        "## Задачи с 41 по 60"
      ]
    },
    {
      "cell_type": "markdown",
      "metadata": {
        "id": "r8t6XMhNTvp3"
      },
      "source": [
        "---\n",
        "# Задача 41. Пан-цифровое простое число\n",
        "Будем считать n-значное число пан-цифровым, если каждая из цифр от 1 до nиспользуется в нем ровно один раз. К примеру, 2143 является 4-значным пан-цифровым числом, а также простым числом.\n",
        "\n",
        "Какое существует наибольшее n-значное пан-цифровое простое число?\n",
        "\n",
        "[Оригинал](https://projecteuler.net/problem=41) [На русском](https://euler.jakumo.org/problems/view/41.html)\n",
        "\n",
        "Completed on Thu, 3 Jun 2021, 00:08"
      ]
    },
    {
      "cell_type": "code",
      "metadata": {
        "id": "wCD2-P8goA3j"
      },
      "source": [
        "from timeit import default_timer\n",
        "from math import sqrt\n",
        "\n",
        "\n",
        "def is_pandigital_number(n: int) -> bool:\n",
        "    pattern = '123456789'\n",
        "    n = str(n)\n",
        "    for i in range(len(n)):\n",
        "        c = n.count(pattern[i])\n",
        "        if c > 1 or c == 0:\n",
        "            return False\n",
        "    return True\n",
        "\n",
        "\n",
        "def is_prime(n):\n",
        "    if n % 2 == 0 and n > 2: \n",
        "        return False\n",
        "    return all(n % i for i in range(3, int(sqrt(n)) + 1, 2))\n",
        "\n",
        "\n",
        "def compute() -> int:\n",
        "    return max(n for n in range(12, 7654322) if is_pandigital_number(n) and is_prime(n))\n",
        "\n",
        "\n",
        "if __name__ == \"__main__\":\n",
        "    start_time = default_timer()\n",
        "    ans = compute()\n",
        "    end_time = default_timer()\n",
        "    print(f\"{ans} наибольшее n-значное пан-цифровое простое число.\\n\\\n",
        "    На его поиск ушло {end_time - start_time:f} секунд.\")"
      ],
      "execution_count": null,
      "outputs": []
    },
    {
      "cell_type": "markdown",
      "metadata": {
        "id": "pUuxmYayVsax"
      },
      "source": [
        "---\n",
        "# Задача 42. \n",
        "\n",
        "\n",
        "[Оригинал](https://projecteuler.net/problem=42) [На русском](https://euler.jakumo.org/problems/view/42.html)\n",
        "\n"
      ]
    },
    {
      "cell_type": "code",
      "metadata": {
        "id": "-Ohix4BSWOwE"
      },
      "source": [
        ""
      ],
      "execution_count": null,
      "outputs": []
    },
    {
      "cell_type": "markdown",
      "metadata": {
        "id": "spSuMW2-Bcj7"
      },
      "source": [
        "---\n",
        "# Задача 43.  \n",
        "\n",
        "\n",
        "[Оригинал](https://projecteuler.net/problem=43) [На русском](https://euler.jakumo.org/problems/view/43.html)\n"
      ]
    },
    {
      "cell_type": "code",
      "metadata": {
        "id": "D2vSVsSmB8G2"
      },
      "source": [
        ""
      ],
      "execution_count": null,
      "outputs": []
    },
    {
      "cell_type": "markdown",
      "metadata": {
        "id": "jgvw2ZkfsKui"
      },
      "source": [
        "---\n",
        "# Задача 44. \n",
        "\n",
        "\n",
        "\n",
        "[Оригинал](https://projecteuler.net/problem=44) [На русском](https://euler.jakumo.org/problems/view/44.html)\n",
        "\n"
      ]
    },
    {
      "cell_type": "code",
      "metadata": {
        "id": "8OzV51sitYDM"
      },
      "source": [
        ""
      ],
      "execution_count": null,
      "outputs": []
    },
    {
      "cell_type": "markdown",
      "metadata": {
        "id": "aG_ET1t6ybTW"
      },
      "source": [
        "---\n",
        "# Задача 45. \n",
        "\n",
        "\n",
        "[Оригинал](https://projecteuler.net/problem=45) [На русском](https://euler.jakumo.org/problems/view/45.html)\n"
      ]
    },
    {
      "cell_type": "code",
      "metadata": {
        "id": "_YWRTLMhTdQn"
      },
      "source": [
        ""
      ],
      "execution_count": null,
      "outputs": []
    },
    {
      "cell_type": "markdown",
      "metadata": {
        "id": "r52C5TD7Ue9v"
      },
      "source": [
        "---\n",
        "# Задача 46.  \n",
        "\n",
        "\n",
        "[Оригинал](https://projecteuler.net/problem=46) [На русском](https://euler.jakumo.org/problems/view/46.html)\n",
        "\n"
      ]
    },
    {
      "cell_type": "code",
      "metadata": {
        "id": "4uumLEO2lkzq"
      },
      "source": [
        ""
      ],
      "execution_count": null,
      "outputs": []
    },
    {
      "cell_type": "markdown",
      "metadata": {
        "id": "ohyqnGtRTObg"
      },
      "source": [
        "---\n",
        "# Задача 47. \n",
        "\n",
        "\n",
        "\n",
        "[Оригинал](https://projecteuler.net/problem=47) [На русском](https://euler.jakumo.org/problems/view/47.html)\n"
      ]
    },
    {
      "cell_type": "code",
      "metadata": {
        "id": "vAeid8FATcWh"
      },
      "source": [
        ""
      ],
      "execution_count": null,
      "outputs": []
    },
    {
      "cell_type": "markdown",
      "metadata": {
        "id": "IQCv5CM1utta"
      },
      "source": [
        "---\n",
        "# Задача 48.   \n",
        "\n",
        "\n",
        "[Оригинал](https://projecteuler.net/problem=48) [На русском](https://euler.jakumo.org/problems/view/48.html)\n",
        "\n"
      ]
    },
    {
      "cell_type": "code",
      "metadata": {
        "id": "B__ykJi7T0jJ"
      },
      "source": [
        ""
      ],
      "execution_count": null,
      "outputs": []
    },
    {
      "cell_type": "markdown",
      "metadata": {
        "id": "DnSl2ivvmHIw"
      },
      "source": [
        "---\n",
        "# Задача 49.  \n",
        "\n",
        "\n",
        "[Оригинал](https://projecteuler.net/problem=49) [На русском](https://euler.jakumo.org/problems/view/49.html)\n",
        "\n"
      ]
    },
    {
      "cell_type": "code",
      "metadata": {
        "id": "MtPUDthkT8jG"
      },
      "source": [
        ""
      ],
      "execution_count": null,
      "outputs": []
    },
    {
      "cell_type": "markdown",
      "metadata": {
        "id": "5CKEhqH76IYV"
      },
      "source": [
        "---\n",
        "# Задача 50.   \n",
        "\n",
        "\n",
        "\n",
        "\n",
        "[Оригинал](https://projecteuler.net/problem=50) [На русском](https://euler.jakumo.org/problems/view/50.html)\n"
      ]
    },
    {
      "cell_type": "code",
      "metadata": {
        "id": "ZMXNLC-JUD43"
      },
      "source": [
        ""
      ],
      "execution_count": null,
      "outputs": []
    },
    {
      "cell_type": "markdown",
      "metadata": {
        "id": "8HfjBdGtbtyk"
      },
      "source": [
        "---\n",
        "# Задача 51.  \n",
        "\n",
        "\n",
        "\n",
        "[Оригинал](https://projecteuler.net/problem=51) [На русском](https://euler.jakumo.org/problems/view/51.html)\n",
        "\n"
      ]
    },
    {
      "cell_type": "code",
      "metadata": {
        "id": "_Nf_XEjHemSF"
      },
      "source": [
        ""
      ],
      "execution_count": null,
      "outputs": []
    },
    {
      "cell_type": "markdown",
      "metadata": {
        "id": "9uHEDUZ8wHRz"
      },
      "source": [
        "---\n",
        "# Задача 52. \n",
        "\n",
        "\n",
        "\n",
        "[Оригинал](https://projecteuler.net/problem=52) [На русском](https://euler.jakumo.org/problems/view/52.html)\n"
      ]
    },
    {
      "cell_type": "code",
      "metadata": {
        "id": "F7VtqZarlDvJ"
      },
      "source": [
        ""
      ],
      "execution_count": null,
      "outputs": []
    },
    {
      "cell_type": "markdown",
      "metadata": {
        "id": "_a6Kz3f15NkW"
      },
      "source": [
        "---\n",
        "# Задача 53. \n",
        "\n",
        "\n",
        "[Оригинал](https://projecteuler.net/problem=53) [На русском](https://euler.jakumo.org/problems/view/53.html)\n",
        "\n"
      ]
    },
    {
      "cell_type": "code",
      "metadata": {
        "id": "09hx3SiY2-Ik"
      },
      "source": [
        ""
      ],
      "execution_count": null,
      "outputs": []
    },
    {
      "cell_type": "markdown",
      "metadata": {
        "id": "9E-LOou-CNrG"
      },
      "source": [
        "---\n",
        "# Задача 54.  \n",
        "\n",
        "\n",
        "\n",
        "[Оригинал](https://projecteuler.net/problem=54) [На русском](https://euler.jakumo.org/problems/view/54.html)\n"
      ]
    },
    {
      "cell_type": "code",
      "metadata": {
        "id": "-zbWSlUwZ3Om"
      },
      "source": [
        ""
      ],
      "execution_count": null,
      "outputs": []
    },
    {
      "cell_type": "markdown",
      "metadata": {
        "id": "0c9NhYl0_h1G"
      },
      "source": [
        "---\n",
        "# Задача 55.   \n",
        "\n",
        "\n",
        "[Оригинал](https://projecteuler.net/problem=55) [На русском](https://euler.jakumo.org/problems/view/55.html)\n",
        "\n"
      ]
    },
    {
      "cell_type": "code",
      "metadata": {
        "id": "louXWqGlZ4SE"
      },
      "source": [
        ""
      ],
      "execution_count": null,
      "outputs": []
    },
    {
      "cell_type": "markdown",
      "metadata": {
        "id": "OKRdCE0iq8HV"
      },
      "source": [
        "---\n",
        "# Задача 56.  \n",
        "\n",
        "\n",
        "[Оригинал](https://projecteuler.net/problem=56) [На русском](https://euler.jakumo.org/problems/view/56.html)\n",
        "\n"
      ]
    },
    {
      "cell_type": "code",
      "metadata": {
        "id": "7wV1F_gMZ4wh"
      },
      "source": [
        ""
      ],
      "execution_count": null,
      "outputs": []
    },
    {
      "cell_type": "markdown",
      "metadata": {
        "id": "dGvIgvaCFa0S"
      },
      "source": [
        "---\n",
        "# Задача 57.   \n",
        "\n",
        "\n",
        "[Оригинал](https://projecteuler.net/problem=57) [На русском](https://euler.jakumo.org/problems/view/57.html)\n",
        "\n"
      ]
    },
    {
      "cell_type": "code",
      "metadata": {
        "id": "fOOXGmcPZ5fH"
      },
      "source": [
        ""
      ],
      "execution_count": null,
      "outputs": []
    },
    {
      "cell_type": "markdown",
      "metadata": {
        "id": "M3Fqfba1GiwV"
      },
      "source": [
        "---\n",
        "# Задача 58.\n",
        "\n",
        "[Оригинал](https://projecteuler.net/problem=58) [На русском](https://euler.jakumo.org/problems/view/58.html)\n",
        "\n"
      ]
    },
    {
      "cell_type": "code",
      "metadata": {
        "id": "-njaGW8EZ6Rs"
      },
      "source": [
        ""
      ],
      "execution_count": null,
      "outputs": []
    },
    {
      "cell_type": "markdown",
      "metadata": {
        "id": "9wcgW-7jgr3I"
      },
      "source": [
        "---\n",
        "# Задача 59.   \n",
        "\n",
        "\n",
        "\n",
        "[Оригинал](https://projecteuler.net/problem=59) [На русском](https://euler.jakumo.org/problems/view/59.html)\n",
        "\n"
      ]
    },
    {
      "cell_type": "code",
      "metadata": {
        "id": "bH55eeCvZ61d"
      },
      "source": [
        ""
      ],
      "execution_count": null,
      "outputs": []
    },
    {
      "cell_type": "markdown",
      "metadata": {
        "id": "AigLGrYfNsJv"
      },
      "source": [
        "---\n",
        "# Задача 60.  \n",
        "\n",
        "\n",
        "\n",
        "[Оригинал](https://projecteuler.net/problem=60) [На русском](https://euler.jakumo.org/problems/view/60.html)\n",
        "\n"
      ]
    },
    {
      "cell_type": "code",
      "metadata": {
        "id": "gOcUNTk6Z72x"
      },
      "source": [
        ""
      ],
      "execution_count": null,
      "outputs": []
    }
  ]
}