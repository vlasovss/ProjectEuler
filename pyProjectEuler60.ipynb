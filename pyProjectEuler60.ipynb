{
  "nbformat": 4,
  "nbformat_minor": 0,
  "metadata": {
    "colab": {
      "name": "pyProjectEuler60.ipynb",
      "private_outputs": true,
      "provenance": [],
      "collapsed_sections": [],
      "mount_file_id": "1c03GEqBZ4wJvWpRCEo8aJlgYSpY6EnRr",
      "authorship_tag": "ABX9TyP9u0lCXm7OzjHffs2zrds3",
      "include_colab_link": true
    },
    "kernelspec": {
      "name": "python3",
      "display_name": "Python 3"
    }
  },
  "cells": [
    {
      "cell_type": "markdown",
      "metadata": {
        "id": "view-in-github",
        "colab_type": "text"
      },
      "source": [
        "<a href=\"https://colab.research.google.com/github/vlasovss/ProjectEuler/blob/main/pyProjectEuler60.ipynb\" target=\"_parent\"><img src=\"https://colab.research.google.com/assets/colab-badge.svg\" alt=\"Open In Colab\"/></a>"
      ]
    },
    {
      "cell_type": "markdown",
      "metadata": {
        "id": "xpeYEfcnSQb6"
      },
      "source": [
        "# Project Eulera на Python\n",
        "## Задачи с 41 по 60"
      ]
    },
    {
      "cell_type": "markdown",
      "metadata": {
        "id": "r8t6XMhNTvp3"
      },
      "source": [
        "---\n",
        "# Задача 41. Пан-цифровое простое число\n",
        "Будем считать n-значное число пан-цифровым, если каждая из цифр от 1 до nиспользуется в нем ровно один раз. К примеру, 2143 является 4-значным пан-цифровым числом, а также простым числом.\n",
        "\n",
        "Какое существует наибольшее n-значное пан-цифровое простое число?\n",
        "\n",
        "[Оригинал](https://projecteuler.net/problem=41) [На русском](https://euler.jakumo.org/problems/view/41.html)\n",
        "\n",
        "Completed on Thu, 3 Jun 2021, 00:08"
      ]
    },
    {
      "cell_type": "markdown",
      "metadata": {
        "id": "JnGJoLf_nUbz"
      },
      "source": [
        "#####**Вариант 1.** Брутфорс"
      ]
    },
    {
      "cell_type": "code",
      "metadata": {
        "id": "wCD2-P8goA3j"
      },
      "source": [
        "from timeit import default_timer\n",
        "from math import sqrt\n",
        "from sympy import isprime\n",
        "from sympy.core.compatibility import as_int\n",
        "\n",
        "\n",
        "def is_pandigital_number(n: int) -> bool:\n",
        "    \"\"\"\n",
        "    Определяет, является ли число пан-цифровым.\n",
        "\n",
        "    Параметры\n",
        "    =========\n",
        "    n -- число для анализа \n",
        "\n",
        "    Выход\n",
        "    =====\n",
        "    True -- если число является пан-цифровым\n",
        "    False -- если число не явлется пан-цифровым\n",
        "\n",
        "    \"\"\"\n",
        "    try:\n",
        "        n = as_int(n)\n",
        "    except ValueError:\n",
        "        return False\n",
        "    pattern = '123456789'\n",
        "    n = str(n)\n",
        "    for i in range(len(n)):\n",
        "        c = n.count(pattern[i])\n",
        "        if c > 1 or c == 0:\n",
        "            return False\n",
        "    return True\n",
        "\n",
        "\n",
        "def compute() -> int:\n",
        "    return max(n for n in range(1235, 7654322) \n",
        "               if is_pandigital_number(n) and isprime(n))\n",
        "\n",
        "\n",
        "if __name__ == \"__main__\":\n",
        "    start_time = default_timer()\n",
        "    ans = compute()\n",
        "    end_time = default_timer()\n",
        "    print(f\"{ans} наибольшее n-значное пан-цифровое простое число.\\n\\\n",
        "    На его поиск ушло {end_time - start_time:f} секунд.\")"
      ],
      "execution_count": null,
      "outputs": []
    },
    {
      "cell_type": "markdown",
      "metadata": {
        "id": "Y1roPkiQnZw6"
      },
      "source": [
        "#####**Вариант 2.** С просторов интернета."
      ]
    },
    {
      "cell_type": "code",
      "metadata": {
        "id": "t-VxY74yQQa_"
      },
      "source": [
        "import itertools\n",
        "import math\n",
        "from timeit import default_timer\n",
        "\n",
        "\n",
        "def is_prime(n):\n",
        "\tif n <= 1:\n",
        "\t\treturn False\n",
        "\tif n == 2:\n",
        "\t\treturn True\n",
        "\tif n > 2 and n % 2 == 0:\n",
        "\t\treturn False\n",
        "\tmax_div = math.floor(math.sqrt(n))\n",
        "\tfor i in range(3, 1 + max_div, 2):\n",
        "\t\tif n % i == 0:\n",
        "\t\t\treturn False\n",
        "\treturn True\n",
        "\n",
        "\n",
        "def pandigital_prime(n_max_length):\n",
        "    largest_pandigital = 0\n",
        "    for i in range(2,n_max_length):\n",
        "        all_options = []\n",
        "        number_str = int(\"\".join([str(integer) for integer in list(range(1,i))]))\n",
        "        all_options = list(itertools.permutations(str(number_str)))\n",
        "        for option in all_options:\n",
        "            if is_prime(int(\"\".join([str(integer) for integer in list(option)]))):\n",
        "                if int(\"\".join([str(integer) for integer in list(option)])) > largest_pandigital:\n",
        "                    largest_pandigital = int(\"\".join([str(integer) for integer in list(option)]))\n",
        "    return largest_pandigital\n",
        "\n",
        "\n",
        "if __name__ == \"__main__\":\n",
        "    start_time = default_timer()\n",
        "    ans = pandigital_prime(10)\n",
        "    end_time = default_timer()\n",
        "    print(f\"{ans} наибольшее n-значное пан-цифровое простое число.\\n\\\n",
        "    На его поиск ушло {end_time - start_time:f} секунд.\")"
      ],
      "execution_count": null,
      "outputs": []
    },
    {
      "cell_type": "markdown",
      "metadata": {
        "id": "nWJBdUiNqmGX"
      },
      "source": [
        "#####**Вариант 3.** Оптимизированный"
      ]
    },
    {
      "cell_type": "code",
      "metadata": {
        "id": "rEuYARN6dLQc"
      },
      "source": [
        "from timeit import default_timer\n",
        "from sympy import isprime\n",
        "from itertools import permutations\n",
        "\n",
        "\n",
        "def compute() -> int:\n",
        "    pattern = ['7654321', '654321', '54321', '4321']\n",
        "    for p in pattern:\n",
        "        for pandigital_number in permutations(p):\n",
        "            pn = int(\"\".join(pandigital_number))\n",
        "            if isprime(pn):\n",
        "                return pn\n",
        "    return 0\n",
        "\n",
        "\n",
        "if __name__ == \"__main__\":\n",
        "    start_time = default_timer()\n",
        "    ans = compute()\n",
        "    end_time = default_timer()\n",
        "    print(f\"{ans} наибольшее n-значное пан-цифровое простое число.\\n\\\n",
        "    На его поиск ушло {end_time - start_time:f} секунд.\")"
      ],
      "execution_count": null,
      "outputs": []
    },
    {
      "cell_type": "markdown",
      "metadata": {
        "id": "ozPWilK6-kX5"
      },
      "source": [
        "#####**Вариант 4.** С просторов интернета.\n",
        "\n"
      ]
    },
    {
      "cell_type": "code",
      "metadata": {
        "id": "U2HehpJ_tOr0"
      },
      "source": [
        "# Pandigital prime\n",
        "from timeit import default_timer\n",
        "import itertools\n",
        "\n",
        "\n",
        "def is_prime(n):  # here is a function determines if the number is prime\n",
        "    if n == 2:\n",
        "        return True\n",
        "    if n > 2 and n % 2 != 0:\n",
        "        for i in range(3, int(n ** 0.5) + 1, 2):\n",
        "            if n % i == 0:\n",
        "                return False\n",
        "        return True\n",
        "    return False\n",
        "\n",
        "\n",
        "def e41():\n",
        "    ds = '987654321'\n",
        "    for n in range(9, 0, -1):\n",
        "        digits = ds[len(ds) - n:]\n",
        "        if sum(int(d) for d in digits) % 3 == 0:  # if sum of digits is divisible by 3, the number is too\n",
        "            continue\n",
        "        for p in itertools.permutations(digits, n):\n",
        "            s = ''\n",
        "            for d in p:\n",
        "                s += d\n",
        "            if is_prime(int(s)):\n",
        "                return s\n",
        "\n",
        "\n",
        "if __name__ == \"__main__\":\n",
        "    start_time = default_timer()\n",
        "    ans = e41()\n",
        "    end_time = default_timer()\n",
        "    print(f\"{ans} наибольшее n-значное пан-цифровое простое число.\\n\\\n",
        "    На его поиск ушло {end_time - start_time:f} секунд.\")"
      ],
      "execution_count": null,
      "outputs": []
    },
    {
      "cell_type": "markdown",
      "metadata": {
        "id": "pUuxmYayVsax"
      },
      "source": [
        "---\n",
        "# Задача 42. Закодированные треугольные числа\n",
        "\n",
        "n-й член последовательности треугольных чисел задается как tn = ½n(n+1). Таким образом, первые десять треугольных чисел:\n",
        "\n",
        "1, 3, 6, 10, 15, 21, 28, 36, 45, 55, ...\n",
        "\n",
        "Преобразовывая каждую букву в число, соответствующее ее порядковому номеру в алфавите, и складывая эти значения, мы получим числовое значение слова. Для примера, числовое значение слова SKY равно 19 + 11 + 25 = 55 = t10. Если числовое значение слова является треугольным числом, то мы назовем это слово треугольным словом.\n",
        "\n",
        "Используя [words.txt](https://projecteuler.net/project/resources/p042_words.txt) (щелкнуть правой кнопкой мыши и выбрать 'Save Link/Target As...'), 16 КБ текстовый файл, содержащий около двух тысяч часто используемых английских слов, определите, сколько в нем треугольных слов.\n",
        "\n",
        "> См. файл sample_data/p042_words.txt\n",
        "\n",
        "[Оригинал](https://projecteuler.net/problem=42) [На русском](https://euler.jakumo.org/problems/view/42.html)\n",
        "\n",
        "Completed on Sun, 13 Jun 2021, 02:36"
      ]
    },
    {
      "cell_type": "markdown",
      "metadata": {
        "id": "zC6FYyfmJeFF"
      },
      "source": [
        "#####**Вариант 1.** Поиск треугольных чисел в наборе чисел"
      ]
    },
    {
      "cell_type": "code",
      "metadata": {
        "id": "-Ohix4BSWOwE"
      },
      "source": [
        "from timeit import default_timer\n",
        "\n",
        "\n",
        "def triangular_numbers(count: int) -> int:\n",
        "    \"\"\"\n",
        "    Генератор, возвращающий треугольные числа в количестве count штук.\n",
        "\n",
        "    Параметры\n",
        "    =========\n",
        "    count -- количество возвращаемых треугольных чисел\n",
        "\n",
        "    Выход\n",
        "    =====\n",
        "    Треугольное число \n",
        "\n",
        "    Примечание\n",
        "    ==========\n",
        "    n-й член последовательности треугольных чисел задается как tn = ½n(n+1).\n",
        "    Первые десять треугольных чисел:\n",
        "\n",
        "    1, 3, 6, 10, 15, 21, 28, 36, 45, 55, ...\n",
        "\n",
        "    \"\"\"\n",
        "    n = 0\n",
        "    step = 1\n",
        "    for i in range(count):\n",
        "        n += step\n",
        "        step += 1\n",
        "        yield n\n",
        "\n",
        "\n",
        "def numerical_value_of_word(word: str) -> int:\n",
        "    \"\"\"\n",
        "    Преобразовывая каждую букву в число, соответствующее ее порядковому номеру \n",
        "    в алфавите, и складывая эти значения, получается числовое значение слова.\n",
        "\n",
        "    Параметры\n",
        "    =========\n",
        "    word -- слово на английском языке\n",
        "\n",
        "    Выход\n",
        "    =====\n",
        "    Числовое значение слова\n",
        "\n",
        "    Пример\n",
        "    ======\n",
        "    Числовое значение слова SKY равно 19 + 11 + 25 = 55 = t10\n",
        "\n",
        "    \"\"\"\n",
        "    return sum(ord(letter) - 64 for letter in word)\n",
        "\n",
        "\n",
        "def compute() -> int:\n",
        "    cnt_triangular_words = 0\n",
        "    words = list(map(lambda x: x.strip('\"'), \n",
        "                 open('/content/drive/My Drive/ProjectEuler/sample_data/p042_words.txt').read().split(',')))\n",
        "    numbers = list(map(numerical_value_of_word, words))\n",
        "    for tn in triangular_numbers(len(numbers)):\n",
        "        cnt_triangular_words += numbers.count(tn)\n",
        "    return cnt_triangular_words\n",
        "\n",
        "\n",
        "if __name__ == \"__main__\":\n",
        "    start_time = default_timer()\n",
        "    ans = compute()\n",
        "    end_time = default_timer()\n",
        "    print(f\"В анализируемом текстовом файле содержится {ans} треугольных числа.\\n\\\n",
        "    На их поиск ушло {end_time - start_time:f} секунд.\")\n"
      ],
      "execution_count": null,
      "outputs": []
    },
    {
      "cell_type": "markdown",
      "metadata": {
        "id": "HGohLtyHK3nd"
      },
      "source": [
        "#####**Вариант 1.1** Проверка числа из набора чисел на \"треугольность\""
      ]
    },
    {
      "cell_type": "code",
      "metadata": {
        "id": "de6r9zyyK5Bk"
      },
      "source": [
        "from timeit import default_timer\n",
        "\n",
        "\n",
        "def numerical_value_of_word(word: str) -> int:\n",
        "    \"\"\"\n",
        "    Преобразовывая каждую букву в число, соответствующее ее порядковому номеру \n",
        "    в алфавите, и складывая эти значения, получается числовое значение слова.\n",
        "\n",
        "    Параметры\n",
        "    =========\n",
        "    word -- слово на английском языке\n",
        "\n",
        "    Выход\n",
        "    =====\n",
        "    Числовое значение слова\n",
        "\n",
        "    Пример\n",
        "    ======\n",
        "    Числовое значение слова SKY равно 19 + 11 + 25 = 55 = t10\n",
        "\n",
        "    \"\"\"\n",
        "    return sum(ord(letter) - 64 for letter in word)\n",
        "\n",
        "\n",
        "def compute() -> int:\n",
        "    get_n = lambda t: (-1 + (1 + 8*t)**0.5) / 2\n",
        "    cnt_triangular_words = 0\n",
        "    words = list(map(lambda x: x.strip('\"'), \n",
        "                 open('/content/drive/My Drive/ProjectEuler/sample_data/p042_words.txt').read().split(',')))\n",
        "    numbers = map(numerical_value_of_word, words)\n",
        "    for num in numbers:\n",
        "        if get_n(num).is_integer():\n",
        "            cnt_triangular_words += 1\n",
        "    return cnt_triangular_words\n",
        "\n",
        "\n",
        "if __name__ == \"__main__\":\n",
        "    start_time = default_timer()\n",
        "    ans = compute()\n",
        "    end_time = default_timer()\n",
        "    print(f\"В анализируемом текстовом файле содержится {ans} треугольных числа.\\n\\\n",
        "    На их поиск ушло {end_time - start_time:f} секунд.\")"
      ],
      "execution_count": null,
      "outputs": []
    },
    {
      "cell_type": "markdown",
      "metadata": {
        "id": "uEIz6DzFKIEa"
      },
      "source": [
        "#####**Вариант 2.** С просторов интернета."
      ]
    },
    {
      "cell_type": "code",
      "metadata": {
        "id": "1Eh7hHSV44d9"
      },
      "source": [
        "from timeit import default_timer\n",
        "\n",
        "\n",
        "def count_triangle_words():\n",
        "    from math import sqrt\n",
        "    # use build-in `ord` function to find sum of letter indexes\n",
        "    ord_sum = lambda word: sum([ord(ch) - ord('A') + 1 for ch in word])\n",
        "    # root of the quadratic equasion\n",
        "    get_n = lambda t: (-1 + sqrt(1 + 8 * t)) / 2\n",
        "\n",
        "    with open('/content/drive/My Drive/ProjectEuler/sample_data/p042_words.txt') as f:\n",
        "        words = eval(f.read())  # never use eval, it's evil!!! ;)\n",
        "\n",
        "    result = 0\n",
        "    for w in words:\n",
        "        if get_n(ord_sum(w)).is_integer():\n",
        "            result += 1\n",
        "    return result\n",
        "\n",
        "\n",
        "if __name__ == \"__main__\":\n",
        "    start_time = default_timer()\n",
        "    ans = count_triangle_words()\n",
        "    end_time = default_timer()\n",
        "    print(f\"В анализируемом текстовом файле содержится {ans} треугольных числа.\\n\\\n",
        "    На их поиск ушло {end_time - start_time:f} секунд.\")"
      ],
      "execution_count": null,
      "outputs": []
    },
    {
      "cell_type": "markdown",
      "metadata": {
        "id": "spSuMW2-Bcj7"
      },
      "source": [
        "---\n",
        "# Задача 43. Делимость подстрок\n",
        "\n",
        "Число 1406357289, является пан-цифровым, поскольку оно состоит из цифр от 0 до 9 в определенном порядке. Помимо этого, оно также обладает интересным свойством делимости подстрок.\n",
        "\n",
        "Пусть d1 будет 1-й цифрой, d2 будет 2-й цифрой, и т.д. В таком случае, можно заметить следующее:\n",
        "\n",
        "d2d3d4=406 делится на 2 без остатка\n",
        "\n",
        "d3d4d5=063 делится на 3 без остатка\n",
        "\n",
        "d4d5d6=635 делится на 5 без остатка\n",
        "\n",
        "d5d6d7=357 делится на 7 без остатка\n",
        "\n",
        "d6d7d8=572 делится на 11 без остатка\n",
        "\n",
        "d7d8d9=728 делится на 13 без остатка\n",
        "\n",
        "d8d9d10=289 делится на 17 без остатка\n",
        "\n",
        "Найдите сумму всех пан-цифровых чисел из цифр от 0 до 9, обладающих данным свойством.\n",
        "\n",
        "[Оригинал](https://projecteuler.net/problem=43) [На русском](https://euler.jakumo.org/problems/view/43.html)\n",
        "\n",
        "Completed on Mon, 14 Jun 2021, 00:58"
      ]
    },
    {
      "cell_type": "markdown",
      "metadata": {
        "id": "A_ZEA42OZcE6"
      },
      "source": [
        "#####**Вариант 1.** Брутфорс"
      ]
    },
    {
      "cell_type": "code",
      "metadata": {
        "id": "D2vSVsSmB8G2"
      },
      "source": [
        "from timeit import default_timer\n",
        "from itertools import permutations\n",
        "\n",
        "\n",
        "def has_substring_divisibility(n: str) -> bool:\n",
        "    \"\"\"\n",
        "    Определяет обладает ли пан-цифровое число свойством делимости подстрок.\n",
        "\n",
        "    Параметры\n",
        "    =========\n",
        "    n -- пан-цифровое число, представленное строкой\n",
        "\n",
        "    Выход\n",
        "    =====\n",
        "    True -- пан-цифровое число обладаетсвойством делимости подстрок\n",
        "    False -- пан-цифровое число не одладает свойством делимости подстрок\n",
        "\n",
        "    Описание\n",
        "    ========\n",
        "    Число 1406357289, является пан-цифровым\n",
        "    Пусть d1 будет 1-й цифрой, d2 будет 2-й цифрой, и т.д.\n",
        "    В таком случае, можно заметить следующее:\n",
        "    d2d3d4=406 делится на 2 без остатка\n",
        "    d3d4d5=063 делится на 3 без остатка\n",
        "    d4d5d6=635 делится на 5 без остатка\n",
        "    d5d6d7=357 делится на 7 без остатка\n",
        "    d6d7d8=572 делится на 11 без остатка\n",
        "    d7d8d9=728 делится на 13 без остатка\n",
        "    d8d9d10=289 делится на 17 без остатка\n",
        "\n",
        "    \"\"\"\n",
        "    if int(n[1:4]) % 2 == 0:\n",
        "        if int(n[2:5]) % 3 == 0:\n",
        "            if int(n[3:6]) % 5 == 0:\n",
        "                if int(n[4:7]) % 7 == 0:\n",
        "                    if int(n[5:8]) % 11 == 0:\n",
        "                        if int(n[6:9]) % 13 == 0:\n",
        "                            if int(n[7:10]) % 17 == 0:\n",
        "                                return True\n",
        "    return False\n",
        "\n",
        "\n",
        "def compute() -> int:\n",
        "    return sum(int(''.join(pn)) for pn in permutations('0123456789') if has_substring_divisibility(''.join(pn)))\n",
        "\n",
        "\n",
        "if __name__ == \"__main__\":\n",
        "    start_time = default_timer()\n",
        "    ans = compute()\n",
        "    end_time = default_timer()\n",
        "    print(f\"{ans} сумма всех пан-цифровых чисел из цифр от 0 до 9,\\n\\\n",
        "    обладающих свойством делимости подстрок.\\n\\\n",
        "    На ее поиск ушло {end_time - start_time:f} секунд.\")"
      ],
      "execution_count": null,
      "outputs": []
    },
    {
      "cell_type": "markdown",
      "metadata": {
        "id": "jgvw2ZkfsKui"
      },
      "source": [
        "---\n",
        "# Задача 44. Пятиугольные числа\n",
        "\n",
        "Пятиугольные числа вычисляются по формуле: Pn=n(3n−1)/2. Первые десять пятиугольных чисел:\n",
        "\n",
        "1, 5, 12, 22, 35, 51, 70, 92, 117, 145, ...\n",
        "\n",
        "Можно убедиться в том, что P4 + P7 = 22 + 70 = 92 = P8. Однако, их разность, 70 − 22 = 48, не является пятиугольным числом.\n",
        "\n",
        "Найдите пару пятиугольных чисел Pj и Pk, для которых сумма и разность являются пятиугольными числами и значение D = |Pk − Pj| минимально, и дайте значение D в качестве ответа.\n",
        "\n",
        "[Оригинал](https://projecteuler.net/problem=44) [На русском](https://euler.jakumo.org/problems/view/44.html)\n",
        "\n",
        "Completed on Wed, 23 Jun 2021, 01:07"
      ]
    },
    {
      "cell_type": "markdown",
      "metadata": {
        "id": "yJ3FE7ZWvrdD"
      },
      "source": [
        "#####**Вариант 1.** NumPy"
      ]
    },
    {
      "cell_type": "code",
      "metadata": {
        "id": "5pfSnFlyvojF"
      },
      "source": [
        "from timeit import default_timer\n",
        "import numpy as np\n",
        "\n",
        "\n",
        "def not_is_pentagonal_number(num: int) -> bool:\n",
        "    \"\"\"\n",
        "    Определяет, что число не является пятиугольным.\n",
        "\n",
        "    Параметры\n",
        "    =========\n",
        "    num -- число для анализа \n",
        "\n",
        "    Выход\n",
        "    =====\n",
        "    True -- если число не является пятиугольным \n",
        "    False -- если число явлется пятиугольным  \n",
        "\n",
        "    \"\"\"\n",
        "    n = (1 + (1 + 24*num)**0.5) / 6\n",
        "    if n.is_integer():\n",
        "        return False\n",
        "    return True\n",
        "\n",
        "\n",
        "def compute() -> int:\n",
        "    m = []\n",
        "    for i in  range(1, 2170):\n",
        "        m += [(3 * i**2 - i) // 2]\n",
        "    \n",
        "    func = np.vectorize(not_is_pentagonal_number)\n",
        "    a = np.array(m*len(m)).reshape(len(m), len(m))\n",
        "    b = a.T.copy()\n",
        "    c = (a - b)[np.triu_indices(len(m), k=1)]\n",
        "    d = (a + b)[np.triu_indices(len(m), k=1)]\n",
        "    c[func(c)] = 0\n",
        "    c[func(d)] = 0\n",
        "    return c[c != 0].min()\n",
        "\n",
        "\n",
        "if __name__ == \"__main__\":\n",
        "    start_time = default_timer()\n",
        "    ans = compute()\n",
        "    end_time = default_timer()\n",
        "    print(f\"{ans} минимальная разность пятиугольных чисел,\\n\\\n",
        "    для которых сумма и разность являются пятиугольными числами.\\n\\\n",
        "    На ее поиск ушло {end_time - start_time:f} секунд.\")"
      ],
      "execution_count": null,
      "outputs": []
    },
    {
      "cell_type": "markdown",
      "metadata": {
        "id": "2XD95zaLveAi"
      },
      "source": [
        "#####**Вариант 2.** С просторов интернета"
      ]
    },
    {
      "cell_type": "code",
      "metadata": {
        "id": "CyugHB5SjdPk"
      },
      "source": [
        "from timeit import default_timer\n",
        "\n",
        "\n",
        "def get_D():\n",
        "    from math import sqrt\n",
        "\n",
        "    P = lambda n: n * (3 * n - 1) // 2  # pentagonal number\n",
        "\n",
        "    p = 1           # let D = p(3p-1)/2\n",
        "    while True:     # loop for p = 1, 2...\n",
        "        D = P(p)        # difference P(k) - P(j)\n",
        "        m, j = 1, 1     # initial m; j can be any >= 1, to enter while loop\n",
        "        while j >= 1:   # loop for m = 1, 2..., exit if j<1\n",
        "            j = (D - P(m)) / (3 * m)\n",
        "            if j >= 1 and j.is_integer():\n",
        "                # j is Natural, so check S = P(k) + P(j) to be pentagonal\n",
        "                S = 2 * P(j) + D\n",
        "                q = (1 + sqrt(1 + 24 * S)) / 6  # let S = q(3q-1)/2\n",
        "                if q.is_integer():\n",
        "                    # q is Natural, so that is the result\n",
        "                    return D\n",
        "            m += 1\n",
        "        p += 1\n",
        "\n",
        "\n",
        "if __name__ == \"__main__\":\n",
        "    start_time = default_timer()\n",
        "    ans = get_D()\n",
        "    end_time = default_timer()\n",
        "    print(f\"{ans} минимальная разность пятиугольных чисел,\\n\\\n",
        "    для которых сумма и разность являются пятиугольными числами.\\n\\\n",
        "    На ее поиск ушло {end_time - start_time:f} секунд.\")"
      ],
      "execution_count": null,
      "outputs": []
    },
    {
      "cell_type": "markdown",
      "metadata": {
        "id": "aG_ET1t6ybTW"
      },
      "source": [
        "---\n",
        "# Задача 45. Треугольные, пятиугольные и шестиугольные\n",
        "\n",
        "Треугольные, пятиугольные и шестиугольные числа вычисляются по нижеследующим формулам:\n",
        "\n",
        "Треугольные\t \t    Tn=n(n+1)/2\t \t1, 3, 6, 10, 15, ...\n",
        "\n",
        "Пятиугольные\t \tPn=n(3n−1)/2\t \t1, 5, 12, 22, 35, ...\n",
        "\n",
        "Шестиугольные\t \tHn=n(2n−1)\t \t1, 6, 15, 28, 45, ...\n",
        "\n",
        "Можно убедиться в том, что \n",
        "\n",
        "> T285 = P165 = H143 = 40755.\n",
        "\n",
        "Найдите следующее треугольное число, являющееся также пятиугольным и шестиугольным.\n",
        "\n",
        "[Оригинал](https://projecteuler.net/problem=45) [На русском](https://euler.jakumo.org/problems/view/45.html)\n",
        "\n",
        "Completed on Sat, 3 Jul 2021, 15:33\n"
      ]
    },
    {
      "cell_type": "markdown",
      "metadata": {
        "id": "z0rX4BYlXXiT"
      },
      "source": [
        "#####**Вариант 1.** Проверка числа (брутфорс). Очень долгий (> 12 мин.)"
      ]
    },
    {
      "cell_type": "code",
      "metadata": {
        "id": "_YWRTLMhTdQn"
      },
      "source": [
        "from timeit import default_timer\n",
        "from itertools import permutations\n",
        "\n",
        "\n",
        "def compute() -> int:\n",
        "    t = lambda c: (-1 + (1 + 8*c)**0.5) / 2  # Номер треугольного числа\n",
        "    p = lambda c: (1 + (1 + 24*c)**0.5) / 6  # Номер пятиугольного числа  \n",
        "    h = lambda c: (1 + (1 + 8*c)**0.5) / 4   # Номер шестиугольного числа\n",
        "\n",
        "    n = 40755\n",
        "    while 1:\n",
        "        n += 1\n",
        "        if t(n).is_integer() and p(n).is_integer() and h(n).is_integer():\n",
        "            return n\n",
        "\n",
        "\n",
        "if __name__ == \"__main__\":\n",
        "    start_time = default_timer()\n",
        "    ans = compute()\n",
        "    end_time = default_timer()\n",
        "    print(f\"{ans} следующее треугольное число после 40755,\\n\\\n",
        "    являющееся также пятиугольным и шестиугольным.\\n\\\n",
        "    На его поиск ушло {end_time - start_time:f} секунд.\")"
      ],
      "execution_count": null,
      "outputs": []
    },
    {
      "cell_type": "markdown",
      "metadata": {
        "id": "UsjGnxmfX86j"
      },
      "source": [
        "#####**Вариант 2.** Проверка треугольного числа"
      ]
    },
    {
      "cell_type": "code",
      "metadata": {
        "id": "GwslqIRlX9rZ"
      },
      "source": [
        "from timeit import default_timer\n",
        "\n",
        "\n",
        "def compute() -> int:\n",
        "    T = lambda n: (n**2 + n) // 2  # Треугольное число\n",
        "    p = lambda c: (1 + (1 + 24*c)**0.5) / 6  # Номер пятиугольного числа\n",
        "    h = lambda c: (1 + (1 + 8*c)**0.5) / 4  # Номер шестиугольного числа\n",
        "\n",
        "    n = 285\n",
        "    while 1:\n",
        "        n += 1\n",
        "        Tn = T(n)\n",
        "        if p(Tn).is_integer() and h(Tn).is_integer():\n",
        "            return Tn\n",
        "\n",
        "\n",
        "if __name__ == \"__main__\":\n",
        "    start_time = default_timer()\n",
        "    ans = compute()\n",
        "    end_time = default_timer()\n",
        "    print(f\"{ans} следующее треугольное число после 40755,\\n\\\n",
        "    являющееся также пятиугольным и шестиугольным.\\n\\\n",
        "    На его поиск ушло {end_time - start_time:f} секунд.\")"
      ],
      "execution_count": null,
      "outputs": []
    },
    {
      "cell_type": "markdown",
      "metadata": {
        "id": "MtIF_ao5bhNm"
      },
      "source": [
        "#####**Вариант 3.** Проверка шестиугольного числа"
      ]
    },
    {
      "cell_type": "code",
      "metadata": {
        "id": "FRHTl4v2bh0_"
      },
      "source": [
        "from timeit import default_timer\n",
        "\n",
        "\n",
        "def compute() -> int:\n",
        "    t = lambda c: (-1 + (1 + 8*c)**0.5) / 2  # Номер треугольного числа \n",
        "    p = lambda c: (1 + (1 + 24*c)**0.5) / 6  # Номер пятиугольного числа\n",
        "    H = lambda n: 2 * n**2 - n  # Шестиугольное число\n",
        "\n",
        "    n = 285\n",
        "    while 1:\n",
        "        n += 1\n",
        "        Hn = H(n)\n",
        "        if p(Hn).is_integer() and t(Hn).is_integer():\n",
        "            return Hn\n",
        "\n",
        "\n",
        "if __name__ == \"__main__\":\n",
        "    start_time = default_timer()\n",
        "    ans = compute()\n",
        "    end_time = default_timer()\n",
        "    print(f\"{ans} следующее треугольное число после 40755,\\n\\\n",
        "    являющееся также пятиугольным и шестиугольным.\\n\\\n",
        "    На его поиск ушло {end_time - start_time:f} секунд.\")"
      ],
      "execution_count": null,
      "outputs": []
    },
    {
      "cell_type": "markdown",
      "metadata": {
        "id": "r52C5TD7Ue9v"
      },
      "source": [
        "---\n",
        "# Задача 46.  \n",
        "\n",
        "Кристиан Гольдбах показал, что любое нечетное составное число можно записать в виде суммы простого числа и удвоенного квадрата.\n",
        "\n",
        "9 = 7 + 2×1^2\n",
        "\n",
        "15 = 7 + 2×2^2\n",
        "\n",
        "21 = 3 + 2×3^2\n",
        "\n",
        "25 = 7 + 2×3^2\n",
        "\n",
        "27 = 19 + 2×2^2\n",
        "\n",
        "33 = 31 + 2×1^2\n",
        "\n",
        "Оказалось, что данная гипотеза неверна.\n",
        "\n",
        "Каково наименьшее нечетное составное число, которое нельзя записать в виде суммы простого числа и удвоенного квадрата?\n",
        "\n",
        "[Оригинал](https://projecteuler.net/problem=46) [На русском](https://euler.jakumo.org/problems/view/46.html)\n",
        "\n",
        "Completed on Sun, 4 Jul 2021, 01:08"
      ]
    },
    {
      "cell_type": "markdown",
      "metadata": {
        "id": "1I4tR1mY5Os8"
      },
      "source": [
        "#####**Вариант 1.** Подбор простого числа и удвоенного квадрата через формулу"
      ]
    },
    {
      "cell_type": "code",
      "metadata": {
        "id": "4uumLEO2lkzq"
      },
      "source": [
        "from timeit import default_timer\n",
        "from sympy import isprime\n",
        "\n",
        "\n",
        "def prime_numbers() -> int:\n",
        "    \"\"\"\n",
        "    Генератор, возвращающий простое число в порядке возрастания.\n",
        "\n",
        "    Параметры\n",
        "    =========\n",
        "    Нет\n",
        "\n",
        "    Выход\n",
        "    =====\n",
        "    Простое число\n",
        "\n",
        "    Описание\n",
        "    ========\n",
        "    Для работы функции необходима установленная библиотека sympy.\n",
        "\n",
        "    \"\"\"\n",
        "    n = 1\n",
        "    yield 2\n",
        "    while 1:\n",
        "        n += 2\n",
        "        if isprime(n):\n",
        "            yield n\n",
        "\n",
        "\n",
        "def odd_composite_numbers() -> int:\n",
        "    \"\"\"\n",
        "    Генератор, возвращающий нечетное составное число в порядке возрастания.\n",
        "\n",
        "    Параметры\n",
        "    =========\n",
        "    Нет\n",
        "\n",
        "    Выход\n",
        "    =====\n",
        "    Нечетное составное число\n",
        "\n",
        "    Описание\n",
        "    ========\n",
        "    Для работы функции необходима установленная библиотека sympy.\n",
        "\n",
        "    \"\"\"\n",
        "    n = 9\n",
        "    while 1:\n",
        "        if not isprime(n):\n",
        "            yield n\n",
        "        n += 2\n",
        "\n",
        "\n",
        "def compute() -> int:\n",
        "    odd_composites = odd_composite_numbers()\n",
        "    exist = True\n",
        "    while exist:\n",
        "        n = next(odd_composites)\n",
        "        exist = False  # Предполагаем, что n и есть искомое число \n",
        "        primes = prime_numbers()\n",
        "        while not exist:  # Проверяем истинность предположения\n",
        "            p = next(primes)\n",
        "            if p >= n:\n",
        "                break\n",
        "            for m in range(1, int(((n - p) // 2) ** 0.5) + 1):\n",
        "                if n == p + 2 * m**2:\n",
        "                    exist = True                  \n",
        "    return n\n",
        "              \n",
        "\n",
        "if __name__ == \"__main__\":\n",
        "    start_time = default_timer()\n",
        "    ans = compute()\n",
        "    end_time = default_timer()\n",
        "    print(f\"{ans} наименьшее нечетное составное число, которое нельзя\\n\\\n",
        "    записать в виде суммы простого числа и удвоенного квадрата.\\n\\\n",
        "    На его поиск ушло {end_time - start_time:f} секунд.\")"
      ],
      "execution_count": null,
      "outputs": []
    },
    {
      "cell_type": "markdown",
      "metadata": {
        "id": "TiuENbeOcHZ4"
      },
      "source": [
        "#####**Вариант 2.** С просторов интернета"
      ]
    },
    {
      "cell_type": "code",
      "metadata": {
        "id": "8_7bogZGCR0V"
      },
      "source": [
        "from timeit import default_timer\n",
        "\n",
        "\n",
        "def is_prime(n):\n",
        "\n",
        "    if n in (2, 3):\n",
        "        return True\n",
        "    \n",
        "    if not n % 2 or not n % 3:\n",
        "        return False\n",
        "\n",
        "    k = 6\n",
        "    limit = int(n**0.5)\n",
        "    while k - 1 <= limit:\n",
        "        if not n % (k - 1) or not n % (k + 1):\n",
        "            return False\n",
        "        k += 6\n",
        "\n",
        "    return True\n",
        "\n",
        "\n",
        "def primes_below(n):\n",
        "\n",
        "    for m in range(n, 2, -1):\n",
        "        if is_prime(m):\n",
        "            yield m\n",
        "\n",
        "\n",
        "def odd_composites():\n",
        "\n",
        "    n = 9\n",
        "    while True:\n",
        "        if not is_prime(n):\n",
        "            yield n\n",
        "        n += 2\n",
        "\n",
        "\n",
        "def smallest():\n",
        "\n",
        "    for n in odd_composites():\n",
        "        for p in primes_below(n):\n",
        "            k = 1\n",
        "            x = p + 2*(k**2)\n",
        "            while  x <= n:\n",
        "                if x == n:\n",
        "                    break\n",
        "                k += 1\n",
        "                x = p + 2*(k**2)\n",
        "            else:\n",
        "                continue\n",
        "            break\n",
        "        else:\n",
        "            return n\n",
        "\n",
        "\n",
        "if __name__ == \"__main__\":\n",
        "    start_time = default_timer()\n",
        "    ans = smallest()\n",
        "    end_time = default_timer()\n",
        "    print(f\"{ans} наименьшее нечетное составное число, которое нельзя\\n\\\n",
        "    записать в виде суммы простого числа и удвоенного квадрата.\\n\\\n",
        "    На его поиск ушло {end_time - start_time:f} секунд.\")"
      ],
      "execution_count": null,
      "outputs": []
    },
    {
      "cell_type": "markdown",
      "metadata": {
        "id": "or5gXQn_8IZ0"
      },
      "source": [
        "#####**Вариант 3.** На основе варианта из интернета"
      ]
    },
    {
      "cell_type": "code",
      "metadata": {
        "id": "31aqWgI38VTm"
      },
      "source": [
        "from timeit import default_timer\n",
        "from sympy import isprime\n",
        "\n",
        "\n",
        "def primes_below(n: int) -> int:\n",
        "    \"\"\"\n",
        "    Генератор, возвращающий простое число не более n в порядке убывания.\n",
        "\n",
        "    Параметры\n",
        "    =========\n",
        "    Нет\n",
        "\n",
        "    Выход\n",
        "    =====\n",
        "    Простое число\n",
        "\n",
        "    Описание\n",
        "    ========\n",
        "    Для работы функции необходима установленная библиотека sympy.\n",
        "\n",
        "    \"\"\"\n",
        "    for m in range(n, 2, -1):\n",
        "        if isprime(m):\n",
        "            yield m\n",
        "\n",
        "\n",
        "def odd_composite_numbers() -> int:\n",
        "    \"\"\"\n",
        "    Генератор, возвращающий нечетное составное число в порядке возрастания.\n",
        "\n",
        "    Параметры\n",
        "    =========\n",
        "    Нет\n",
        "\n",
        "    Выход\n",
        "    =====\n",
        "    Нечетное составное число\n",
        "\n",
        "    Описание\n",
        "    ========\n",
        "    Для работы функции необходима установленная библиотека sympy.\n",
        "\n",
        "    \"\"\"\n",
        "    n = 9\n",
        "    while 1:\n",
        "        if not isprime(n):\n",
        "            yield n\n",
        "        n += 2\n",
        "\n",
        "\n",
        "def compute() -> int:\n",
        "    for n in odd_composite_numbers():\n",
        "        for p in primes_below(n):\n",
        "            if p >= n:\n",
        "                return n\n",
        "            limit = int(((n - p) // 2) ** 0.5) + 1 \n",
        "            for m in range(1, limit):\n",
        "                x = p + 2 * m**2\n",
        "                if x >= n:\n",
        "                    break\n",
        "            else:\n",
        "                continue\n",
        "            break\n",
        "        else:\n",
        "            return n\n",
        "              \n",
        "\n",
        "if __name__ == \"__main__\":\n",
        "    start_time = default_timer()\n",
        "    ans = compute()\n",
        "    end_time = default_timer()\n",
        "    print(f\"{ans} наименьшее нечетное составное число, которое нельзя\\n\\\n",
        "    записать в виде суммы простого числа и удвоенного квадрата.\\n\\\n",
        "    На его поиск ушло {end_time - start_time:f} секунд.\")"
      ],
      "execution_count": null,
      "outputs": []
    },
    {
      "cell_type": "markdown",
      "metadata": {
        "id": "rXbcnqsyR2by"
      },
      "source": [
        "#####**Заметка.**"
      ]
    },
    {
      "cell_type": "markdown",
      "metadata": {
        "id": "c9Y0f8GePmZ1"
      },
      "source": [
        "Вариант 2 работает быстрее, чем реализованный на его основе вариант 3. \n",
        "\n",
        "Если в варианте 3 использовать функцию is_prime из варианта 2, то результат выполнения тот же, что и в варианте 2. \n",
        "\n",
        "Но если протестировать функцию isprime из библиотеки sympy, то она работает быстрее функции, представленной в варианте 2. Тестирование проводилось на подсчете количества простых чисел на промежутке от 1 до 10^7."
      ]
    },
    {
      "cell_type": "markdown",
      "metadata": {
        "id": "jCaD5HYdPNb0"
      },
      "source": [
        "#####**Дополнение 1.** Тестирование функции isprime из библиотеки sympy"
      ]
    },
    {
      "cell_type": "code",
      "metadata": {
        "id": "RR6r1vfYJYvE"
      },
      "source": [
        "from timeit import default_timer\n",
        "from sympy import isprime\n",
        "\n",
        "\n",
        "def compute() -> int:\n",
        "    count = 0\n",
        "    for i in range(10**7):\n",
        "        if isprime(i): count += 1\n",
        "    return count\n",
        "              \n",
        "\n",
        "if __name__ == \"__main__\":\n",
        "    start_time = default_timer()\n",
        "    ans = compute()\n",
        "    end_time = default_timer()\n",
        "    print(f\"Найдено {ans} простых чисел за {end_time - start_time:f} секунд.\")"
      ],
      "execution_count": null,
      "outputs": []
    },
    {
      "cell_type": "markdown",
      "metadata": {
        "id": "LrivQ-EsP1SG"
      },
      "source": [
        "#####**Дополнение 2.** Тестирование функции is_prime из примера в интернете, представленного в варианте 2"
      ]
    },
    {
      "cell_type": "code",
      "metadata": {
        "id": "Gs2OSxlPJghl"
      },
      "source": [
        "from timeit import default_timer\n",
        "\n",
        "\n",
        "def is_prime(n):\n",
        "\n",
        "    if n in (2, 3):\n",
        "        return True\n",
        "    \n",
        "    if not n % 2 or not n % 3:\n",
        "        return False\n",
        "\n",
        "    k = 6\n",
        "    limit = int(n**0.5)\n",
        "    while k - 1 <= limit:\n",
        "        if not n % (k - 1) or not n % (k + 1):\n",
        "            return False\n",
        "        k += 6\n",
        "\n",
        "    return True\n",
        "\n",
        "\n",
        "def compute() -> int:\n",
        "    count = 0\n",
        "    for i in range(10**7):\n",
        "        if is_prime(i): count += 1\n",
        "    return count\n",
        "              \n",
        "\n",
        "if __name__ == \"__main__\":\n",
        "    start_time = default_timer()\n",
        "    ans = compute()\n",
        "    end_time = default_timer()\n",
        "    print(f\"Найдено {ans} простых чисел за {end_time - start_time:f} секунд.\")"
      ],
      "execution_count": null,
      "outputs": []
    },
    {
      "cell_type": "markdown",
      "metadata": {
        "id": "ohyqnGtRTObg"
      },
      "source": [
        "---\n",
        "# Задача 47. Различные простые множители\n",
        "\n",
        "Первые два последовательные числа, каждое из которых имеет два отличных друг от друга простых множителя:\n",
        "\n",
        "14 = 2 × 7\n",
        "\n",
        "15 = 3 × 5\n",
        "\n",
        "Первые три последовательные числа, каждое из которых имеет три отличных друг от друга простых множителя:\n",
        "\n",
        "644 = 2² × 7 × 23\n",
        "\n",
        "645 = 3 × 5 × 43\n",
        "\n",
        "646 = 2 × 17 × 19.\n",
        "\n",
        "Найдите первые четыре последовательных числа, каждое из которых имеет четыре отличных друг от друга простых множителя. Каким будет первое число?\n",
        "\n",
        "[Оригинал](https://projecteuler.net/problem=47) [На русском](https://euler.jakumo.org/problems/view/47.html)\n",
        "\n",
        "Completed on Fri, 30 Jul 2021, 01:58"
      ]
    },
    {
      "cell_type": "markdown",
      "metadata": {
        "id": "Da9SHfleW8cK"
      },
      "source": [
        "#####**Вариант 1.** Брутфорс"
      ]
    },
    {
      "cell_type": "code",
      "metadata": {
        "id": "QiXdMN0ja-M2"
      },
      "source": [
        "from typing import List\n",
        "from timeit import default_timer\n",
        "import numpy as np\n",
        "\n",
        "\n",
        "def reverse_sieve_eratosthenes(n: int) -> List[int]:\n",
        "    \"\"\"\n",
        "    Формирует обратное Решето Эратосфена, т.е. оставляет только составные числа.\n",
        "\n",
        "    Параметры\n",
        "    =========\n",
        "    n -- до какого числа искать составные числа\n",
        "\n",
        "    Выход\n",
        "    =====\n",
        "    Список составных чисел до n\n",
        "\n",
        "    Описание\n",
        "    ========\n",
        "    Для работы функции необходима установленная библиотека numpy.\n",
        "\n",
        "    \"\"\"\n",
        "    sieve = np.zeros(n + 1, dtype=bool)\n",
        "    value = np.arange(n + 1)\n",
        "    i = 2\n",
        "    while i**2 <= n:\n",
        "        if sieve[i] == False:\n",
        "            p = 0\n",
        "            j = i ** 2\n",
        "            while j <= n:\n",
        "                sieve[j] = True\n",
        "                j = i**2 + p*i\n",
        "                p += 1\n",
        "        i += 1\n",
        "    return value[sieve]\n",
        "\n",
        "\n",
        "def get_multipliers(n: int) -> List[int]:\n",
        "    \"\"\"\n",
        "    Факторизация числа n.\n",
        "\n",
        "    Параметры\n",
        "    =========\n",
        "    n -- число, которое необходимо разложить в произведение простых множителей\n",
        "\n",
        "    Выход\n",
        "    =====\n",
        "    Список простых множителей\n",
        "\n",
        "    Описание\n",
        "    ========\n",
        "    На вход подается некоторое натуральное число n, которое методом перебора\n",
        "    делителей находит все простые делители числа n, произведение которых равно\n",
        "    числу n.\n",
        "\n",
        "    \"\"\"\n",
        "    prime_list = []\n",
        "    while n % 2 == 0:\n",
        "        prime_list.append(2)\n",
        "        n //= 2\n",
        "\n",
        "    for i in range(3, int(n **0.5) + 1, 2):\n",
        "        while n % i == 0:\n",
        "            prime_list.append(int(i))\n",
        "            n //= i\n",
        "\n",
        "    if n > 2:\n",
        "        prime_list.append(n)\n",
        "\n",
        "    return prime_list\n",
        "\n",
        "\n",
        "def compute() -> int:\n",
        "    a = reverse_sieve_eratosthenes(300_000)\n",
        "    i = 0\n",
        "    while i <= len(a) - 4:\n",
        "        if a[i] + 3 == a[i + 3]:\n",
        "            for k, val in enumerate(a[i:i + 4]):\n",
        "                if len(set(get_multipliers(val))) != 4:\n",
        "                    i = i + k + 1\n",
        "                    break\n",
        "            else:\n",
        "                return a[i]\n",
        "        i += 1\n",
        "    return 0\n",
        "              \n",
        "\n",
        "if __name__ == \"__main__\":\n",
        "    start_time = default_timer()\n",
        "    ans = compute()\n",
        "    end_time = default_timer()\n",
        "    print(f\"{ans} - первое число из первых четырех последовательных чисел,\\n\\\n",
        "    каждое из которых имеет четыре отличных друг от друга простых множителя.\\n\\\n",
        "    На его поиск ушло {end_time - start_time:f} секунд.\")"
      ],
      "execution_count": null,
      "outputs": []
    },
    {
      "cell_type": "markdown",
      "metadata": {
        "id": "U7fxRAXk0a-C"
      },
      "source": [
        "#####**Вариант 2.** С просторов интернета"
      ]
    },
    {
      "cell_type": "code",
      "metadata": {
        "id": "fEsVafzsfzbN"
      },
      "source": [
        "from timeit import default_timer\n",
        "import numpy as np\n",
        "\n",
        "\n",
        "def compute() -> int:\n",
        "    limit = 200000\n",
        "    sieve = np.full(limit + 1, 0)\n",
        "    for n in range(2, limit):\n",
        "        if not sieve[n]:\n",
        "            sieve[n::n] += 1\n",
        "    return \"\".join(map(str, sieve)).find(\"4444\")\n",
        "              \n",
        "\n",
        "if __name__ == \"__main__\":\n",
        "    start_time = default_timer()\n",
        "    ans = compute()\n",
        "    end_time = default_timer()\n",
        "    print(f\"{ans} - первое число из первых четырех последовательных чисел,\\n\\\n",
        "    каждое из которых имеет четыре отличных друг от друга простых множителя.\\n\\\n",
        "    На его поиск ушло {end_time - start_time:f} секунд.\")\n"
      ],
      "execution_count": null,
      "outputs": []
    },
    {
      "cell_type": "markdown",
      "metadata": {
        "id": "IQCv5CM1utta"
      },
      "source": [
        "---\n",
        "# Задача 48. Собственные степени\n",
        "\n",
        "Сумма 1^1 + 2^2 + 3^3 + ... + 10^10 = 10405071317.\n",
        "\n",
        "Найдите последние десять цифр суммы 1^1 + 2^2 + 3^3 + ... + 1000^1000.\n",
        "\n",
        "[Оригинал](https://projecteuler.net/problem=48) [На русском](https://euler.jakumo.org/problems/view/48.html)\n",
        "\n",
        "Completed on Sun, 8 Aug 2021, 00:38"
      ]
    },
    {
      "cell_type": "code",
      "metadata": {
        "id": "B__ykJi7T0jJ"
      },
      "source": [
        "from timeit import default_timer\n",
        "\n",
        "\n",
        "def compute() -> str:\n",
        "    return str(sum(x ** x for x in range(1, 1001)))[-10:]\n",
        "              \n",
        "\n",
        "if __name__ == \"__main__\":\n",
        "    start_time = default_timer()\n",
        "    ans = compute()\n",
        "    end_time = default_timer()\n",
        "    print(f\"{ans} - последние десять цифр суммы\\n\\\n",
        "    1^1 + 2^2 + 3^3 + ... + 1000^1000.\\n\\\n",
        "    На их поиск ушло {end_time - start_time:f} секунд.\")"
      ],
      "execution_count": null,
      "outputs": []
    },
    {
      "cell_type": "markdown",
      "metadata": {
        "id": "DnSl2ivvmHIw"
      },
      "source": [
        "---\n",
        "# Задача 49. Перестановки простых чисел\n",
        "\n",
        "Арифметическая прогрессия: 1487, 4817, 8147, в которой каждый член возрастает на 3330, необычна в двух отношениях: \n",
        "\n",
        "1.   каждый из трех членов является простым числом;\n",
        "2.   все три четырехзначные числа являются перестановками друг друга.\n",
        "\n",
        "Не существует арифметических прогрессий из трех однозначных, двухзначных и трехзначных простых чисел, демонстрирующих это свойство. Однако, существует еще одна четырехзначная возрастающая арифметическая прогрессия.\n",
        "\n",
        "Какое 12-значное число образуется, если объединить три члена этой прогрессии?\n",
        "\n",
        "[Оригинал](https://projecteuler.net/problem=49) [На русском](https://euler.jakumo.org/problems/view/49.html)\n",
        "\n",
        "Completed on Thu, 12 Aug 2021, 00:30"
      ]
    },
    {
      "cell_type": "code",
      "metadata": {
        "id": "MtPUDthkT8jG"
      },
      "source": [
        "from typing import List\n",
        "from timeit import default_timer\n",
        "import numpy as np\n",
        "from itertools import permutations\n",
        "\n",
        "\n",
        "def sieve_eratosthenes(n: int) -> List[int]:\n",
        "    \"\"\"\n",
        "    Формирует Решето Эратосфена до некоторого целого числа n.\n",
        "\n",
        "    Параметры\n",
        "    =========\n",
        "    n -- до какого числа искать простые числа\n",
        "\n",
        "    Выход\n",
        "    =====\n",
        "    Список простых чисел до n\n",
        "\n",
        "    Описание\n",
        "    ========\n",
        "    Решето Эратосфена — алгоритм нахождения всех простых чисел до некоторого \n",
        "    целого числа n. Для работы функции необходима установленная библиотека \n",
        "    numpy.\n",
        "\n",
        "    \"\"\"\n",
        "    sieve = np.ones(n + 1, dtype=bool)\n",
        "    value = np.arange(n + 1)\n",
        "    i = 2\n",
        "    while i**2 <= n:\n",
        "        if sieve[i] == True:\n",
        "            p = 0\n",
        "            j = i ** 2\n",
        "            while j <= n:\n",
        "                sieve[j] = False\n",
        "                j = i**2 + p*i\n",
        "                p += 1\n",
        "        i += 1\n",
        "    return value[sieve][2:]\n",
        "\n",
        "\n",
        "def compute() -> str:\n",
        "    stop_list = [1487, 4817, 8147]\n",
        "    primes = set(sieve_eratosthenes(10000)[168:])\n",
        "    for prime in primes:\n",
        "        # Множество перестановок из простого четырехзначного числа\n",
        "        A = set(list(map(int, map(\"\".join, list(permutations(str(prime), 4))))))\n",
        "        # Потенциальные простые числа арифметической прогрессии\n",
        "        B = list(sorted(primes & A))\n",
        "        if len(B) >= 3 :\n",
        "            for i in range(len(B) - 2):\n",
        "                n1 = B[i]  # Условный первый член прогрессии\n",
        "                for j in range(i + 2, len(B)):\n",
        "                    n3 = B[j]  # Условный третий член прогркссии\n",
        "                    m = (n3 - n1) / 2  #  Шаг прогрессии\n",
        "                    n2 = n1 + m  # Условный второй член прогресии\n",
        "                    if n2 in B and n2 not in stop_list: \n",
        "                        return f\"{n1}{int(n2)}{n3}\"\n",
        "              \n",
        "\n",
        "if __name__ == \"__main__\":\n",
        "    start_time = default_timer()\n",
        "    ans = compute()\n",
        "    end_time = default_timer()\n",
        "    print(f\"{ans} - 12-значное число образующееся, если объединить три члена\\n\\\n",
        "    четырехзначной возрастающей арифметической прогрессии.\\n\\\n",
        "    На его поиск ушло {end_time - start_time:f} секунд.\")"
      ],
      "execution_count": null,
      "outputs": []
    },
    {
      "cell_type": "markdown",
      "metadata": {
        "id": "5CKEhqH76IYV"
      },
      "source": [
        "---\n",
        "# Задача 50. Сумма последовательных простых чисел  \n",
        "\n",
        "Простое число 41 можно записать в виде суммы шести последовательных простых чисел:\n",
        "\n",
        "41 = 2 + 3 + 5 + 7 + 11 + 13\n",
        "\n",
        "Это - самая длинная сумма последовательных простых чисел, в результате которой получается простое число меньше одной сотни.\n",
        "\n",
        "Самая длинная сумма последовательных простых чисел, в результате которой получается простое число меньше одной тысячи, содержит 21 слагаемое и равна 953.\n",
        "\n",
        "Какое из простых чисел меньше одного миллиона можно записать в виде суммы наибольшего количества последовательных простых чисел?\n",
        "\n",
        "\n",
        "[Оригинал](https://projecteuler.net/problem=50) [На русском](https://euler.jakumo.org/problems/view/50.html)\n",
        "\n",
        "Completed on Sun, 15 Aug 2021, 10:47"
      ]
    },
    {
      "cell_type": "markdown",
      "metadata": {
        "id": "BjMzPQyhKMel"
      },
      "source": [
        "#####**Вариант 1.** Решето Эратосфена"
      ]
    },
    {
      "cell_type": "code",
      "metadata": {
        "id": "uxs3Rno1PmZC"
      },
      "source": [
        "from typing import List, Tuple\n",
        "from timeit import default_timer\n",
        "import numpy as np\n",
        "from itertools import permutations\n",
        "from math import log10\n",
        "\n",
        "\n",
        "def sieve_eratosthenes(n: int) -> List[int]:\n",
        "    \"\"\"\n",
        "    Формирует Решето Эратосфена до некоторого целого числа n.\n",
        "\n",
        "    Параметры\n",
        "    =========\n",
        "    n -- до какого числа искать простые числа\n",
        "\n",
        "    Выход\n",
        "    =====\n",
        "    Список простых чисел до n\n",
        "\n",
        "    Описание\n",
        "    ========\n",
        "    Решето Эратосфена — алгоритм нахождения всех простых чисел до некоторого \n",
        "    целого числа n. Для работы функции необходима установленная библиотека \n",
        "    numpy.\n",
        "\n",
        "    \"\"\"\n",
        "    sieve = np.ones(n + 1, dtype=bool)\n",
        "    value = np.arange(n + 1)\n",
        "    i = 2\n",
        "    while i**2 <= n:\n",
        "        if sieve[i] == True:\n",
        "            p = 0\n",
        "            j = i ** 2\n",
        "            while j <= n:\n",
        "                sieve[j] = False\n",
        "                j = i**2 + p*i\n",
        "                p += 1\n",
        "        i += 1\n",
        "    return value[sieve][2:]\n",
        "\n",
        "\n",
        "def compute() -> Tuple[int, int]:\n",
        "    a = sieve_eratosthenes(10**6)\n",
        "\n",
        "    max_len_seq = 0\n",
        "    long_sum = 0\n",
        "\n",
        "    for i in range(int(log10(len(a)))):\n",
        "        sum_ = 0\n",
        "        cnt = 0\n",
        "        for ai in a[i:]:\n",
        "            sum_ += ai\n",
        "            if sum_ >= 10**6:\n",
        "                break\n",
        "            cnt += 1\n",
        "            if cnt > max_len_seq and sum_ in a:\n",
        "                long_sum = max(long_sum, sum_)\n",
        "                max_len_seq = cnt\n",
        "\n",
        "    return long_sum, max_len_seq\n",
        "              \n",
        "\n",
        "if __name__ == \"__main__\":\n",
        "    start_time = default_timer()\n",
        "    long_sum, max_seq = compute()\n",
        "    end_time = default_timer()\n",
        "    print(f\"{long_sum} - простое число меньше одного миллиона, которое можно\\n\\\n",
        "    записать ввиде суммы наибольшего количества последовательных простых\\n\\\n",
        "    чисел ({max_seq} числа).\\n\\\n",
        "    На его поиск ушло {end_time - start_time:f} секунд.\")"
      ],
      "execution_count": null,
      "outputs": []
    },
    {
      "cell_type": "markdown",
      "metadata": {
        "id": "beXd-daILAiy"
      },
      "source": [
        "#####**Вариант 2.** С просторов интернета (при увеличении лимита до 10**9 считает не правильно)"
      ]
    },
    {
      "cell_type": "code",
      "metadata": {
        "id": "wQFik0JGYPeX"
      },
      "source": [
        "from sympy import isprime, nextprime\n",
        "import time\n",
        "start_time = time.time()\n",
        "\n",
        "max_cnt = 0\n",
        "answer_prime_number = 0\n",
        "start_num = 0\n",
        "while start_num < 10:\n",
        "\n",
        "    sum_num = 0\n",
        "    cnt = 0\n",
        "    add_prime = start_num\n",
        "    while sum_num < 1000000:\n",
        "        sum_num += add_prime\n",
        "\n",
        "        if cnt > max_cnt and isprime(sum_num):\n",
        "            max_cnt = cnt\n",
        "            answer_prime_number = sum_num\n",
        "        add_prime = nextprime(add_prime)\n",
        "        cnt += 1\n",
        "    start_num = nextprime(start_num)\n",
        "\n",
        "print(answer_prime_number)\n",
        "print(\"--- %s seconds ---\" % (time.time() - start_time))"
      ],
      "execution_count": null,
      "outputs": []
    },
    {
      "cell_type": "markdown",
      "metadata": {
        "id": "QEtkItu2_j81"
      },
      "source": [
        "#####**Вариант 3.** С просторов интернета"
      ]
    },
    {
      "cell_type": "code",
      "metadata": {
        "id": "Oosyw7ok_KJs"
      },
      "source": [
        "from functools import reduce\n",
        "import time\n",
        "start_time = time.time()\n",
        "\n",
        "def factors(n):\n",
        "    return set(reduce(list.__add__,\n",
        "                      ([i, n // i] for i in range(1, int(n ** 0.5) + 1) if n % i == 0)))\n",
        "x = 2\n",
        "totNumber = 0\n",
        "mainNumber = 0\n",
        "while True:\n",
        "    numberOffac = len(factors(x))\n",
        "    if numberOffac == 2:\n",
        "        totNumber += x\n",
        "        if totNumber < 1000000:\n",
        "            mainNumber = totNumber\n",
        "        else:\n",
        "            break\n",
        "    x += 1\n",
        "y = 2\n",
        "newNumber = int(mainNumber)\n",
        "while True:\n",
        "    if len(factors(y)) == 2:\n",
        "        newNumber -= y\n",
        "        if len(factors(newNumber)) == 2:\n",
        "            print(newNumber)\n",
        "            print(\"--- %s seconds ---\" % (time.time() - start_time))\n",
        "            break\n",
        "    y += 1"
      ],
      "execution_count": null,
      "outputs": []
    },
    {
      "cell_type": "markdown",
      "metadata": {
        "id": "KT6sMUbfJVJO"
      },
      "source": [
        "#####**Вариант 4.** На основании вариантов из интернета"
      ]
    },
    {
      "cell_type": "code",
      "metadata": {
        "id": "RsmWoHcJ_okM"
      },
      "source": [
        "from typing import Tuple\n",
        "from timeit import default_timer\n",
        "from sympy import isprime, nextprime\n",
        "\n",
        "\n",
        "def compute() -> Tuple[int, int]:\n",
        "    cnt_prms = 0\n",
        "    prime = 0\n",
        "    max_sum_prms = 0\n",
        "\n",
        "    while max_sum_prms < 10**6:\n",
        "        prime = nextprime(prime)\n",
        "        max_sum_prms += prime\n",
        "        cnt_prms += 1\n",
        "\n",
        "    max_sum_prms -= prime\n",
        "    cnt_prms -= 1\n",
        "    \n",
        "    prime = 2\n",
        "    while not isprime(max_sum_prms):\n",
        "        max_sum_prms -= prime\n",
        "        prime = nextprime(prime)\n",
        "        cnt_prms -= 1\n",
        "\n",
        "    return max_sum_prms, cnt_prms\n",
        "              \n",
        "\n",
        "if __name__ == \"__main__\":\n",
        "    start_time = default_timer()\n",
        "    max_sum_prms, cnt_prms = compute()\n",
        "    end_time = default_timer()\n",
        "    print(f\"{max_sum_prms} - простое число меньше одного миллиона, которое\\n\\\n",
        "    можно записать ввиде суммы наибольшего количества последовательных\\n\\\n",
        "    простых чисел ({cnt_prms} числа).\\n\\\n",
        "    На его поиск ушло {end_time - start_time:f} секунд.\")"
      ],
      "execution_count": null,
      "outputs": []
    },
    {
      "cell_type": "markdown",
      "metadata": {
        "id": "8HfjBdGtbtyk"
      },
      "source": [
        "---\n",
        "# Задача 51. Замена цифр в простом числе \n",
        "\n",
        "Меняя первую цифру числа *3 (двузначного числа, заканчивающегося цифрой 3), оказывается, что шесть из девяти возможных значений - 13, 23, 43, 53, 73 и 83 - являются простыми числами.\n",
        "\n",
        "При замене третьей и четвертой цифры числа 56**3 одинаковыми цифрами, получаются десять чисел, из которых семь - простые: 56003, 56113, 56333, 56443, 56663, 56773 и 56993. \n",
        "\n",
        "Число 56**3 является наименьшим числом, подставление цифр в которое дает именно семь простых чисел. Соответственно, число 56003, будучи первым из полученных простых чисел, является наименьшим простым числом, обладающим указанным свойством.\n",
        "\n",
        "Найдите наименьшее простое число, которое является одним из восьми простых чисел, полученных заменой части цифр (не обязательно соседних) одинаковыми цифрами.\n",
        "\n",
        "[Оригинал](https://projecteuler.net/problem=51) [На русском](https://euler.jakumo.org/problems/view/51.html)\n",
        "\n",
        "Completed on Mon, 23 Aug 2021, 23:29"
      ]
    },
    {
      "cell_type": "code",
      "metadata": {
        "id": "OsywsMLH7Nnu"
      },
      "source": [
        "from timeit import default_timer\n",
        "from sympy import isprime, nextprime\n",
        "\n",
        "\n",
        "def compute() -> int:\n",
        "    lp = []  # Список простых чисел, полученных от замены части цифр\n",
        "    prime = 100\n",
        "    found = False\n",
        "    while not found:\n",
        "        p = str(prime)\n",
        "        if p[-1] == '3':\n",
        "            for x in range(10):\n",
        "                if p.count(str(x)) > 1:\n",
        "                    for i in range(10):\n",
        "                        # Потенциальное простое число после замены части цифр\n",
        "                        pt = int(p.replace(str(x), str(i)))\n",
        "                        if isprime(pt):\n",
        "                            lp.append(pt)\n",
        "                    if len(lp) == 8:\n",
        "                        found = True\n",
        "                        break \n",
        "                lp.clear()\n",
        "        prime = nextprime(prime)\n",
        "\n",
        "    return lp[0]\n",
        "              \n",
        "\n",
        "if __name__ == \"__main__\":\n",
        "    start_time = default_timer()\n",
        "    ans = compute()\n",
        "    end_time = default_timer()\n",
        "    print(f\"{ans} - наименьшее простое число которое является одним из\\n\\\n",
        "    восьми простых чисел, полученных заменой части цифр (не обязательно\\n\\\n",
        "    соседних) одинаковыми цифрами.\\n\\\n",
        "    На его поиск ушло {end_time - start_time:f} секунд.\")"
      ],
      "execution_count": null,
      "outputs": []
    },
    {
      "cell_type": "markdown",
      "metadata": {
        "id": "9uHEDUZ8wHRz"
      },
      "source": [
        "---\n",
        "# Задача 52. Кратные из переставленных цифр Body\n",
        "\n",
        "Найдите такое наименьшее натуральное число x, чтобы 2x, 3x, 4x, 5x и 6x состояли из одних и тех же цифр.\n",
        "\n",
        "[Оригинал](https://projecteuler.net/problem=52) [На русском](https://euler.jakumo.org/problems/view/52.html)\n"
      ]
    },
    {
      "cell_type": "code",
      "metadata": {
        "id": "F7VtqZarlDvJ"
      },
      "source": [
        ""
      ],
      "execution_count": null,
      "outputs": []
    },
    {
      "cell_type": "markdown",
      "metadata": {
        "id": "_a6Kz3f15NkW"
      },
      "source": [
        "---\n",
        "# Задача 53. \n",
        "\n",
        "\n",
        "[Оригинал](https://projecteuler.net/problem=53) [На русском](https://euler.jakumo.org/problems/view/53.html)\n",
        "\n"
      ]
    },
    {
      "cell_type": "code",
      "metadata": {
        "id": "09hx3SiY2-Ik"
      },
      "source": [
        ""
      ],
      "execution_count": null,
      "outputs": []
    },
    {
      "cell_type": "markdown",
      "metadata": {
        "id": "9E-LOou-CNrG"
      },
      "source": [
        "---\n",
        "# Задача 54.  \n",
        "\n",
        "\n",
        "\n",
        "[Оригинал](https://projecteuler.net/problem=54) [На русском](https://euler.jakumo.org/problems/view/54.html)\n"
      ]
    },
    {
      "cell_type": "code",
      "metadata": {
        "id": "-zbWSlUwZ3Om"
      },
      "source": [
        ""
      ],
      "execution_count": null,
      "outputs": []
    },
    {
      "cell_type": "markdown",
      "metadata": {
        "id": "0c9NhYl0_h1G"
      },
      "source": [
        "---\n",
        "# Задача 55.   \n",
        "\n",
        "\n",
        "[Оригинал](https://projecteuler.net/problem=55) [На русском](https://euler.jakumo.org/problems/view/55.html)\n",
        "\n"
      ]
    },
    {
      "cell_type": "code",
      "metadata": {
        "id": "louXWqGlZ4SE"
      },
      "source": [
        ""
      ],
      "execution_count": null,
      "outputs": []
    },
    {
      "cell_type": "markdown",
      "metadata": {
        "id": "OKRdCE0iq8HV"
      },
      "source": [
        "---\n",
        "# Задача 56.  \n",
        "\n",
        "\n",
        "[Оригинал](https://projecteuler.net/problem=56) [На русском](https://euler.jakumo.org/problems/view/56.html)\n",
        "\n"
      ]
    },
    {
      "cell_type": "code",
      "metadata": {
        "id": "7wV1F_gMZ4wh"
      },
      "source": [
        ""
      ],
      "execution_count": null,
      "outputs": []
    },
    {
      "cell_type": "markdown",
      "metadata": {
        "id": "dGvIgvaCFa0S"
      },
      "source": [
        "---\n",
        "# Задача 57.   \n",
        "\n",
        "\n",
        "[Оригинал](https://projecteuler.net/problem=57) [На русском](https://euler.jakumo.org/problems/view/57.html)\n",
        "\n"
      ]
    },
    {
      "cell_type": "code",
      "metadata": {
        "id": "fOOXGmcPZ5fH"
      },
      "source": [
        ""
      ],
      "execution_count": null,
      "outputs": []
    },
    {
      "cell_type": "markdown",
      "metadata": {
        "id": "M3Fqfba1GiwV"
      },
      "source": [
        "---\n",
        "# Задача 58.\n",
        "\n",
        "[Оригинал](https://projecteuler.net/problem=58) [На русском](https://euler.jakumo.org/problems/view/58.html)\n",
        "\n"
      ]
    },
    {
      "cell_type": "code",
      "metadata": {
        "id": "-njaGW8EZ6Rs"
      },
      "source": [
        ""
      ],
      "execution_count": null,
      "outputs": []
    },
    {
      "cell_type": "markdown",
      "metadata": {
        "id": "9wcgW-7jgr3I"
      },
      "source": [
        "---\n",
        "# Задача 59.   \n",
        "\n",
        "\n",
        "\n",
        "[Оригинал](https://projecteuler.net/problem=59) [На русском](https://euler.jakumo.org/problems/view/59.html)\n",
        "\n"
      ]
    },
    {
      "cell_type": "code",
      "metadata": {
        "id": "bH55eeCvZ61d"
      },
      "source": [
        ""
      ],
      "execution_count": null,
      "outputs": []
    },
    {
      "cell_type": "markdown",
      "metadata": {
        "id": "AigLGrYfNsJv"
      },
      "source": [
        "---\n",
        "# Задача 60.  \n",
        "\n",
        "\n",
        "\n",
        "[Оригинал](https://projecteuler.net/problem=60) [На русском](https://euler.jakumo.org/problems/view/60.html)\n",
        "\n"
      ]
    },
    {
      "cell_type": "code",
      "metadata": {
        "id": "gOcUNTk6Z72x"
      },
      "source": [
        ""
      ],
      "execution_count": null,
      "outputs": []
    }
  ]
}