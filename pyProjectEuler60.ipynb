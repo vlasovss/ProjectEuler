{
  "nbformat": 4,
  "nbformat_minor": 0,
  "metadata": {
    "colab": {
      "name": "pyProjectEuler60.ipynb",
      "private_outputs": true,
      "provenance": [],
      "collapsed_sections": [],
      "toc_visible": true,
      "mount_file_id": "1c03GEqBZ4wJvWpRCEo8aJlgYSpY6EnRr",
      "authorship_tag": "ABX9TyPI5iZ4fygfAQya6b8UHkDF",
      "include_colab_link": true
    },
    "kernelspec": {
      "name": "python3",
      "display_name": "Python 3"
    }
  },
  "cells": [
    {
      "cell_type": "markdown",
      "metadata": {
        "id": "view-in-github",
        "colab_type": "text"
      },
      "source": [
        "<a href=\"https://colab.research.google.com/github/vlasovss/ProjectEuler/blob/main/pyProjectEuler60.ipynb\" target=\"_parent\"><img src=\"https://colab.research.google.com/assets/colab-badge.svg\" alt=\"Open In Colab\"/></a>"
      ]
    },
    {
      "cell_type": "markdown",
      "metadata": {
        "id": "xpeYEfcnSQb6"
      },
      "source": [
        "# Project Eulera на Python\n",
        "## Задачи с 41 по 60"
      ]
    },
    {
      "cell_type": "markdown",
      "metadata": {
        "id": "r8t6XMhNTvp3"
      },
      "source": [
        "---\n",
        "# Задача 41. Пан-цифровое простое число\n",
        "Будем считать n-значное число пан-цифровым, если каждая из цифр от 1 до nиспользуется в нем ровно один раз. К примеру, 2143 является 4-значным пан-цифровым числом, а также простым числом.\n",
        "\n",
        "Какое существует наибольшее n-значное пан-цифровое простое число?\n",
        "\n",
        "[Оригинал](https://projecteuler.net/problem=41) [На русском](https://euler.jakumo.org/problems/view/41.html)\n",
        "\n",
        "Completed on Thu, 3 Jun 2021, 00:08"
      ]
    },
    {
      "cell_type": "markdown",
      "metadata": {
        "id": "JnGJoLf_nUbz"
      },
      "source": [
        "#####**Вариант 1.** Брутфорс"
      ]
    },
    {
      "cell_type": "code",
      "metadata": {
        "id": "wCD2-P8goA3j"
      },
      "source": [
        "from timeit import default_timer\n",
        "from math import sqrt\n",
        "from sympy import isprime\n",
        "from sympy.core.compatibility import as_int\n",
        "\n",
        "\n",
        "def is_pandigital_number(n: int) -> bool:\n",
        "    \"\"\"\n",
        "    Определяет, является ли число пан-цифровым.\n",
        "\n",
        "    Параметры\n",
        "    =========\n",
        "    n -- число для анализа \n",
        "\n",
        "    Выход\n",
        "    =====\n",
        "    True -- если число является пан-цифровым\n",
        "    False -- если число не явлется пан-цифровым\n",
        "\n",
        "    \"\"\"\n",
        "    try:\n",
        "        n = as_int(n)\n",
        "    except ValueError:\n",
        "        return False\n",
        "    pattern = '123456789'\n",
        "    n = str(n)\n",
        "    for i in range(len(n)):\n",
        "        c = n.count(pattern[i])\n",
        "        if c > 1 or c == 0:\n",
        "            return False\n",
        "    return True\n",
        "\n",
        "\n",
        "def compute() -> int:\n",
        "    return max(n for n in range(1235, 7654322) \n",
        "               if is_pandigital_number(n) and isprime(n))\n",
        "\n",
        "\n",
        "if __name__ == \"__main__\":\n",
        "    start_time = default_timer()\n",
        "    ans = compute()\n",
        "    end_time = default_timer()\n",
        "    print(f\"{ans} наибольшее n-значное пан-цифровое простое число.\\n\\\n",
        "    На его поиск ушло {end_time - start_time:f} секунд.\")"
      ],
      "execution_count": null,
      "outputs": []
    },
    {
      "cell_type": "markdown",
      "metadata": {
        "id": "Y1roPkiQnZw6"
      },
      "source": [
        "#####**Вариант 2.** С просторов интернета."
      ]
    },
    {
      "cell_type": "code",
      "metadata": {
        "id": "t-VxY74yQQa_"
      },
      "source": [
        "import itertools\n",
        "import math\n",
        "from timeit import default_timer\n",
        "\n",
        "\n",
        "def is_prime(n):\n",
        "\tif n <= 1:\n",
        "\t\treturn False\n",
        "\tif n == 2:\n",
        "\t\treturn True\n",
        "\tif n > 2 and n % 2 == 0:\n",
        "\t\treturn False\n",
        "\tmax_div = math.floor(math.sqrt(n))\n",
        "\tfor i in range(3, 1 + max_div, 2):\n",
        "\t\tif n % i == 0:\n",
        "\t\t\treturn False\n",
        "\treturn True\n",
        "\n",
        "\n",
        "def pandigital_prime(n_max_length):\n",
        "    largest_pandigital = 0\n",
        "    for i in range(2,n_max_length):\n",
        "        all_options = []\n",
        "        number_str = int(\"\".join([str(integer) for integer in list(range(1,i))]))\n",
        "        all_options = list(itertools.permutations(str(number_str)))\n",
        "        for option in all_options:\n",
        "            if is_prime(int(\"\".join([str(integer) for integer in list(option)]))):\n",
        "                if int(\"\".join([str(integer) for integer in list(option)])) > largest_pandigital:\n",
        "                    largest_pandigital = int(\"\".join([str(integer) for integer in list(option)]))\n",
        "    return largest_pandigital\n",
        "\n",
        "\n",
        "if __name__ == \"__main__\":\n",
        "    start_time = default_timer()\n",
        "    ans = pandigital_prime(10)\n",
        "    end_time = default_timer()\n",
        "    print(f\"{ans} наибольшее n-значное пан-цифровое простое число.\\n\\\n",
        "    На его поиск ушло {end_time - start_time:f} секунд.\")"
      ],
      "execution_count": null,
      "outputs": []
    },
    {
      "cell_type": "markdown",
      "metadata": {
        "id": "nWJBdUiNqmGX"
      },
      "source": [
        "#####**Вариант 3.** Оптимизированный"
      ]
    },
    {
      "cell_type": "code",
      "metadata": {
        "id": "rEuYARN6dLQc"
      },
      "source": [
        "from timeit import default_timer\n",
        "from sympy import isprime\n",
        "from itertools import permutations\n",
        "\n",
        "\n",
        "def compute() -> int:\n",
        "    pattern = ['7654321', '654321', '54321', '4321']\n",
        "    for p in pattern:\n",
        "        for pandigital_number in permutations(p):\n",
        "            pn = int(\"\".join(pandigital_number))\n",
        "            if isprime(pn):\n",
        "                return pn\n",
        "    return 0\n",
        "\n",
        "\n",
        "if __name__ == \"__main__\":\n",
        "    start_time = default_timer()\n",
        "    ans = compute()\n",
        "    end_time = default_timer()\n",
        "    print(f\"{ans} наибольшее n-значное пан-цифровое простое число.\\n\\\n",
        "    На его поиск ушло {end_time - start_time:f} секунд.\")"
      ],
      "execution_count": null,
      "outputs": []
    },
    {
      "cell_type": "markdown",
      "metadata": {
        "id": "ozPWilK6-kX5"
      },
      "source": [
        "#####**Вариант 4.** С просторов интернета.\n",
        "\n"
      ]
    },
    {
      "cell_type": "code",
      "metadata": {
        "id": "U2HehpJ_tOr0"
      },
      "source": [
        "# Pandigital prime\n",
        "from timeit import default_timer\n",
        "import itertools\n",
        "\n",
        "\n",
        "def isprime(n):  # here is a function determines if the number is prime\n",
        "    if n == 2:\n",
        "        return True\n",
        "    if n > 2 and n % 2 != 0:\n",
        "        for i in range(3, int(n ** 0.5) + 1, 2):\n",
        "            if n % i == 0:\n",
        "                return False\n",
        "        return True\n",
        "    return False\n",
        "\n",
        "\n",
        "def e41():\n",
        "    ds = '987654321'\n",
        "    for n in range(9, 0, -1):\n",
        "        digits = ds[len(ds) - n:]\n",
        "        if sum(int(d) for d in digits) % 3 == 0:  # if sum of digits is divisible by 3, the number is too\n",
        "            continue\n",
        "        for p in itertools.permutations(digits, n):\n",
        "            s = ''\n",
        "            for d in p:\n",
        "                s += d\n",
        "            if isprime(int(s)):\n",
        "                return s\n",
        "\n",
        "\n",
        "if __name__ == \"__main__\":\n",
        "    start_time = default_timer()\n",
        "    ans = e41()\n",
        "    end_time = default_timer()\n",
        "    print(f\"{ans} наибольшее n-значное пан-цифровое простое число.\\n\\\n",
        "    На его поиск ушло {end_time - start_time:f} секунд.\")"
      ],
      "execution_count": null,
      "outputs": []
    },
    {
      "cell_type": "markdown",
      "metadata": {
        "id": "pUuxmYayVsax"
      },
      "source": [
        "---\n",
        "# Задача 42. Закодированные треугольные числа\n",
        "\n",
        "n-й член последовательности треугольных чисел задается как tn = ½n(n+1). Таким образом, первые десять треугольных чисел:\n",
        "\n",
        "1, 3, 6, 10, 15, 21, 28, 36, 45, 55, ...\n",
        "\n",
        "Преобразовывая каждую букву в число, соответствующее ее порядковому номеру в алфавите, и складывая эти значения, мы получим числовое значение слова. Для примера, числовое значение слова SKY равно 19 + 11 + 25 = 55 = t10. Если числовое значение слова является треугольным числом, то мы назовем это слово треугольным словом.\n",
        "\n",
        "Используя [words.txt](https://projecteuler.net/project/resources/p042_words.txt) (щелкнуть правой кнопкой мыши и выбрать 'Save Link/Target As...'), 16 КБ текстовый файл, содержащий около двух тысяч часто используемых английских слов, определите, сколько в нем треугольных слов.\n",
        "\n",
        "> См. файл sample_data/p042_words.txt\n",
        "\n",
        "[Оригинал](https://projecteuler.net/problem=42) [На русском](https://euler.jakumo.org/problems/view/42.html)\n",
        "\n",
        "Completed on Sun, 13 Jun 2021, 02:36"
      ]
    },
    {
      "cell_type": "markdown",
      "metadata": {
        "id": "zC6FYyfmJeFF"
      },
      "source": [
        "#####**Вариант 1.** Поиск треугольных чисел в наборе чисел"
      ]
    },
    {
      "cell_type": "code",
      "metadata": {
        "id": "-Ohix4BSWOwE"
      },
      "source": [
        "from timeit import default_timer\n",
        "\n",
        "\n",
        "def triangular_numbers(count: int) -> int:\n",
        "    \"\"\"\n",
        "    Генератор, возвращающий треугольные числа в количестве count штук.\n",
        "\n",
        "    Параметры\n",
        "    =========\n",
        "    count -- количество возвращаемых треугольных чисел\n",
        "\n",
        "    Выход\n",
        "    =====\n",
        "    Треугольное число \n",
        "\n",
        "    Примечание\n",
        "    ==========\n",
        "    n-й член последовательности треугольных чисел задается как tn = ½n(n+1).\n",
        "    Первые десять треугольных чисел:\n",
        "\n",
        "    1, 3, 6, 10, 15, 21, 28, 36, 45, 55, ...\n",
        "\n",
        "    \"\"\"\n",
        "    n = 0\n",
        "    step = 1\n",
        "    for i in range(count):\n",
        "        n += step\n",
        "        step += 1\n",
        "        yield n\n",
        "\n",
        "\n",
        "def numerical_value_of_word(word: str) -> int:\n",
        "    \"\"\"\n",
        "    Преобразовывая каждую букву в число, соответствующее ее порядковому номеру \n",
        "    в алфавите, и складывая эти значения, получается числовое значение слова.\n",
        "\n",
        "    Параметры\n",
        "    =========\n",
        "    word -- слово на английском языке\n",
        "\n",
        "    Выход\n",
        "    =====\n",
        "    Числовое значение слова\n",
        "\n",
        "    Пример\n",
        "    ======\n",
        "    Числовое значение слова SKY равно 19 + 11 + 25 = 55 = t10\n",
        "\n",
        "    \"\"\"\n",
        "    return sum(ord(letter) - 64 for letter in word)\n",
        "\n",
        "\n",
        "def compute() -> int:\n",
        "    cnt_triangular_words = 0\n",
        "    words = list(map(lambda x: x.strip('\"'), \n",
        "                 open('/content/drive/My Drive/ProjectEuler/sample_data/p042_words.txt').read().split(',')))\n",
        "    numbers = list(map(numerical_value_of_word, words))\n",
        "    for tn in triangular_numbers(len(numbers)):\n",
        "        cnt_triangular_words += numbers.count(tn)\n",
        "    return cnt_triangular_words\n",
        "\n",
        "\n",
        "if __name__ == \"__main__\":\n",
        "    start_time = default_timer()\n",
        "    ans = compute()\n",
        "    end_time = default_timer()\n",
        "    print(f\"В анализируемом текстовом файле содержится {ans} треугольных числа.\\n\\\n",
        "    На их поиск ушло {end_time - start_time:f} секунд.\")\n"
      ],
      "execution_count": null,
      "outputs": []
    },
    {
      "cell_type": "markdown",
      "metadata": {
        "id": "HGohLtyHK3nd"
      },
      "source": [
        "#####**Вариант 1.1** Проверка числа из набора чисел на \"треугольность\""
      ]
    },
    {
      "cell_type": "code",
      "metadata": {
        "id": "de6r9zyyK5Bk"
      },
      "source": [
        "from timeit import default_timer\n",
        "\n",
        "\n",
        "def numerical_value_of_word(word: str) -> int:\n",
        "    \"\"\"\n",
        "    Преобразовывая каждую букву в число, соответствующее ее порядковому номеру \n",
        "    в алфавите, и складывая эти значения, получается числовое значение слова.\n",
        "\n",
        "    Параметры\n",
        "    =========\n",
        "    word -- слово на английском языке\n",
        "\n",
        "    Выход\n",
        "    =====\n",
        "    Числовое значение слова\n",
        "\n",
        "    Пример\n",
        "    ======\n",
        "    Числовое значение слова SKY равно 19 + 11 + 25 = 55 = t10\n",
        "\n",
        "    \"\"\"\n",
        "    return sum(ord(letter) - 64 for letter in word)\n",
        "\n",
        "\n",
        "def compute() -> int:\n",
        "    get_n = lambda t: (-1 + (1 + 8*t)**0.5) / 2\n",
        "    cnt_triangular_words = 0\n",
        "    words = list(map(lambda x: x.strip('\"'), \n",
        "                 open('/content/drive/My Drive/ProjectEuler/sample_data/p042_words.txt').read().split(',')))\n",
        "    numbers = map(numerical_value_of_word, words)\n",
        "    for num in numbers:\n",
        "        if get_n(num).is_integer():\n",
        "            cnt_triangular_words += 1\n",
        "    return cnt_triangular_words\n",
        "\n",
        "\n",
        "if __name__ == \"__main__\":\n",
        "    start_time = default_timer()\n",
        "    ans = compute()\n",
        "    end_time = default_timer()\n",
        "    print(f\"В анализируемом текстовом файле содержится {ans} треугольных числа.\\n\\\n",
        "    На их поиск ушло {end_time - start_time:f} секунд.\")"
      ],
      "execution_count": null,
      "outputs": []
    },
    {
      "cell_type": "markdown",
      "metadata": {
        "id": "uEIz6DzFKIEa"
      },
      "source": [
        "#####**Вариант 2.** С просторов интернета."
      ]
    },
    {
      "cell_type": "code",
      "metadata": {
        "id": "1Eh7hHSV44d9"
      },
      "source": [
        "from timeit import default_timer\n",
        "\n",
        "\n",
        "def count_triangle_words():\n",
        "    from math import sqrt\n",
        "    # use build-in `ord` function to find sum of letter indexes\n",
        "    ord_sum = lambda word: sum([ord(ch) - ord('A') + 1 for ch in word])\n",
        "    # root of the quadratic equasion\n",
        "    get_n = lambda t: (-1 + sqrt(1 + 8 * t)) / 2\n",
        "\n",
        "    with open('/content/drive/My Drive/ProjectEuler/sample_data/p042_words.txt') as f:\n",
        "        words = eval(f.read())  # never use eval, it's evil!!! ;)\n",
        "\n",
        "    result = 0\n",
        "    for w in words:\n",
        "        if get_n(ord_sum(w)).is_integer():\n",
        "            result += 1\n",
        "    return result\n",
        "\n",
        "\n",
        "if __name__ == \"__main__\":\n",
        "    start_time = default_timer()\n",
        "    ans = count_triangle_words()\n",
        "    end_time = default_timer()\n",
        "    print(f\"В анализируемом текстовом файле содержится {ans} треугольных числа.\\n\\\n",
        "    На их поиск ушло {end_time - start_time:f} секунд.\")"
      ],
      "execution_count": null,
      "outputs": []
    },
    {
      "cell_type": "markdown",
      "metadata": {
        "id": "spSuMW2-Bcj7"
      },
      "source": [
        "---\n",
        "# Задача 43. Делимость подстрок\n",
        "\n",
        "Число 1406357289, является пан-цифровым, поскольку оно состоит из цифр от 0 до 9 в определенном порядке. Помимо этого, оно также обладает интересным свойством делимости подстрок.\n",
        "\n",
        "Пусть d1 будет 1-й цифрой, d2 будет 2-й цифрой, и т.д. В таком случае, можно заметить следующее:\n",
        "\n",
        "d2d3d4=406 делится на 2 без остатка\n",
        "\n",
        "d3d4d5=063 делится на 3 без остатка\n",
        "\n",
        "d4d5d6=635 делится на 5 без остатка\n",
        "\n",
        "d5d6d7=357 делится на 7 без остатка\n",
        "\n",
        "d6d7d8=572 делится на 11 без остатка\n",
        "\n",
        "d7d8d9=728 делится на 13 без остатка\n",
        "\n",
        "d8d9d10=289 делится на 17 без остатка\n",
        "\n",
        "Найдите сумму всех пан-цифровых чисел из цифр от 0 до 9, обладающих данным свойством.\n",
        "\n",
        "[Оригинал](https://projecteuler.net/problem=43) [На русском](https://euler.jakumo.org/problems/view/43.html)\n",
        "\n",
        "Completed on Mon, 14 Jun 2021, 00:58"
      ]
    },
    {
      "cell_type": "markdown",
      "metadata": {
        "id": "A_ZEA42OZcE6"
      },
      "source": [
        "#####**Вариант 1.** Брутфорс"
      ]
    },
    {
      "cell_type": "code",
      "metadata": {
        "id": "D2vSVsSmB8G2"
      },
      "source": [
        "from timeit import default_timer\n",
        "from itertools import permutations\n",
        "\n",
        "\n",
        "def has_substring_divisibility(n: str) -> bool:\n",
        "    \"\"\"\n",
        "    Определяет обладает ли пан-цифровое число свойством делимости подстрок.\n",
        "\n",
        "    Параметры\n",
        "    =========\n",
        "    n -- пан-цифровое число, представленное строкой\n",
        "\n",
        "    Выход\n",
        "    =====\n",
        "    True -- пан-цифровое число обладаетсвойством делимости подстрок\n",
        "    False -- пан-цифровое число не одладает свойством делимости подстрок\n",
        "\n",
        "    Опсиание\n",
        "    ======\n",
        "    Число 1406357289, является пан-цифровым\n",
        "    Пусть d1 будет 1-й цифрой, d2 будет 2-й цифрой, и т.д.\n",
        "    В таком случае, можно заметить следующее:\n",
        "    d2d3d4=406 делится на 2 без остатка\n",
        "    d3d4d5=063 делится на 3 без остатка\n",
        "    d4d5d6=635 делится на 5 без остатка\n",
        "    d5d6d7=357 делится на 7 без остатка\n",
        "    d6d7d8=572 делится на 11 без остатка\n",
        "    d7d8d9=728 делится на 13 без остатка\n",
        "    d8d9d10=289 делится на 17 без остатка\n",
        "\n",
        "    \"\"\"\n",
        "    if int(n[1:4]) % 2 == 0:\n",
        "        if int(n[2:5]) % 3 == 0:\n",
        "            if int(n[3:6]) % 5 == 0:\n",
        "                if int(n[4:7]) % 7 == 0:\n",
        "                    if int(n[5:8]) % 11 == 0:\n",
        "                        if int(n[6:9]) % 13 == 0:\n",
        "                            if int(n[7:10]) % 17 == 0:\n",
        "                                return True\n",
        "    return False\n",
        "\n",
        "\n",
        "def compute() -> int:\n",
        "    return sum(int(''.join(pn)) for pn in permutations('0123456789') if has_substring_divisibility(''.join(pn)))\n",
        "\n",
        "\n",
        "if __name__ == \"__main__\":\n",
        "    start_time = default_timer()\n",
        "    ans = compute()\n",
        "    end_time = default_timer()\n",
        "    print(f\"{ans} сумма всех пан-цифровых чисел из цифр от 0 до 9,\\n\\\n",
        "    обладающих свойством делимости подстрок.\\n\\\n",
        "    На ее поиск ушло {end_time - start_time:f} секунд.\")"
      ],
      "execution_count": null,
      "outputs": []
    },
    {
      "cell_type": "markdown",
      "metadata": {
        "id": "jgvw2ZkfsKui"
      },
      "source": [
        "---\n",
        "# Задача 44. Пятиугольные числа\n",
        "\n",
        "Пятиугольные числа вычисляются по формуле: Pn=n(3n−1)/2. Первые десять пятиугольных чисел:\n",
        "\n",
        "1, 5, 12, 22, 35, 51, 70, 92, 117, 145, ...\n",
        "\n",
        "Можно убедиться в том, что P4 + P7 = 22 + 70 = 92 = P8. Однако, их разность, 70 − 22 = 48, не является пятиугольным числом.\n",
        "\n",
        "Найдите пару пятиугольных чисел Pj и Pk, для которых сумма и разность являются пятиугольными числами и значение D = |Pk − Pj| минимально, и дайте значение D в качестве ответа.\n",
        "\n",
        "[Оригинал](https://projecteuler.net/problem=44) [На русском](https://euler.jakumo.org/problems/view/44.html)\n",
        "\n",
        "Completed on Wed, 23 Jun 2021, 01:07"
      ]
    },
    {
      "cell_type": "markdown",
      "metadata": {
        "id": "yJ3FE7ZWvrdD"
      },
      "source": [
        "#####**Вариант 1.** NumPy"
      ]
    },
    {
      "cell_type": "code",
      "metadata": {
        "id": "5pfSnFlyvojF"
      },
      "source": [
        "from timeit import default_timer\n",
        "import numpy as np\n",
        "\n",
        "\n",
        "def not_is_pentagonal_number(num: int) -> bool:\n",
        "    \"\"\"\n",
        "    Определяет, что число не является пятиугольным.\n",
        "\n",
        "    Параметры\n",
        "    =========\n",
        "    num -- число для анализа \n",
        "\n",
        "    Выход\n",
        "    =====\n",
        "    True -- если число не является пятиугольным \n",
        "    False -- если число явлется пятиугольным  \n",
        "\n",
        "    \"\"\"\n",
        "    n = (1 + (1 + 24*num)**0.5) / 6\n",
        "    if n.is_integer():\n",
        "        return False\n",
        "    return True\n",
        "\n",
        "\n",
        "def compute() -> int:\n",
        "    m = []\n",
        "    for i in  range(1, 2170):\n",
        "        m += [(3 * i**2 - i) // 2]\n",
        "    \n",
        "    func = np.vectorize(not_is_pentagonal_number)\n",
        "    a = np.array(m*len(m)).reshape(len(m), len(m))\n",
        "    b = a.T.copy()\n",
        "    c = (a - b)[np.triu_indices(len(m), k=1)]\n",
        "    d = (a + b)[np.triu_indices(len(m), k=1)]\n",
        "    c[func(c)] = 0\n",
        "    c[func(d)] = 0\n",
        "    return c[c != 0].min()\n",
        "\n",
        "\n",
        "if __name__ == \"__main__\":\n",
        "    start_time = default_timer()\n",
        "    ans = compute()\n",
        "    end_time = default_timer()\n",
        "    print(f\"{ans} минимальная разность пятиугольных чисел,\\n\\\n",
        "    для которых сумма и разность являются пятиугольными числами.\\n\\\n",
        "    На ее поиск ушло {end_time - start_time:f} секунд.\")"
      ],
      "execution_count": null,
      "outputs": []
    },
    {
      "cell_type": "markdown",
      "metadata": {
        "id": "2XD95zaLveAi"
      },
      "source": [
        "#####**Вариант 2.** С просторов интернета"
      ]
    },
    {
      "cell_type": "code",
      "metadata": {
        "id": "CyugHB5SjdPk"
      },
      "source": [
        "from timeit import default_timer\n",
        "\n",
        "\n",
        "def get_D():\n",
        "    from math import sqrt\n",
        "\n",
        "    P = lambda n: n * (3 * n - 1) // 2  # pentagonal number\n",
        "\n",
        "    p = 1           # let D = p(3p-1)/2\n",
        "    while True:     # loop for p = 1, 2...\n",
        "        D = P(p)        # difference P(k) - P(j)\n",
        "        m, j = 1, 1     # initial m; j can be any >= 1, to enter while loop\n",
        "        while j >= 1:   # loop for m = 1, 2..., exit if j<1\n",
        "            j = (D - P(m)) / (3 * m)\n",
        "            if j >= 1 and j.is_integer():\n",
        "                # j is Natural, so check S = P(k) + P(j) to be pentagonal\n",
        "                S = 2 * P(j) + D\n",
        "                q = (1 + sqrt(1 + 24 * S)) / 6  # let S = q(3q-1)/2\n",
        "                if q.is_integer():\n",
        "                    # q is Natural, so that is the result\n",
        "                    return D\n",
        "            m += 1\n",
        "        p += 1\n",
        "\n",
        "\n",
        "if __name__ == \"__main__\":\n",
        "    start_time = default_timer()\n",
        "    ans = get_D()\n",
        "    end_time = default_timer()\n",
        "    print(f\"{ans} минимальная разность пятиугольных чисел,\\n\\\n",
        "    для которых сумма и разность являются пятиугольными числами.\\n\\\n",
        "    На ее поиск ушло {end_time - start_time:f} секунд.\")"
      ],
      "execution_count": null,
      "outputs": []
    },
    {
      "cell_type": "markdown",
      "metadata": {
        "id": "aG_ET1t6ybTW"
      },
      "source": [
        "---\n",
        "# Задача 45. Треугольные, пятиугольные и шестиугольные\n",
        "\n",
        "Треугольные, пятиугольные и шестиугольные числа вычисляются по нижеследующим формулам:\n",
        "\n",
        "Треугольные\t \t    Tn=n(n+1)/2\t \t1, 3, 6, 10, 15, ...\n",
        "\n",
        "Пятиугольные\t \tPn=n(3n−1)/2\t \t1, 5, 12, 22, 35, ...\n",
        "\n",
        "Шестиугольные\t \tHn=n(2n−1)\t \t1, 6, 15, 28, 45, ...\n",
        "\n",
        "Можно убедиться в том, что \n",
        "\n",
        "> T285 = P165 = H143 = 40755.\n",
        "\n",
        "Найдите следующее треугольное число, являющееся также пятиугольным и шестиугольным.\n",
        "\n",
        "[Оригинал](https://projecteuler.net/problem=45) [На русском](https://euler.jakumo.org/problems/view/45.html)\n",
        "\n",
        "Completed on Sat, 3 Jul 2021, 15:33\n"
      ]
    },
    {
      "cell_type": "markdown",
      "metadata": {
        "id": "z0rX4BYlXXiT"
      },
      "source": [
        "#####**Вариант 1.** Проверка числа (брутфорс). Очень долгий (> 12 мин.)"
      ]
    },
    {
      "cell_type": "code",
      "metadata": {
        "id": "_YWRTLMhTdQn"
      },
      "source": [
        "from timeit import default_timer\n",
        "from itertools import permutations\n",
        "\n",
        "\n",
        "def compute() -> int:\n",
        "    t = lambda c: (-1 + (1 + 8*c)**0.5) / 2  # Номер треугольного числа\n",
        "    p = lambda c: (1 + (1 + 24*c)**0.5) / 6  # Номер пятиугольного числа  \n",
        "    h = lambda c: (1 + (1 + 8*c)**0.5) / 4  # Номер шестиугольного числа\n",
        "\n",
        "    n = 40755\n",
        "    while 1:\n",
        "        n += 1\n",
        "        if t(n).is_integer() and p(n).is_integer() and h(n).is_integer():\n",
        "            return n\n",
        "\n",
        "\n",
        "if __name__ == \"__main__\":\n",
        "    start_time = default_timer()\n",
        "    ans = compute()\n",
        "    end_time = default_timer()\n",
        "    print(f\"{ans} следующее треугольное число после 40755,\\n\\\n",
        "    являющееся также пятиугольным и шестиугольным.\\n\\\n",
        "    На его поиск ушло {end_time - start_time:f} секунд.\")"
      ],
      "execution_count": null,
      "outputs": []
    },
    {
      "cell_type": "markdown",
      "metadata": {
        "id": "UsjGnxmfX86j"
      },
      "source": [
        "#####**Вариант 2.** Проверка треугольного числа"
      ]
    },
    {
      "cell_type": "code",
      "metadata": {
        "id": "GwslqIRlX9rZ"
      },
      "source": [
        "from timeit import default_timer\n",
        "\n",
        "\n",
        "def compute() -> int:\n",
        "    T = lambda n: (n**2 + n) // 2  # Треугольное число\n",
        "    p = lambda c: (1 + (1 + 24*c)**0.5) / 6  # Номер пятиугольного числа\n",
        "    h = lambda c: (1 + (1 + 8*c)**0.5) / 4  # Номер шестиугольного числа\n",
        "\n",
        "    n = 285\n",
        "    while 1:\n",
        "        n += 1\n",
        "        Tn = T(n)\n",
        "        if p(Tn).is_integer() and h(Tn).is_integer():\n",
        "            return Tn\n",
        "\n",
        "\n",
        "if __name__ == \"__main__\":\n",
        "    start_time = default_timer()\n",
        "    ans = compute()\n",
        "    end_time = default_timer()\n",
        "    print(f\"{ans} следующее треугольное число после 40755,\\n\\\n",
        "    являющееся также пятиугольным и шестиугольным.\\n\\\n",
        "    На его поиск ушло {end_time - start_time:f} секунд.\")"
      ],
      "execution_count": null,
      "outputs": []
    },
    {
      "cell_type": "markdown",
      "metadata": {
        "id": "MtIF_ao5bhNm"
      },
      "source": [
        "#####**Вариант 3.** Проверка шестиугольного числа"
      ]
    },
    {
      "cell_type": "code",
      "metadata": {
        "id": "FRHTl4v2bh0_"
      },
      "source": [
        "from timeit import default_timer\n",
        "\n",
        "\n",
        "def compute() -> int:\n",
        "    t = lambda c: (-1 + (1 + 8*c)**0.5) / 2  # Номер треугольного числа \n",
        "    p = lambda c: (1 + (1 + 24*c)**0.5) / 6  # Номер пятиугольного числа\n",
        "    H = lambda n: 2 * n**2 - n  # Шестиугольное число\n",
        "\n",
        "    n = 285\n",
        "    while 1:\n",
        "        n += 1\n",
        "        Hn = H(n)\n",
        "        if p(Hn).is_integer() and t(Hn).is_integer():\n",
        "            return Hn\n",
        "\n",
        "\n",
        "if __name__ == \"__main__\":\n",
        "    start_time = default_timer()\n",
        "    ans = compute()\n",
        "    end_time = default_timer()\n",
        "    print(f\"{ans} следующее треугольное число после 40755,\\n\\\n",
        "    являющееся также пятиугольным и шестиугольным.\\n\\\n",
        "    На его поиск ушло {end_time - start_time:f} секунд.\")"
      ],
      "execution_count": null,
      "outputs": []
    },
    {
      "cell_type": "markdown",
      "metadata": {
        "id": "r52C5TD7Ue9v"
      },
      "source": [
        "---\n",
        "# Задача 46.  \n",
        "\n",
        "Кристиан Гольдбах показал, что любое нечетное составное число можно записать в виде суммы простого числа и удвоенного квадрата.\n",
        "\n",
        "9 = 7 + 2×1^2\n",
        "\n",
        "15 = 7 + 2×2^2\n",
        "\n",
        "21 = 3 + 2×3^2\n",
        "\n",
        "25 = 7 + 2×3^2\n",
        "\n",
        "27 = 19 + 2×2^2\n",
        "\n",
        "33 = 31 + 2×1^2\n",
        "\n",
        "Оказалось, что данная гипотеза неверна.\n",
        "\n",
        "Каково наименьшее нечетное составное число, которое нельзя записать в виде суммы простого числа и удвоенного квадрата?\n",
        "\n",
        "[Оригинал](https://projecteuler.net/problem=46) [На русском](https://euler.jakumo.org/problems/view/46.html)\n",
        "\n",
        "Completed on Sun, 4 Jul 2021, 01:08"
      ]
    },
    {
      "cell_type": "markdown",
      "metadata": {
        "id": "1I4tR1mY5Os8"
      },
      "source": [
        "#####**Вариант 1.** Подбор простого числа и удвоенного квадрата через формулу"
      ]
    },
    {
      "cell_type": "code",
      "metadata": {
        "id": "4uumLEO2lkzq"
      },
      "source": [
        "from timeit import default_timer\n",
        "from sympy import isprime\n",
        "\n",
        "\n",
        "def prime_numbers() -> int:\n",
        "    \"\"\"\n",
        "    Генератор, возвращающий простое число в порядке возрастания.\n",
        "\n",
        "    Параметры\n",
        "    =========\n",
        "    Нет\n",
        "\n",
        "    Выход\n",
        "    =====\n",
        "    Простое число\n",
        "\n",
        "    Опсиание\n",
        "    ======\n",
        "    Для работы функции необходима установленная библиотека sympy.\n",
        "\n",
        "    \"\"\"\n",
        "    n = 1\n",
        "    yield 2\n",
        "    while 1:\n",
        "        n += 2\n",
        "        if isprime(n):\n",
        "            yield n\n",
        "\n",
        "\n",
        "def odd_composite_numbers() -> int:\n",
        "    \"\"\"\n",
        "    Генератор, возвращающий нечетное составное число в порядке возрастания.\n",
        "\n",
        "    Параметры\n",
        "    =========\n",
        "    Нет\n",
        "\n",
        "    Выход\n",
        "    =====\n",
        "    Нечетное составное число\n",
        "\n",
        "    Опсиание\n",
        "    ======\n",
        "    Для работы функции необходима установленная библиотека sympy.\n",
        "\n",
        "    \"\"\"\n",
        "    n = 9\n",
        "    while 1:\n",
        "        if not isprime(n):\n",
        "            yield n\n",
        "        n += 2\n",
        "\n",
        "\n",
        "def compute() -> int:\n",
        "    odd_composites = odd_composite_numbers()\n",
        "    exist = True\n",
        "    while exist:\n",
        "        n = next(odd_composites)\n",
        "        exist = False  # Предполагаем, что n и есть искомое число \n",
        "        primes = prime_numbers()\n",
        "        while not exist:  # Проверяем истинность предположения\n",
        "            p = next(primes)\n",
        "            if p >= n:\n",
        "                break\n",
        "            for m in range(1, int(((n - p) // 2) ** 0.5) + 1):\n",
        "                if n == p + 2 * m**2:\n",
        "                    exist = True                  \n",
        "    return n\n",
        "              \n",
        "\n",
        "if __name__ == \"__main__\":\n",
        "    start_time = default_timer()\n",
        "    ans = compute()\n",
        "    end_time = default_timer()\n",
        "    print(f\"{ans} наименьшее нечетное составное число, которое нельзя\\n\\\n",
        "    записать в виде суммы простого числа и удвоенного квадрата.\\n\\\n",
        "    На его поиск ушло {end_time - start_time:f} секунд.\")"
      ],
      "execution_count": null,
      "outputs": []
    },
    {
      "cell_type": "markdown",
      "metadata": {
        "id": "TiuENbeOcHZ4"
      },
      "source": [
        "#####**Вариант 2.** С просторов интернета"
      ]
    },
    {
      "cell_type": "code",
      "metadata": {
        "id": "8_7bogZGCR0V"
      },
      "source": [
        "from timeit import default_timer\n",
        "\n",
        "\n",
        "def is_prime(n):\n",
        "\n",
        "    if n in (2, 3):\n",
        "        return True\n",
        "    \n",
        "    if not n % 2 or not n % 3:\n",
        "        return False\n",
        "\n",
        "    k = 6\n",
        "    limit = int(n**0.5)\n",
        "    while k - 1 <= limit:\n",
        "        if not n % (k - 1) or not n % (k + 1):\n",
        "            return False\n",
        "        k += 6\n",
        "\n",
        "    return True\n",
        "\n",
        "\n",
        "def primes_below(n):\n",
        "\n",
        "    for m in range(n, 2, -1):\n",
        "        if is_prime(m):\n",
        "            yield m\n",
        "\n",
        "\n",
        "def odd_composites():\n",
        "\n",
        "    n = 9\n",
        "    while True:\n",
        "        if not is_prime(n):\n",
        "            yield n\n",
        "        n += 2\n",
        "\n",
        "\n",
        "def smallest():\n",
        "\n",
        "    for n in odd_composites():\n",
        "        for p in primes_below(n):\n",
        "            k = 1\n",
        "            x = p + 2*(k**2)\n",
        "            while  x <= n:\n",
        "                if x == n:\n",
        "                    break\n",
        "                k += 1\n",
        "                x = p + 2*(k**2)\n",
        "            else:\n",
        "                continue\n",
        "            break\n",
        "        else:\n",
        "            return n\n",
        "\n",
        "\n",
        "if __name__ == \"__main__\":\n",
        "    start_time = default_timer()\n",
        "    ans = smallest()\n",
        "    end_time = default_timer()\n",
        "    print(f\"{ans} наименьшее нечетное составное число, которое нельзя\\n\\\n",
        "    записать в виде суммы простого числа и удвоенного квадрата.\\n\\\n",
        "    На его поиск ушло {end_time - start_time:f} секунд.\")"
      ],
      "execution_count": null,
      "outputs": []
    },
    {
      "cell_type": "markdown",
      "metadata": {
        "id": "or5gXQn_8IZ0"
      },
      "source": [
        "#####**Вариант 3.** На основе варианта из интернета"
      ]
    },
    {
      "cell_type": "code",
      "metadata": {
        "id": "31aqWgI38VTm"
      },
      "source": [
        "from timeit import default_timer\n",
        "from sympy import isprime\n",
        "\n",
        "\n",
        "def primes_below(n) -> int:\n",
        "    \"\"\"\n",
        "    Генератор, возвращающий простое число не более n в порядке убывания.\n",
        "\n",
        "    Параметры\n",
        "    =========\n",
        "    Нет\n",
        "\n",
        "    Выход\n",
        "    =====\n",
        "    Простое число\n",
        "\n",
        "    Опсиание\n",
        "    ======\n",
        "    Для работы функции необходима установленная библиотека sympy.\n",
        "\n",
        "    \"\"\"\n",
        "    for m in range(n, 2, -1):\n",
        "        if isprime(m):\n",
        "            yield m\n",
        "\n",
        "\n",
        "def odd_composite_numbers() -> int:\n",
        "    \"\"\"\n",
        "    Генератор, возвращающий нечетное составное число в порядке возрастания.\n",
        "\n",
        "    Параметры\n",
        "    =========\n",
        "    Нет\n",
        "\n",
        "    Выход\n",
        "    =====\n",
        "    Нечетное составное число\n",
        "\n",
        "    Опсиание\n",
        "    ======\n",
        "    Для работы функции необходима установленная библиотека sympy.\n",
        "\n",
        "    \"\"\"\n",
        "    n = 9\n",
        "    while 1:\n",
        "        if not isprime(n):\n",
        "            yield n\n",
        "        n += 2\n",
        "\n",
        "\n",
        "def compute() -> int:\n",
        "    for n in odd_composite_numbers():\n",
        "        for p in primes_below(n):\n",
        "            if p >= n:\n",
        "                return n\n",
        "            limit = int(((n - p) // 2) ** 0.5) + 1 \n",
        "            for m in range(1, limit):\n",
        "                x = p + 2 * m**2\n",
        "                if x >= n:\n",
        "                    break\n",
        "            else:\n",
        "                continue\n",
        "            break\n",
        "        else:\n",
        "            return n\n",
        "              \n",
        "\n",
        "if __name__ == \"__main__\":\n",
        "    start_time = default_timer()\n",
        "    ans = compute()\n",
        "    end_time = default_timer()\n",
        "    print(f\"{ans} наименьшее нечетное составное число, которое нельзя\\n\\\n",
        "    записать в виде суммы простого числа и удвоенного квадрата.\\n\\\n",
        "    На его поиск ушло {end_time - start_time:f} секунд.\")"
      ],
      "execution_count": null,
      "outputs": []
    },
    {
      "cell_type": "markdown",
      "metadata": {
        "id": "rXbcnqsyR2by"
      },
      "source": [
        "#####**Заметка.**"
      ]
    },
    {
      "cell_type": "markdown",
      "metadata": {
        "id": "c9Y0f8GePmZ1"
      },
      "source": [
        "Вариант 2 работает быстрее, чем реализованный на его основе вариант 3. \n",
        "\n",
        "Если в варианте 3 использовать функцию is_prime из варианта 2, то результат выполнения тот же, что и в варианте 2. \n",
        "\n",
        "Но если протестировать функцию isprime из библиотеки sympy, то она работает быстрее функции, представленной в варианте 2. Тестирование проводилось на подсчете количества простых чисел на промежутке от 1 до 10^7."
      ]
    },
    {
      "cell_type": "markdown",
      "metadata": {
        "id": "jCaD5HYdPNb0"
      },
      "source": [
        "#####**Дополнение 1.** Тестирование функции isprime из библиотеки sympy"
      ]
    },
    {
      "cell_type": "code",
      "metadata": {
        "id": "RR6r1vfYJYvE"
      },
      "source": [
        "from timeit import default_timer\n",
        "from sympy import isprime\n",
        "\n",
        "\n",
        "def compute() -> int:\n",
        "    count = 0\n",
        "    for i in range(10**7):\n",
        "        if isprime(i): count += 1\n",
        "    return count\n",
        "              \n",
        "\n",
        "if __name__ == \"__main__\":\n",
        "    start_time = default_timer()\n",
        "    ans = compute()\n",
        "    end_time = default_timer()\n",
        "    print(f\"Найдено {ans} простых чисел за {end_time - start_time:f} секунд.\")"
      ],
      "execution_count": null,
      "outputs": []
    },
    {
      "cell_type": "markdown",
      "metadata": {
        "id": "LrivQ-EsP1SG"
      },
      "source": [
        "#####**Дополнение 2.** Тестирование функции is_prime из примера в интернете, представленного в варианте 2"
      ]
    },
    {
      "cell_type": "code",
      "metadata": {
        "id": "Gs2OSxlPJghl"
      },
      "source": [
        "from timeit import default_timer\n",
        "\n",
        "\n",
        "def is_prime(n):\n",
        "\n",
        "    if n in (2, 3):\n",
        "        return True\n",
        "    \n",
        "    if not n % 2 or not n % 3:\n",
        "        return False\n",
        "\n",
        "    k = 6\n",
        "    limit = int(n**0.5)\n",
        "    while k - 1 <= limit:\n",
        "        if not n % (k - 1) or not n % (k + 1):\n",
        "            return False\n",
        "        k += 6\n",
        "\n",
        "    return True\n",
        "\n",
        "\n",
        "def compute() -> int:\n",
        "    count = 0\n",
        "    for i in range(10**7):\n",
        "        if is_prime(i): count += 1\n",
        "    return count\n",
        "              \n",
        "\n",
        "if __name__ == \"__main__\":\n",
        "    start_time = default_timer()\n",
        "    ans = compute()\n",
        "    end_time = default_timer()\n",
        "    print(f\"Найдено {ans} простых чисел за {end_time - start_time:f} секунд.\")"
      ],
      "execution_count": null,
      "outputs": []
    },
    {
      "cell_type": "markdown",
      "metadata": {
        "id": "ohyqnGtRTObg"
      },
      "source": [
        "---\n",
        "# Задача 47. \n",
        "\n",
        "\n",
        "\n",
        "[Оригинал](https://projecteuler.net/problem=47) [На русском](https://euler.jakumo.org/problems/view/47.html)\n"
      ]
    },
    {
      "cell_type": "code",
      "metadata": {
        "id": "vAeid8FATcWh"
      },
      "source": [
        ""
      ],
      "execution_count": null,
      "outputs": []
    },
    {
      "cell_type": "markdown",
      "metadata": {
        "id": "IQCv5CM1utta"
      },
      "source": [
        "---\n",
        "# Задача 48.   \n",
        "\n",
        "\n",
        "[Оригинал](https://projecteuler.net/problem=48) [На русском](https://euler.jakumo.org/problems/view/48.html)\n",
        "\n"
      ]
    },
    {
      "cell_type": "code",
      "metadata": {
        "id": "B__ykJi7T0jJ"
      },
      "source": [
        ""
      ],
      "execution_count": null,
      "outputs": []
    },
    {
      "cell_type": "markdown",
      "metadata": {
        "id": "DnSl2ivvmHIw"
      },
      "source": [
        "---\n",
        "# Задача 49.  \n",
        "\n",
        "\n",
        "[Оригинал](https://projecteuler.net/problem=49) [На русском](https://euler.jakumo.org/problems/view/49.html)\n",
        "\n"
      ]
    },
    {
      "cell_type": "code",
      "metadata": {
        "id": "MtPUDthkT8jG"
      },
      "source": [
        ""
      ],
      "execution_count": null,
      "outputs": []
    },
    {
      "cell_type": "markdown",
      "metadata": {
        "id": "5CKEhqH76IYV"
      },
      "source": [
        "---\n",
        "# Задача 50.   \n",
        "\n",
        "\n",
        "\n",
        "\n",
        "[Оригинал](https://projecteuler.net/problem=50) [На русском](https://euler.jakumo.org/problems/view/50.html)\n"
      ]
    },
    {
      "cell_type": "code",
      "metadata": {
        "id": "ZMXNLC-JUD43"
      },
      "source": [
        ""
      ],
      "execution_count": null,
      "outputs": []
    },
    {
      "cell_type": "markdown",
      "metadata": {
        "id": "8HfjBdGtbtyk"
      },
      "source": [
        "---\n",
        "# Задача 51.  \n",
        "\n",
        "\n",
        "\n",
        "[Оригинал](https://projecteuler.net/problem=51) [На русском](https://euler.jakumo.org/problems/view/51.html)\n",
        "\n"
      ]
    },
    {
      "cell_type": "code",
      "metadata": {
        "id": "_Nf_XEjHemSF"
      },
      "source": [
        ""
      ],
      "execution_count": null,
      "outputs": []
    },
    {
      "cell_type": "markdown",
      "metadata": {
        "id": "9uHEDUZ8wHRz"
      },
      "source": [
        "---\n",
        "# Задача 52. \n",
        "\n",
        "\n",
        "\n",
        "[Оригинал](https://projecteuler.net/problem=52) [На русском](https://euler.jakumo.org/problems/view/52.html)\n"
      ]
    },
    {
      "cell_type": "code",
      "metadata": {
        "id": "F7VtqZarlDvJ"
      },
      "source": [
        ""
      ],
      "execution_count": null,
      "outputs": []
    },
    {
      "cell_type": "markdown",
      "metadata": {
        "id": "_a6Kz3f15NkW"
      },
      "source": [
        "---\n",
        "# Задача 53. \n",
        "\n",
        "\n",
        "[Оригинал](https://projecteuler.net/problem=53) [На русском](https://euler.jakumo.org/problems/view/53.html)\n",
        "\n"
      ]
    },
    {
      "cell_type": "code",
      "metadata": {
        "id": "09hx3SiY2-Ik"
      },
      "source": [
        ""
      ],
      "execution_count": null,
      "outputs": []
    },
    {
      "cell_type": "markdown",
      "metadata": {
        "id": "9E-LOou-CNrG"
      },
      "source": [
        "---\n",
        "# Задача 54.  \n",
        "\n",
        "\n",
        "\n",
        "[Оригинал](https://projecteuler.net/problem=54) [На русском](https://euler.jakumo.org/problems/view/54.html)\n"
      ]
    },
    {
      "cell_type": "code",
      "metadata": {
        "id": "-zbWSlUwZ3Om"
      },
      "source": [
        ""
      ],
      "execution_count": null,
      "outputs": []
    },
    {
      "cell_type": "markdown",
      "metadata": {
        "id": "0c9NhYl0_h1G"
      },
      "source": [
        "---\n",
        "# Задача 55.   \n",
        "\n",
        "\n",
        "[Оригинал](https://projecteuler.net/problem=55) [На русском](https://euler.jakumo.org/problems/view/55.html)\n",
        "\n"
      ]
    },
    {
      "cell_type": "code",
      "metadata": {
        "id": "louXWqGlZ4SE"
      },
      "source": [
        ""
      ],
      "execution_count": null,
      "outputs": []
    },
    {
      "cell_type": "markdown",
      "metadata": {
        "id": "OKRdCE0iq8HV"
      },
      "source": [
        "---\n",
        "# Задача 56.  \n",
        "\n",
        "\n",
        "[Оригинал](https://projecteuler.net/problem=56) [На русском](https://euler.jakumo.org/problems/view/56.html)\n",
        "\n"
      ]
    },
    {
      "cell_type": "code",
      "metadata": {
        "id": "7wV1F_gMZ4wh"
      },
      "source": [
        ""
      ],
      "execution_count": null,
      "outputs": []
    },
    {
      "cell_type": "markdown",
      "metadata": {
        "id": "dGvIgvaCFa0S"
      },
      "source": [
        "---\n",
        "# Задача 57.   \n",
        "\n",
        "\n",
        "[Оригинал](https://projecteuler.net/problem=57) [На русском](https://euler.jakumo.org/problems/view/57.html)\n",
        "\n"
      ]
    },
    {
      "cell_type": "code",
      "metadata": {
        "id": "fOOXGmcPZ5fH"
      },
      "source": [
        ""
      ],
      "execution_count": null,
      "outputs": []
    },
    {
      "cell_type": "markdown",
      "metadata": {
        "id": "M3Fqfba1GiwV"
      },
      "source": [
        "---\n",
        "# Задача 58.\n",
        "\n",
        "[Оригинал](https://projecteuler.net/problem=58) [На русском](https://euler.jakumo.org/problems/view/58.html)\n",
        "\n"
      ]
    },
    {
      "cell_type": "code",
      "metadata": {
        "id": "-njaGW8EZ6Rs"
      },
      "source": [
        ""
      ],
      "execution_count": null,
      "outputs": []
    },
    {
      "cell_type": "markdown",
      "metadata": {
        "id": "9wcgW-7jgr3I"
      },
      "source": [
        "---\n",
        "# Задача 59.   \n",
        "\n",
        "\n",
        "\n",
        "[Оригинал](https://projecteuler.net/problem=59) [На русском](https://euler.jakumo.org/problems/view/59.html)\n",
        "\n"
      ]
    },
    {
      "cell_type": "code",
      "metadata": {
        "id": "bH55eeCvZ61d"
      },
      "source": [
        ""
      ],
      "execution_count": null,
      "outputs": []
    },
    {
      "cell_type": "markdown",
      "metadata": {
        "id": "AigLGrYfNsJv"
      },
      "source": [
        "---\n",
        "# Задача 60.  \n",
        "\n",
        "\n",
        "\n",
        "[Оригинал](https://projecteuler.net/problem=60) [На русском](https://euler.jakumo.org/problems/view/60.html)\n",
        "\n"
      ]
    },
    {
      "cell_type": "code",
      "metadata": {
        "id": "gOcUNTk6Z72x"
      },
      "source": [
        ""
      ],
      "execution_count": null,
      "outputs": []
    }
  ]
}