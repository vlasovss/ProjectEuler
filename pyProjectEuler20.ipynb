{
  "nbformat": 4,
  "nbformat_minor": 0,
  "metadata": {
    "colab": {
      "name": "pyProjectEuler20.ipynb",
      "provenance": [],
      "private_outputs": true,
      "collapsed_sections": [],
      "mount_file_id": "1uBWqLdCf68n6e9aA5ChSSmN31jHwOE1s",
      "authorship_tag": "ABX9TyOApjw+9zhstGRcz5OZBw21",
      "include_colab_link": true
    },
    "kernelspec": {
      "name": "python3",
      "display_name": "Python 3"
    }
  },
  "cells": [
    {
      "cell_type": "markdown",
      "metadata": {
        "id": "view-in-github",
        "colab_type": "text"
      },
      "source": [
        "<a href=\"https://colab.research.google.com/github/vlasovss/ProjectEuler/blob/main/pyProjectEuler20.ipynb\" target=\"_parent\"><img src=\"https://colab.research.google.com/assets/colab-badge.svg\" alt=\"Open In Colab\"/></a>"
      ]
    },
    {
      "cell_type": "markdown",
      "metadata": {
        "id": "xpeYEfcnSQb6"
      },
      "source": [
        "# Project Eulera на Python\n",
        "## Задачи с 1 по 20"
      ]
    },
    {
      "cell_type": "markdown",
      "metadata": {
        "id": "r8t6XMhNTvp3"
      },
      "source": [
        "---\n",
        "# Задача 1. Числа, кратные 3 или 5\n",
        "Если выписать все натуральные числа меньше 10, кратные 3 или 5, то получим 3, 5, 6 и 9. Сумма этих чисел равна 23.\n",
        "\n",
        "Найдите сумму всех чисел меньше 1000, кратных 3 или 5.\n",
        "\n",
        "[Оригинал](https://projecteuler.net/problem=1) [На русском](https://euler.jakumo.org/problems/view/1.html)\n",
        "\n",
        "Completed on Wed, 30 Sep 2020, 12:15"
      ]
    },
    {
      "cell_type": "markdown",
      "metadata": {
        "id": "KP6fYo4un7LE"
      },
      "source": [
        " **Вариант 1.**"
      ]
    },
    {
      "cell_type": "code",
      "metadata": {
        "id": "wCD2-P8goA3j"
      },
      "source": [
        "sum_digit_mod_3_or_5 = 0\n",
        "for x in range(1000):\n",
        "    if x%3 == 0 or x%5 == 0:\n",
        "        sum_digit_mod_3_or_5 += x\n",
        "print(sum_digit_mod_3_or_5)"
      ],
      "execution_count": null,
      "outputs": []
    },
    {
      "cell_type": "markdown",
      "metadata": {
        "id": "9CeEn2oYoBZF"
      },
      "source": [
        "**Вариант 2.**"
      ]
    },
    {
      "cell_type": "code",
      "metadata": {
        "id": "kbq2LSvnUtVI"
      },
      "source": [
        "print(sum([x for x in range(1000) if x%3 == 0 or x%5 == 0]))"
      ],
      "execution_count": null,
      "outputs": []
    },
    {
      "cell_type": "markdown",
      "metadata": {
        "id": "pUuxmYayVsax"
      },
      "source": [
        "---\n",
        "# Задача 2. Четные числа Фибоначчи\n",
        "Каждый следующий элемент ряда Фибоначчи получается при сложении двух предыдущих. Начиная с 1 и 2, первые 10 элементов будут:\n",
        "\n",
        "1, 2, 3, 5, 8, 13, 21, 34, 55, 89, ...\n",
        "\n",
        "Найдите сумму всех четных элементов ряда Фибоначчи, которые не превышают четыре миллиона.\n",
        "\n",
        "[Оригинал](https://projecteuler.net/problem=2) [На русском](https://euler.jakumo.org/problems/view/2.html)\n",
        "\n",
        "Completed on Wed, 30 Sep 2020, 12:55"
      ]
    },
    {
      "cell_type": "code",
      "metadata": {
        "id": "-Ohix4BSWOwE"
      },
      "source": [
        "sum_, f0, f1 = 0, 0, 1\n",
        "limit = int(4e6)\n",
        "while f0 < limit:\n",
        "    sum_ = sum_ + f0 if f0%2 == 0 else sum_\n",
        "    f0, f1 = f1, f0 + f1\n",
        "print(sum_)"
      ],
      "execution_count": null,
      "outputs": []
    },
    {
      "cell_type": "markdown",
      "metadata": {
        "id": "spSuMW2-Bcj7"
      },
      "source": [
        "---\n",
        "# Задача 3. Наибольший простой делитель\n",
        "Простые делители числа 13195 - это 5, 7, 13 и 29.\n",
        "\n",
        "Каков самый большой делитель числа 600851475143, являющийся простым числом?\n",
        "\n",
        "[Оригинал](https://projecteuler.net/problem=3) [На русском](https://euler.jakumo.org/problems/view/3.html)\n",
        "\n",
        "Completed on Wed, 30 Sep 2020, 16:18"
      ]
    },
    {
      "cell_type": "code",
      "metadata": {
        "id": "D2vSVsSmB8G2"
      },
      "source": [
        "num = 600851475143\n",
        "i = 2\n",
        "div = None\n",
        "while num > 1:\n",
        "    if num % i == 0:\n",
        "        div = i\n",
        "        num = num // i;\n",
        "    else:\n",
        "        i += 1\n",
        "print(div) "
      ],
      "execution_count": null,
      "outputs": []
    },
    {
      "cell_type": "markdown",
      "metadata": {
        "id": "jgvw2ZkfsKui"
      },
      "source": [
        "---\n",
        "# Задача 4. Наибольшее произведение-палиндром\n",
        "Число-палиндром с обеих сторон (справа налево и слева направо) читается одинаково. Самое большое число-палиндром, полученное умножением двух двузначных чисел – 9009 = 91 × 99.\n",
        "\n",
        "Найдите самый большой палиндром, полученный умножением двух трехзначных чисел.\n",
        "\n",
        "[Оригинал](https://projecteuler.net/problem=4) [На русском](https://euler.jakumo.org/problems/view/4.html)\n",
        "\n",
        "Completed on Thu, 1 Oct 2020, 07:51"
      ]
    },
    {
      "cell_type": "markdown",
      "metadata": {
        "id": "5H18uIyAogtg"
      },
      "source": [
        "**Вариант 1.**"
      ]
    },
    {
      "cell_type": "code",
      "metadata": {
        "id": "8OzV51sitYDM"
      },
      "source": [
        "def is_palindrome(n):\n",
        "    return str(n) == str(n)[::-1]\n",
        "\n",
        "\n",
        "max_palindrome = 0\n",
        "for i in range(100, 1000):\n",
        "    for j in range(100, 1000):\n",
        "        tmp = i * j\n",
        "        if is_palindrome(tmp) and tmp > max_palindrome:\n",
        "            max_palindrome = tmp \n",
        "\n",
        "print(max_palindrome)"
      ],
      "execution_count": null,
      "outputs": []
    },
    {
      "cell_type": "markdown",
      "metadata": {
        "id": "7_hnpzO87l-c"
      },
      "source": [
        "**Вариант 2.** Лаконичный и красивый."
      ]
    },
    {
      "cell_type": "code",
      "metadata": {
        "id": "9Px_TmkfFQ_E"
      },
      "source": [
        "max_palindrome = max(i * j\n",
        "                     for i in range(100, 1000)\n",
        "\t                 for j in range(100, 1000)\n",
        "\t                 if str(i * j) == str(i * j)[::-1])\n",
        "print(max_palindrome)"
      ],
      "execution_count": null,
      "outputs": []
    },
    {
      "cell_type": "markdown",
      "metadata": {
        "id": "qS9DwjKzD74i"
      },
      "source": [
        "**Подзадача.** Найти делители палиндрома "
      ]
    },
    {
      "cell_type": "code",
      "metadata": {
        "id": "EnCV7VU6EbV3"
      },
      "source": [
        "import math\n",
        "\n",
        "\n",
        "def get_dividers(palindrome):\n",
        "    return [(i, palindrome // i) for i in range(1, int(math.sqrt(palindrome)) + 1) if palindrome % i == 0]\n",
        "\n",
        "\n",
        "get_dividers(max_palindrome)"
      ],
      "execution_count": null,
      "outputs": []
    },
    {
      "cell_type": "markdown",
      "metadata": {
        "id": "6LnqbWAr82Or"
      },
      "source": [
        "**Подзадача.** Разложить палиндром на простые множители (факторизация)."
      ]
    },
    {
      "cell_type": "code",
      "metadata": {
        "id": "TfM2e0IH9FBx"
      },
      "source": [
        "def get_multipliers(n):\n",
        "    i = 2\n",
        "    result = [1]\n",
        "    while n != 1:\n",
        "        if n % i == 0:\n",
        "            n = n // i\n",
        "            result += [i]\n",
        "        else:\n",
        "            i += 1\n",
        "    \n",
        "    return result\n",
        "\n",
        "\n",
        "print(get_multipliers(max_palindrome))"
      ],
      "execution_count": null,
      "outputs": []
    },
    {
      "cell_type": "markdown",
      "metadata": {
        "id": "aG_ET1t6ybTW"
      },
      "source": [
        "---\n",
        "# Задача 5. Наименьшее кратное\n",
        "2520 - самое маленькое число, которое делится без остатка на все числа от 1 до 10.\n",
        "\n",
        "Какое самое маленькое число делится нацело на все числа от 1 до 20?\n",
        "\n",
        "[Оригинал](https://projecteuler.net/problem=5) [На русском](https://euler.jakumo.org/problems/view/5.html)\n",
        "\n",
        "Completed on Thu, 1 Oct 2020, 20:06"
      ]
    },
    {
      "cell_type": "markdown",
      "metadata": {
        "id": "3W43ub70xrbu"
      },
      "source": [
        "**Вариант 1.**"
      ]
    },
    {
      "cell_type": "code",
      "metadata": {
        "id": "wOpgR2KZyn6z"
      },
      "source": [
        "from functools import reduce\n",
        "\n",
        "mults_count = {}\n",
        "tmp_mults_count = {}\n",
        "for i in range(2, 21):\n",
        "    mults = get_multipliers(i)\n",
        "    tmp_mults_count.clear()\n",
        "    \n",
        "    for m in mults:\n",
        "        if tmp_mults_count.setdefault(m, 0) != None:\n",
        "            tmp_mults_count[m] += 1\n",
        "    \n",
        "    for m, k in tmp_mults_count.items():\n",
        "        if mults_count.setdefault(m, 0) != None:\n",
        "            if mults_count[m] < tmp_mults_count[m]:\n",
        "                mults_count[m] = k\n",
        "lcm = reduce(lambda x, y: x * y, [m ** k  for m, k in mults_count.items()])\n",
        "print(lcm)"
      ],
      "execution_count": null,
      "outputs": []
    },
    {
      "cell_type": "markdown",
      "metadata": {
        "id": "9yY7dOajHTzs"
      },
      "source": [
        "**Вариант 1.1**"
      ]
    },
    {
      "cell_type": "code",
      "metadata": {
        "id": "YWva_4nhHg2c"
      },
      "source": [
        "from collections import Counter\n",
        "from functools import reduce\n",
        "from numpy import multiply\n",
        "\n",
        "mults_count = Counter()\n",
        "tmp_mults_count = Counter()\n",
        "for i in range(2, 21):\n",
        "    mults = get_multipliers(i)\n",
        "    tmp_mults_count.clear()\n",
        "\n",
        "    for m in mults:\n",
        "        tmp_mults_count[m] += 1\n",
        "    \n",
        "    mults_count |= tmp_mults_count\n",
        "#lcm = reduce(lambda x, y: x * y, [m ** k  for m, k in mults_count.items()])\n",
        "lcm = multiply.reduce([m ** k  for m, k in mults_count.items()])\n",
        "print(lcm)"
      ],
      "execution_count": null,
      "outputs": []
    },
    {
      "cell_type": "markdown",
      "metadata": {
        "id": "u9vznvKNxvoy"
      },
      "source": [
        "**Вариант 2.** Если известен наибольший общий делитель, можно использовать его связь с HOK:\n",
        "\n",
        "![1.png](data:image/png;base64,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)"
      ]
    },
    {
      "cell_type": "code",
      "metadata": {
        "id": "70gJ4AhPxvJk"
      },
      "source": [
        "from numpy import gcd\n",
        "\n",
        "a = 1\n",
        "for b in range(1, 21):\n",
        "    a *= b // gcd(a, b)\n",
        "\n",
        "print(a)"
      ],
      "execution_count": null,
      "outputs": []
    },
    {
      "cell_type": "markdown",
      "metadata": {
        "id": "31Vi8WKe572x"
      },
      "source": [
        "**Вариант 3.**"
      ]
    },
    {
      "cell_type": "code",
      "metadata": {
        "id": "pDa4XKJO6AYg"
      },
      "source": [
        "from numpy import lcm, arange\n",
        "\n",
        "arr = arange(1, 21)\n",
        "print(lcm.reduce(arr))"
      ],
      "execution_count": null,
      "outputs": []
    },
    {
      "cell_type": "markdown",
      "metadata": {
        "id": "r52C5TD7Ue9v"
      },
      "source": [
        "---\n",
        "# Задача 6. Разность между суммой квадратов и квадратом суммы \n",
        "Сумма квадратов первых десяти натуральных чисел равна\n",
        "> 12 + 22 + ... + 102 = 385\n",
        "\n",
        "Квадрат суммы первых десяти натуральных чисел равен\n",
        "\n",
        ">(1 + 2 + ... + 10)2 = 552 = 3025\n",
        "\n",
        "Следовательно, разность между суммой квадратов и квадратом суммы первых десяти натуральных чисел составляет \n",
        ">3025 − 385 = 2640.\n",
        "\n",
        "Найдите разность между суммой квадратов и квадратом суммы первых ста натуральных чисел.\n",
        "\n",
        "[Оригинал](https://projecteuler.net/problem=6) [На русском](https://euler.jakumo.org/problems/view/6.html)\n",
        "\n",
        "Completed on Thu, 1 Oct 2020, 23:35"
      ]
    },
    {
      "cell_type": "markdown",
      "metadata": {
        "id": "af8SjopwVW3d"
      },
      "source": [
        "**Вариант 1.**"
      ]
    },
    {
      "cell_type": "code",
      "metadata": {
        "id": "Au5jWKg3Svcb"
      },
      "source": [
        "sum(i for i in range(1, 101)) ** 2 - sum(i ** 2 for i in range(1, 101))"
      ],
      "execution_count": null,
      "outputs": []
    },
    {
      "cell_type": "markdown",
      "metadata": {
        "id": "ZdL6EyVbVdWL"
      },
      "source": [
        "**Вариант 2.**\n",
        "\n",
        ">1, 2, 3, 4, 5, ..., 17, 18, 19, 20 - арифметическая прогрессия\n",
        "\n",
        "**Арифметическая прогрессия** — числовая последовательность вида\n",
        "\n",
        ">![2.png](data:image/png;base64,iVBORw0KGgoAAAANSUhEUgAAAQoAAAARCAYAAAAlreIlAAAABHNCSVQICAgIfAhkiAAABulJREFUeJzt2mmMXWUZwPFfO1unTDuVymCntdZipkqQ2hkBl45IbACXItgKqEFBQcFaNYiKKRaClpJipYiYyhchRqOJuESUqDERl7pEVIyKCwoK0QhfuggEtIMfnnNy7pyZe+ecu8xtm/v/dM9y3/c5z3neZ3sPHTp06NChQ4eqrG23AAlHYazdQtRibrsFmGU+jJtxSrsFKcFxWIO+GvcswXW4Ff2zIdQRwEfU1mkrWYhFFceP4c1YPcP/zsBOvLdFch1xdNX5vxdhAsc3UZZ6KCL/HNyEq7Ebf1fdwfXj/XigKdIdnpSxiTHc1iI5avEa7MDDeHXu2nzsQXeN/x+L7+PjLZHuCOT6Ov/3cjwqFmE7KSL/64RRDCTHn8Nfaty/Dbc3KNfhTBmb+DpObpUgNRjFChww1VHAx3DBDGM8gNObK9bM5EuPRWp7tEboFSlXM+gpeX+fqANfiR/h6TrmXKB5qWpR+UdlKeoePA+DuXsGRTQ9VTzb4US3ySl4IxTV6SBejF/mzi+o+D1f82y1kl/hwRrXv4M3Vrl2tHAyy/DTpkpVgNQp9OPTeAjPTYT6AP7cpHnehNcKbziCe0QKVi9FM4Ie7MJeLMdLxXOWoQs34L9CL4txo9YvyjuT+VKnNoL7sS85fo6oV3+Bl+AkvKPFMjWTdbgU9+IF+JewuXopahNjwq4nKs5dIvS3EL/GQZwtbOVLDchUlntMbbBuwBuEzOsT+Q7MokyTuANXJL9PEIui0sMuEU21elgvjCF1Sj/Hporr3WIBl+GTBe+7WeYYniGMY03JuXaJXgERjZ4WizZlkdBZGXaWvH8Yj+BVyXEv/iBqXqIR9s+SY7aTMfxDVlbdYXLpMEeUiWUoahMX4ou5uW4RutwnAiXRG7qtpAxFqVZ6SGRIs5m1ojd1VHJ8pwhas043xnGObPGuxm9lXusivBWfxV/rmGOnqK//l8x3PH6SXBsTRv5Cteuuq03u5q81tSbdKfoPKctFxEo99CqRWdxbQvbj8B4RsQndPCLrFWwQuvkxfldljGXJGJWM5+Tfq3qN3Sf0d4HoWUjmPAZ3JcfPx921H+WQYocw+v8kxyfKFuUIzhNZaK2m8+UYqjieziZuxd9y5waFvivZInbEviprCJ+EH1SZe0NyvRr3qb9ftF8Etf24Ft8QuyJE5rW7znEb5krxYCm78SnMqzi3HefXMfaQiMBpxnCy8Jjdsnp/BN8tOW6R6HGeUHaayVwplD5P8W3htwijSjvqW/A1IXua6m7CBwuOl1I0o+gS7yN1VK8X0eV2EYVTfoh3OTy2RrvwOM5NjodFprdYZnP9ImMqQ9GM4iKTM4qUPSLbIHT8hAguvSXlKMIBWTaYZ5+sV/iEKDvg2SLYDmrDe56LJ2XRcABnCqVdr/aC6hO1+qoa9zwlHMXvk+ONovR4heqpV7N4Cn+SZTJniah7hUjtVgn5ayn9SeFEDyZjnC10s8XUpmIr2IU/ivdyltgCfVw8W/rOlgkHfLfomhMRb5PirDd9f+OEZMx8/b9IpMBDufNzRFCptaNwUJS2qfwbxTMuxsUlZK6Xh02Vu180jtOMbZ0ojR4VUb0VTNdT6RVrbr/Q04RMTxvwGywV2dZckZmNlpjvWpG953m7CEJ5xiV9o7n4gvDql+Ea0TR5mUjBJqb5c8pS4YEvrXHPXtEn2IqPCkUMCC/57Rr/awZ3iUX1PnxCNGpXiwbnXtH5vkxW90/Ht8Si3Cw+aHpQpH8HTU1fm835omS5Ed8T2dAC4XhvEbscm8XHN/eLSJk2WM8RWUvRHawzTd9tHxVGND93fmky34rc+UFhE5fPMN82YYAfkmUUm4UtprRqC/tnWJk7Nyp0+FBy/JhwEluF/pvFu/F5oc+rRGlU+Y7WiGblhHjP20S2ulUEhD4RAL4iHOuFwr6L0C/e5XSOZaOwgTyn4m2VJ3rEyyde0LLcH7YLL5anRzGPu0RWahxtsuGNiIVQhqJpZpd4ljQzWmpylnSa+NqtyBip4ebH2CQMvgxlm5nTMV98gEPIOJy7fp32fXm7vcA9Q7Im3UKTtyP7RZZRhqI2QQSpEyuOe/DM3D3DZj/Fv0o4k0qGZOtl0NRt2yK6nhVOwzfxGVN3DM4V3ybUywoRfe6T1WJFGJj5lkLskBlrPZwimnBfVq5L3yz5qzFPc5xRPYybPqgU5VgRxf4t7Ktoj6CMTsdFH+5QoldkO2XscZ1y66alDIsdhJWmet13Njj2gmTc5bJtqdniGJGiN8KQcHYr8KwGx2omZ4jvLNrBxRrLZPplNrFS/Z/rz8Q1ovw8VNgmFn4ZLtH+r4w7dDiimSM+kz8UGNCGz7I7dOjQoan8H+N9J1EGClJBAAAAAElFTkSuQmCC)\n",
        "\n",
        "Сумма первых *n* членов арифметической прогрессии \n",
        ">![0ba75be67f2a92dafc70806b7d775642552ddef8.png](data:image/png;base64,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) \n",
        "\n",
        "может быть найдена по формулам\n",
        ">![a173854d032a294f44e64bfb385a7e8ac1f9452a.png](data:image/png;base64,iVBORw0KGgoAAAANSUhEUgAAAGcAAAAeCAYAAAAxbADwAAAABHNCSVQICAgIfAhkiAAAA6hJREFUaN7t2lmIlWUYB/DfOJNmuYwWZlq2ktpNtlBk2QZWmiYRmkLagknZRghRXVREXYQ3URFUWJDkTQRhEmUb0YIEERothrQaiWZJWUzb2MX5H+ZjOo7OyIzneL4/DLzvOd/3bv/3eZ7/88yhRIk6wFCc3kgLHtRE5IzCBY204LY6X99EzMOn+AKb8Fcfx2rp5fPTcQ5W41+sL51PFy7F2tz4m/E3JuzDeEdh2V4+ey8eiStcmUtRWk5wWA5lNn6J1WzBd/n+fMzEa3hrN2O044RCf0wIKsadn/F1t/cuxO0Yj47Muaskpwtz0YoP0z8XHxS+3xKLGtbDGEd0I2JUDXI21yDnJrwTYmAani/J6cLxeA+dBUt5CZfEWjYWDm932Ji/olv7B0/txdwrCwrvTCzFxXFv8/A2Tsn5PdFsam1DYoy4trPxMS4bwLlbEns6sRNTckkOwqyQfF0fhEafLac1E54VVbQKU7F8gMlZlZv+YFzbIszHYwMw9524B/dlHR24EQ/gD7yKa+ImfxuoeNSCZ7G4QNQLeKVOretRzOnF8+258ft6mdelfVVInNtfG2wttGdls7ekvyuE7cD7dUbMlTgxQf/3BPY9oQNf7uO843Iu6zAiedgb2N7fG74/iy8qoDMwqUy5+hWHFIykNRfuf1nzjLiwrUn+XoxC6i0G49A9PPNn/HezY3LCyGw8nDg7LoQt7K405kcQTIuMXIwVvZxwSiRvT9gU8psFx8b9buv2+XI8hB9wK57BqXgTo6vkDI9crCqPYfGlP+KKAd7I68nOGxEL1K7BbVCpDy6oIVImYU0qGJ24Iep0WluBwdt0FRV3Jui1FLLtjrx8HD7pQUJOjuX1hG+TTNbC9APQchbi1xqf78B5eLeQcF+uUmwdUj38z6OAPitkxh/FajaHzSXxi0dGnTy9m4WMDoE9YTu+KUMOIWItHk+s+Qmn4Q4Ym7rVGpXq77Vpz8jLY6LaquLg7v7U9k2IrTgp7YPxfc54JpUK8MiorKkpkQzpNsD1CVjC8kQc3kAHMBR34blsfHgdrW1st/6IcLLXWJFYIla2LBtuFFRV0MioxPW5pQcEji60JzQYMe0RL0vTn5T+HCX2O6rV5ZMLynOXSum/RJ1hSfK39vIo6gvjVeqHU8ujqC8Mw8sq/8EcVEORlthPGIwndf3g4yJc3QjBshkEwUoco1J4HB71uUjXD0jqEm1NQM4olYpwtTS1DV+plKxKlOgb/gOb4LY7HKG2RgAAAABJRU5ErkJggg==), где\n",
        "![bbf42ecda092975c9c69dae84e16182ba5fe2e07.png](data:image/png;base64,iVBORw0KGgoAAAANSUhEUgAAAA4AAAAMCAYAAABSgIzaAAAABHNCSVQICAgIfAhkiAAAAMxJREFUKM+t0rFKwlEUBvCf/f9DQUI4SNhm0OQbhKBbo4ND0NTamg/hA7Q3NfYMTbq1uZibqIQ42VIE4nKCiygJdZZzzv3ud86537n8k50g3+diIfwRHjBGFSXc4+23As/oRFzDN4oJXsH5JqmOFU4jv8Frgt/iBdcpKcclhnhPCvVwiE884mKz2wG+MIj8GFfooxv4VsvxhDbuQphhTDGKJ+wkztFAGdNQ+gyTHRsAWfgVPpLzZRI30Yodz360KOyx60pMlkXxxZ++2BpqniDLiq/3MQAAAABJRU5ErkJggg==) — первый член прогрессии, ![790f9209748c2dca7ed7b81932c37c02af1dbc31.png](data:image/png;base64,iVBORw0KGgoAAAANSUhEUgAAAA8AAAAMCAYAAAC9QufkAAAABHNCSVQICAgIfAhkiAAAAMhJREFUKM+t0T9LAlAUBfBf2l8qkIYITILIqT6AEOLa6hbo6idQ6Cu0uQR9iuZoqsW2nFwSdGhqcBYkCJcrPJoe5FnePe+9c+9577BGlLCZe3kj1j084AvnOEIX45wmT+hFfYUfHOYI6/jFSfAWPnKEBVzjE99JswF2g59hB8eo/hUvMAp+gBu84x6XaOM1htyhthIXMUUnJjVjbx+TcFTEHI+4xQtmqYMtlJMETpOzPhrhchhpZMf5hu340OeIMBuVpL6IZ/wfS6FRHC066p4nAAAAAElFTkSuQmCC) — член с номером ![a601995d55609f2d9f5e233e36fbe9ea26011b3b.png](data:image/png;base64,iVBORw0KGgoAAAANSUhEUgAAAAgAAAAKCAYAAACJxx+AAAAABHNCSVQICAgIfAhkiAAAAIdJREFUGNONzyEKAnEUxOHPZdlgEBdEtJgs27SZrAYxGr2A2TsIXsA7GG3abR5mtVgELe8PYtFJP94bZhj+VBN5cIZeejQwxBpz7DBAB10sYYsSdRihwiOltDHC/aNmhWvqqzHFBc8wLHBEkVIO2AQXuGGMfRbHCU7BrzDMcE4J/a/ZrVjyW28jqxKNS1acpgAAAABJRU5ErkJggg==), ![a601995d55609f2d9f5e233e36fbe9ea26011b3b.png](data:image/png;base64,iVBORw0KGgoAAAANSUhEUgAAAAgAAAAKCAYAAACJxx+AAAAABHNCSVQICAgIfAhkiAAAAIdJREFUGNONzyEKAnEUxOHPZdlgEBdEtJgs27SZrAYxGr2A2TsIXsA7GG3abR5mtVgELe8PYtFJP94bZhj+VBN5cIZeejQwxBpz7DBAB10sYYsSdRihwiOltDHC/aNmhWvqqzHFBc8wLHBEkVIO2AQXuGGMfRbHCU7BrzDMcE4J/a/ZrVjyW28jqxKNS1acpgAAAABJRU5ErkJggg==) — количество суммируемых членов.\n",
        "\n",
        ">![81127bd3c8127ad120ac166a46a6e94545771b48.png](data:image/png;base64,iVBORw0KGgoAAAANSUhEUgAAAJIAAAAiCAYAAAC0sYD7AAAABHNCSVQICAgIfAhkiAAABUlJREFUeNrtm3lslEUYxn9rYSm1UEQRqoGqCIUaE6QeKYccwXpUVDBiSBSP4pEiClHwTkQMiiJRFE0aLRob/0Il4IGRokQshwQMBC0hBgGNsY2hrSBSg/WPeTYdx+3C7na3W755kk2/mW+/b6bvvPMez7wLHh4eGY0+GTKP3kBWqgc5za93UjgDKAVudPqfBAozZI79gJeDvEg3AO8BXwKrgIIMnONFwGfARqvveuC5NM8jBAwGpgPbgW7O/RnAQ0FUokHAF0B3CWklsDOFFvQsYEqCz74DLLIWdDuQl2Z5dQeeBRYArVEUKQv4FsgNmiKVSiDj1Z6i9pAUjXce8GCCz+4DrtX1GGBtJ8ptVDuKBPAqcFuqBu6WoYpUA5QAW9XOBY4D9dZ3HgDOB1qABqAKaEzCNcQTF83TLg8BA4FvdO9KYJPz/buACUAlMAIYIDd0H9CcRpluBiYC1UEKto/rH/9Hi3W/dlST7i+RFXkY+Bp4QQplb5CeKZhXD2C9YqJHgdOB7yyFGAL8Zn0/X4p2UAu4BnhKfWVplulBYFjQLJKNx4A6YL7alwJzgHPVPhPYAfyp9izgZuB5xVnRMAK42mr3lZBt5ftRsZmNWZLZp2pnA18572lwYpe3gHeVOe3XxrgA+LWduVUAvU5grbclIMdDigUDqUi3KnCdqaytSVlRnbXzxwK11jPLpSix8L0WNYICKVal1dfSTia53mqPd7KhFlmtCA5ImUqAueobCeQ4c7ZRfQLe50iCrroHcCyIPNIk4BxZpDDwiCxGntxeZP4TFaPMjePdLdqhkU8TcNTpO9JOfLTFCtALNPZs9dUD/Z1nRupdu9WerIC8ELgmyhjNzjzcT0sSnFdD0BRpKPABsFRZyF/A7XIHq3V/MLBQbiCEYXBTjVVAsSzeQi1sKbBX97eKurAxBlin/yOigDtlZWs7cG5TpaQA5VbGa3NeO4Lm2poV57gmvRVDUP4BjAZeUbY2FngxDfN6Rq71QuBu4HJlYWut+GWO88xGBdkRPK5Ae0UHZ22NGr9G7cNRFPrNdC1glnZKpWKNErmUroTewPuKr042c8sBhnfQ+NXa/ZmEAbJ+oXQMFtIumWkp1Urgky6mSNOAe/Up7oTxBypLC2WQTJYDV6RrsMniZNysaR4e8aLYoRc6E5cBN6VzwAXAHgzJhsXZDPN64SHY/FYYi5eyzW8Z8LFS2M/l1lYnMFjYUcZoOEYbgejRNVAGXCULV42ptxqlZGKx68enA3cqC+qpNLIqzgEvUUocC3uBD/3aZCSKMGSty6O9ASwDdtF2pjhDOjIuZJmswxbXkas08ucoaXiqsQ5DRHqkPo47GsWbNGNKUhY59/oAt2AqCMapbxmGQqqI8EhLMKfpf1scxGZLsfpr0FYMobYrxgSHy6LFwn65z2iY5Ne409Aib7I7yr1GKdAGJ0GrAMIRi7QHUy5aZ/Eq2xTt/wLco3R6saxFPfB2O5PpiynviIXfgZ/8unU57FPoswG4GMNN5QMvoYtaBdoVwB0Y7ihSrHW2AqyP1H5CJs4jWMjHnEmG1R4K/CDjUgSmDCMPczo8WtF5tvOSckwJBZjSjEJSWJLQhTAJUybymjbbqYwQhiG30Y/YJS//wwra+KRNmGOT7IAr0XXA06I6plrxhUcMDHKuc7xIqHaSjpoYCcQpj5M9/T/QznWQUcV/f4yQ0gpEj2CglzLRci8Kj2RQCbweZAFkeR1IGrMxv3aZ70XhkSimYU4E7LjJB9secWEChtHdIiogjDkF8IrkEReKaKvVPqS/a7xYPDySwL/Z+Aeh9JcPVgAAAABJRU5ErkJggg==)\n",
        ", где ![bbf42ecda092975c9c69dae84e16182ba5fe2e07.png](data:image/png;base64,iVBORw0KGgoAAAANSUhEUgAAAA4AAAAMCAYAAABSgIzaAAAABHNCSVQICAgIfAhkiAAAAMxJREFUKM+t0rFKwlEUBvCf/f9DQUI4SNhm0OQbhKBbo4ND0NTamg/hA7Q3NfYMTbq1uZibqIQ42VIE4nKCiygJdZZzzv3ud86537n8k50g3+diIfwRHjBGFSXc4+23As/oRFzDN4oJXsH5JqmOFU4jv8Frgt/iBdcpKcclhnhPCvVwiE884mKz2wG+MIj8GFfooxv4VsvxhDbuQphhTDGKJ+wkztFAGdNQ+gyTHRsAWfgVPpLzZRI30Yodz360KOyx60pMlkXxxZ++2BpqniDLiq/3MQAAAABJRU5ErkJggg==) — первый член прогрессии, ![e85ff03cbe0c7341af6b982e47e9f90d235c66ab.png](data:image/png;base64,iVBORw0KGgoAAAANSUhEUgAAAAcAAAANCAYAAABlyXS1AAAABHNCSVQICAgIfAhkiAAAAJRJREFUGNOF0LEKQXEcxfGPe5NCN7Eo3oFZZLRYDR5AeQCjwUN4FC/gDe5gYVA2s9GNLP9bN90406/ft3M6HX6oUvKrYYtOmSHGHFlUAl9oIf2ObSLDHo8cJuFxwQBjrHPHAZtwD0N0G0Z4oxvgEilEmOCMe4BTHFGP8MSpUGgW4C7GFSs0sAjDJLjlharoFVbr+6cPbNEWwF7TNJQAAAAASUVORK5CYII=) — разность прогрессии, ![a601995d55609f2d9f5e233e36fbe9ea26011b3b.png](data:image/png;base64,iVBORw0KGgoAAAANSUhEUgAAAAgAAAAKCAYAAACJxx+AAAAABHNCSVQICAgIfAhkiAAAAIdJREFUGNONzyEKAnEUxOHPZdlgEBdEtJgs27SZrAYxGr2A2TsIXsA7GG3abR5mtVgELe8PYtFJP94bZhj+VBN5cIZeejQwxBpz7DBAB10sYYsSdRihwiOltDHC/aNmhWvqqzHFBc8wLHBEkVIO2AQXuGGMfRbHCU7BrzDMcE4J/a/ZrVjyW28jqxKNS1acpgAAAABJRU5ErkJggg==) — количество суммируемых членов.\n",
        "\n",
        "Квадрат суммы первых *n* натуральных чисел равен\n",
        ">![hello_html_m3d821d67.png](data:image/png;base64,iVBORw0KGgoAAAANSUhEUgAAASQAAAArBAMAAAAj9ui+AAAAMFBMVEX///8MDAwWFhYiIiLMzMyenp5QUFC2trZAQEAEBATm5uZ0dHQwMDBiYmKKiooAAAAzevxMAAAAAXRSTlMAQObYZgAABFpJREFUWAntmEuIW2UUx/953iST5M5GFAQJKcUHCMGq6EayrkKu4LKPWDdFHIldCC5kouCoXQ2iVgrqFUEQlYldaGlnkU0t6sIg0oU4koWIUFoHlBZ02njO97j5vsy9mTu5ceHgx0zuOef/O//v3EcyQ4B/fR1Z70Ts4WxcjFBEudKMUL8U9R8iVFGWSBRxKrcaIX2GF/wIictXw7RSFyj7pFSHcI4/OBWxRYNu5jYt7flLJ1W+DNezJCvJ9q1UJc81AKE8BryITC2ECRBbM+lCz9ScAV5SuYO1pinZcblj5yL79BiNhAv0S/e8C+fv7cwYsTWDdp7xTS2/it89XVjRQcgxbdV4El5lDg7Rbw14G9iiSK+MCgJEC/Jo0rnTsiZdc43xSAtdqWgzmanXs1ZmjeQC3HoX8IcBaRcxEiETa0xXV6GurnbF1xo+DF+E2kzWqz9Vz38DPEKPsIy4rJvFfmkPmSFXszdwpX953ecY2kUjomi+aNppl67LunZ1Tqm9nB8f7QhJmSn3heKr+Aq4ky6FjJjRzWK/cg9p0Zk/jd47nXLbdJH3lpBtK6CvrA+lqFxzT3pqr9ZoJBU1knJ/Ym0IenfT7VYRQ9ZI+TaKPleXO7mDN5FpUzhxlQjZtixaqNoVD5l7sSRHCtyPAu8BmyTIiBHdLK5SpQv5rOwH6COmOGTCvnGEbFsWLVTtiuWBsRdL6ipp96eQ/QugH8gIL9frb9Troj8YySe5PATyDbQoLtTrd9fr+6gob1zISAbN2NjV8eHW9F6sjM2UO+5Fvga8SZqMmNLnI0YqDFBsUvFnOEgPcIyB4MTkSIRMLpsWqnRd68NdNPZiSV0l7X4dqd4At5IgI0askeh8Ux16Q/aQh9vB7RUmtIt6vIeiZrxM0EKRrikPra6xF0tqJOVO98892MO34jnhiFcwUo0SmoffUSc2Npb4EfjzEya0C8o1Snhke03QQpSuFQ+v+2pX3aNGUu70KZjfAOijUkWMqZHy3209TfvJj8r3R6ObjC0NhJFyCRDtro4TtKgq199eO2nuxZIyG7tz8QN+CZZqlvmvQGkxkHSgXAJE16ccLVeLs8y0UvB0xMe+mdxPyStmQcRls8LIzqsfiVhmmipFnoLTJeZDzYUeBRKqJCoejuoWZ5AbRMlcDz3JaQ3xtGozgjsn6r9EqKIskWnE/1pwBegvA619Qb6HgtF81qZ9SdwErrbTnsv28LP0n7xXpaWl+c790aWpfwtibHbCz3gxsNiIcw8eiA2Hg3fg47mOlBqW3grfKW51YTEuGZP7PCYXjaW60dpMym0zdZlN7rPn6b/dOa5rl7/wk9m1LuLxZA52d3ark0v4LLQaKA5s10RZlr5/eTeRA9ba4V+/zepaugbcN2uz7HNppNVkFnY3jfSwXdltlu4i09ht0zSevg07ME3fWavU5vss4fvEzxJuwZmdB98FkfIWarvAw9DC8XZYefbaysrU3n8A8ReOLWzQpeQAAAAASUVORK5CYII=)"
      ]
    },
    {
      "cell_type": "code",
      "metadata": {
        "id": "wKqdyZDuKqUr"
      },
      "source": [
        "n = 100\n",
        "s1 = ((1 + n)/2 * n) ** 2\n",
        "s2 = (2*n + 1) * (n + 1) * n/6\n",
        "print(s1 - s2)"
      ],
      "execution_count": null,
      "outputs": []
    },
    {
      "cell_type": "markdown",
      "metadata": {
        "id": "ohyqnGtRTObg"
      },
      "source": [
        "---\n",
        "# Задача 7. 10001-ое простое число\n",
        "Выписав первые шесть простых чисел, получим 2, 3, 5, 7, 11 и 13. Очевидно, что 6-ое простое число - 13.\n",
        "\n",
        "Какое число является 10001-ым простым числом?\n",
        "\n",
        "[Оригинал](https://projecteuler.net/problem=7) [На русском](https://euler.jakumo.org/problems/view/7.html)\n",
        "\n",
        "Completed on Sat, 3 Oct 2020, 00:08"
      ]
    },
    {
      "cell_type": "code",
      "metadata": {
        "id": "vAeid8FATcWh"
      },
      "source": [
        "from math import sqrt\n",
        "\n",
        "\n",
        "def is_prime(n):\n",
        "    if n % 2 == 0 and n > 2: \n",
        "        return False\n",
        "    return all(n % i for i in range(3, int(sqrt(n)) + 1, 2))\n",
        "\n",
        "\n",
        "def is_prime(n):\n",
        "    if n % 2 == 0:\n",
        "        return n == 2\n",
        "    d = 3\n",
        "    while d * d <= n and n % d != 0:\n",
        "        d += 2\n",
        "    return d * d > n\n",
        "\n",
        "\n",
        "count = 1\n",
        "i = 1\n",
        "while count < 10001:\n",
        "    i += 2\n",
        "    count += 1 if is_prime(i) else 0\n",
        "print(i)"
      ],
      "execution_count": null,
      "outputs": []
    },
    {
      "cell_type": "markdown",
      "metadata": {
        "id": "IQCv5CM1utta"
      },
      "source": [
        "---\n",
        "# Задача 8. Наибольшее произведение в последовательности\n",
        "Наибольшее произведение четырех последовательных цифр в нижеприведенном 1000-значном числе равно 9 × 9 × 8 × 9 = 5832.\n",
        "\n",
        ">См. файл sample_data/p008_1000digit_num.txt\n",
        "\n",
        "Найдите наибольшее произведение тринадцати последовательных цифр в данном числе.\n",
        "\n",
        "[Оригинал](https://projecteuler.net/problem=8) [На русском](https://euler.jakumo.org/problems/view/8.html)\n",
        "\n",
        "Completed on Sat, 3 Oct 2020, 00:51"
      ]
    },
    {
      "cell_type": "code",
      "metadata": {
        "id": "ED3kX2E-qR2i"
      },
      "source": [
        "from numpy import multiply\n",
        "\n",
        "with open('/content/drive/My Drive/ProjectEuler/sample_data/p008_1000digit_num.txt') as f:\n",
        "    BIG_INT = f.read()\n",
        "\n",
        "max(multiply.reduce([int(digit) for digit in BIG_INT[j:j + 13]]) \n",
        "    for j in range(len(BIG_INT) - 12))"
      ],
      "execution_count": null,
      "outputs": []
    },
    {
      "cell_type": "markdown",
      "metadata": {
        "id": "DnSl2ivvmHIw"
      },
      "source": [
        "---\n",
        "# Задача 9. Особая тройка Пифагора\n",
        "Тройка Пифагора - три натуральных числа a < b < c, для которых выполняется равенство\n",
        "\n",
        ">a^2 + b^2 = c^2\n",
        "\n",
        "Например, 3^2 + 4^2 = 9 + 16 = 25 = 5^2.\n",
        "\n",
        "Существует только одна тройка Пифагора, для которой a + b + c = 1000.\n",
        "\n",
        "Найдите произведение abc.\n",
        "\n",
        "[Оригинал](https://projecteuler.net/problem=9) [На русском](https://euler.jakumo.org/problems/view/9.html)\n",
        "\n",
        "Completed on Sat, 3 Oct 2020, 15:19"
      ]
    },
    {
      "cell_type": "markdown",
      "metadata": {
        "id": "K_acFOn-0kCq"
      },
      "source": [
        "**Вариант 1.** Красивый, но медленный."
      ]
    },
    {
      "cell_type": "code",
      "metadata": {
        "id": "fpU58kEonmj4"
      },
      "source": [
        "С = 1000\n",
        "[(a, b, С - a - b, (С - a - b)*a*b) \n",
        "    for a in range(1, С + 1)\n",
        "    for b in range(a + 1, С + 1)\n",
        "    if (С-a-b) ** 2 == a**2 + b**2]"
      ],
      "execution_count": null,
      "outputs": []
    },
    {
      "cell_type": "markdown",
      "metadata": {
        "id": "-cyzxkif01-g"
      },
      "source": [
        "**Вариант 2.** С просторов рунета (стандартный, но быстрый)."
      ]
    },
    {
      "cell_type": "code",
      "metadata": {
        "id": "wmsI1rIY31fp"
      },
      "source": [
        "def compute():\n",
        "    PERIMETER = 1000\n",
        "    for a in range(1, PERIMETER + 1):\n",
        "        for b in range(a + 1, PERIMETER + 1):\n",
        "            c = PERIMETER - a - b\n",
        "            if a*a + b*b == c*c:\n",
        "                return str(a * b * c)\n",
        "\n",
        "compute()"
      ],
      "execution_count": null,
      "outputs": []
    },
    {
      "cell_type": "markdown",
      "metadata": {
        "id": "5CKEhqH76IYV"
      },
      "source": [
        "---\n",
        "# Задача 10. Сложение простых чисел\n",
        "Сумма простых чисел меньше 10 равна 2 + 3 + 5 + 7 = 17.\n",
        "\n",
        "Найдите сумму всех простых чисел меньше двух миллионов.\n",
        "\n",
        "[Оригинал](https://projecteuler.net/problem=10) [На русском](https://euler.jakumo.org/problems/view/10.html)\n",
        "\n",
        "Completed on Sat, 3 Oct 2020, 16:28"
      ]
    },
    {
      "cell_type": "markdown",
      "metadata": {
        "id": "tgyTrtjG7f0O"
      },
      "source": [
        "**Вариант 1.**"
      ]
    },
    {
      "cell_type": "code",
      "metadata": {
        "id": "kipJ4f4hD82L"
      },
      "source": [
        "def is_prime(n):\n",
        "    if n % 2 == 0:\n",
        "        return n == 2\n",
        "    d = 3\n",
        "    while d * d <= n and n % d != 0:\n",
        "        d += 2\n",
        "    return d * d > n\n",
        "    \n",
        "\n",
        "print(sum(i for i in range(3, 2*10**6, 2) if is_prime(i)) + 2)"
      ],
      "execution_count": null,
      "outputs": []
    },
    {
      "cell_type": "markdown",
      "metadata": {
        "id": "uRqwJq257jhW"
      },
      "source": [
        "**Вариант 2.**"
      ]
    },
    {
      "cell_type": "code",
      "metadata": {
        "id": "wgyfZ67S7l_u"
      },
      "source": [
        "sum_ = 2\n",
        "for i in range(3, 2*10**6, 2):\n",
        "    if is_prime(i):\n",
        "        sum_ += i\n",
        "print(sum_)"
      ],
      "execution_count": null,
      "outputs": []
    },
    {
      "cell_type": "markdown",
      "metadata": {
        "id": "8HfjBdGtbtyk"
      },
      "source": [
        "---\n",
        "# Задача 11. Наибольшее произведение в таблице\n",
        "В таблице 20×20 \n",
        "\n",
        ">См. файл sample_data/p011_matrix.txt\n",
        "\n",
        "четыре числа на одной диагонали выделены красным.\n",
        "\n",
        "Произведение этих чисел 26 × 63 × 78 × 14 = 1788696.\n",
        "\n",
        "Каково наибольшее произведение четырех подряд идущих чисел в таблице 20×20, расположенных в любом направлении (вверх, вниз, вправо, влево или по диагонали)?\n",
        "\n",
        "[Оригинал](https://projecteuler.net/problem=11) [На русском](https://euler.jakumo.org/problems/view/11.html)\n",
        "\n",
        "Completed on Mon, 5 Oct 2020, 22:47"
      ]
    },
    {
      "cell_type": "code",
      "metadata": {
        "id": "_g2uE4URcA8t"
      },
      "source": [
        "import numpy as np\n",
        "\n",
        "with open('/content/drive/My Drive/ProjectEuler/sample_data/p011_matrix.txt') as f:\n",
        "    matrix = np.array([int(i) \n",
        "                       for line in f\n",
        "                       for i in line.split()]).reshape(20, 20)\n",
        "\n",
        "max_global = 0\n",
        "for i in range(0, 17):\n",
        "    for j in range(0, 17):\n",
        "        mini_matrix = matrix[i:i + 4, j: j + 4]\n",
        "        max_mini = max([np.multiply.reduce(mini_matrix[i]) for i in range(4)] +\n",
        "                       [np.multiply.reduce(mini_matrix[:, j]) for j in range(4)] +\n",
        "                       [np.multiply.reduce(np.diag(mini_matrix))] + \n",
        "                       [np.multiply.reduce(np.diag(np.fliplr(mini_matrix)))])\n",
        "        max_global = max(max_global, max_mini)\n",
        "print(max_global)"
      ],
      "execution_count": null,
      "outputs": []
    },
    {
      "cell_type": "markdown",
      "metadata": {
        "id": "9uHEDUZ8wHRz"
      },
      "source": [
        "---\n",
        "# Задача 12. Треугольное число с большим количеством делителей\n",
        "Последовательность треугольных чисел образуется путем сложения натуральных чисел. К примеру, 7-ое треугольное число равно 1 + 2 + 3 + 4 + 5 + 6 + 7 = 28. Первые десять треугольных чисел:\n",
        "\n",
        ">1, 3, 6, 10, 15, 21, 28, 36, 45, 55, ...\n",
        "\n",
        "Перечислим делители первых семи треугольных чисел:\n",
        "\n",
        " 1: 1\n",
        "\n",
        " 3: 1, 3\n",
        "\n",
        " 6: 1, 2, 3, 6\n",
        "\n",
        "10: 1, 2, 5, 10\n",
        "\n",
        "15: 1, 3, 5, 15\n",
        "\n",
        "21: 1, 3, 7, 21\n",
        "\n",
        "28: 1, 2, 4, 7, 14, 28\n",
        "\n",
        "Как мы видим, 28 - первое треугольное число, у которого более пяти делителей.\n",
        "\n",
        "Каково первое треугольное число, у которого более пятисот делителей?\n",
        "\n",
        "[Оригинал](https://projecteuler.net/problem=12) [На русском](https://euler.jakumo.org/problems/view/12.html)\n",
        "\n",
        "Completed on Mon, 5 Oct 2020, 23:21"
      ]
    },
    {
      "cell_type": "code",
      "metadata": {
        "id": "BCxNbZ3iznxF"
      },
      "source": [
        "import math\n",
        "\n",
        "\n",
        "def get_dividers(n):\n",
        "    return [(i, n // i) for i in range(1, int(math.sqrt(n)) + 1) if n % i == 0]\n",
        "\n",
        "\n",
        "count_div = 0\n",
        "n = 1\n",
        "Tn = 0\n",
        "while count_div < 500:\n",
        "    Tn = n*(n + 1) / 2\n",
        "    count_div = len(get_dividers(Tn)) * 2\n",
        "    n += 1\n",
        "\n",
        "print(int(Tn))"
      ],
      "execution_count": null,
      "outputs": []
    },
    {
      "cell_type": "markdown",
      "metadata": {
        "id": "_a6Kz3f15NkW"
      },
      "source": [
        "---\n",
        "# Задача 13. Большая сумма\n",
        "Найдите первые десять цифр суммы следующих ста 50-значных чисел.\n",
        "\n",
        ">См. файл sample_data/p013_50digit_nums.txt\n",
        "\n",
        "[Оригинал](https://projecteuler.net/problem=13) [На русском](https://euler.jakumo.org/problems/view/13.html)\n",
        "\n",
        "Completed on Tue, 6 Oct 2020, 08:40"
      ]
    },
    {
      "cell_type": "code",
      "metadata": {
        "id": "UixtqapB6HG5"
      },
      "source": [
        "with open('/content/drive/My Drive/ProjectEuler/sample_data/p013_50digit_nums.txt') as f:\n",
        "    print(str(sum([int(line) for line in f]))[:10])"
      ],
      "execution_count": null,
      "outputs": []
    },
    {
      "cell_type": "markdown",
      "metadata": {
        "id": "9E-LOou-CNrG"
      },
      "source": [
        "---\n",
        "# Задача 14. Самая длинная последовательность Коллатца\n",
        "Следующая повторяющаяся последовательность определена для множества натуральных чисел:\n",
        "\n",
        ">n → n/2 (n - четное)\n",
        "\n",
        ">n → 3n + 1 (n - нечетное)\n",
        "\n",
        "Используя описанное выше правило и начиная с 13, сгенерируется следующая последовательность:\n",
        "\n",
        ">13 → 40 → 20 → 10 → 5 → 16 → 8 → 4 → 2 → 1\n",
        "\n",
        "Получившаяся последовательность (начиная с 13 и заканчивая 1) содержит 10 элементов. Хотя это до сих пор и не доказано (проблема Коллатца (Collatz)), предполагается, что все сгенерированные таким образом последовательности оканчиваются на 1.\n",
        "\n",
        "Какой начальный элемент меньше миллиона генерирует самую длинную последовательность?\n",
        "\n",
        "**Примечание:** Следующие за первым элементы последовательности могут быть больше миллиона.\n",
        "\n",
        "[Оригинал](https://projecteuler.net/problem=14) [На русском](https://euler.jakumo.org/problems/view/14.html)\n",
        "\n",
        "Completed on Tue, 6 Oct 2020, 13:26"
      ]
    },
    {
      "cell_type": "code",
      "metadata": {
        "id": "1hgeXB4HCwRF"
      },
      "source": [
        "def len_seq_collatz(n):\n",
        "    length = 1\n",
        "    while n > 1:\n",
        "        if n % 2 == 0:\n",
        "            n = n // 2\n",
        "        else:\n",
        "            n = 3*n +1\n",
        "        length += 1\n",
        "    return length\n",
        "    \n",
        "    \n",
        "ans = 0\n",
        "max_len = 0\n",
        "for n in range(10**6 - 1, 0, -1):\n",
        "    cur_len = len_seq_collatz(n)\n",
        "    ans = n if max_len < cur_len else ans\n",
        "    max_len = max(max_len, cur_len)\n",
        "\n",
        "print(ans)\n",
        "#print(max_len)"
      ],
      "execution_count": null,
      "outputs": []
    },
    {
      "cell_type": "markdown",
      "metadata": {
        "id": "0c9NhYl0_h1G"
      },
      "source": [
        "---\n",
        "# Задача 15. Пути через таблицу\n",
        "Начиная в левом верхнем углу сетки 2×2 и имея возможность двигаться только вниз или вправо, существует ровно 6 маршрутов до правого нижнего угла сетки.\n",
        "\n",
        "![p015.png](data:image/png;base64,iVBORw0KGgoAAAANSUhEUgAAANAAAACXAQMAAABeN0fjAAAABlBMVEVsAGUAAADWqXHfAAAAAXRSTlMAQObYZgAAAAlwSFlzAAAuIwAALiMBeKU/dgAAAAd0SU1FB+MDCREdAmoqMqEAAAAkdEVYdENvbW1lbnQAVWxlYWQgR0lGIFNtYXJ0U2F2ZXIgVmVyIDIuMLqaStoAAAGnSURBVEjH7dexboMwEAbgQ45Eh6p0zBT3QSrxWtlg6INZyot4yAN49GDhGuy7BptzKrVqpIpbkvBhMOJs/QHAarz34/JNem/nz97P5SIpJFdQHCjToUgTjRpx1KFGbwCvAKdAACJS+P2+006/QbFFv0GhRU2k28bGFu1i98ZRehnVzxro6faCenUvojC95pHUhdlHmqe4opZoKMkRqTUJor4kSzSuqSGSJRmi/LmIupI00pTTgNSWpJDcXToS9WMiYSOdeJIjkqSXYhJpnizSCxKkVyknnvxHomcihS16LXZs9bVjb1dXJctQuKjmaWRpApYsT5on9lbz+uDqCHv9o4qdHvqnpc18SD0fl1pYLC2uWTgvhw477fR3tGpRdY+GJZ0gTbeNfU479orogk95PBAPphRFtqitkeNI1Mhy1NTIsM9VI83SUCF1jy5EeRQRF4V0Ksgg5VFEXByRzskTZVEkkEKaCjJIWRQJkdjR3nvd+vM4bEWROgGSzckBZpssH4h59WxHEUHnzsEzIzxX5oFIUGyRJieallQ5GTalCMWmFPHzlPIJSygqFqlA3XYAAAAASUVORK5CYII=)\n",
        "\n",
        "Сколько существует таких маршрутов в сетке 20×20?\n",
        "\n",
        "[Материалы](https://informatics.mccme.ru/mod/book/view.php?id=266&chapterid=57) для решения.\n",
        "\n",
        "[Оригинал](https://projecteuler.net/problem=15) [На русском](https://euler.jakumo.org/problems/view/15.html)\n",
        "\n",
        "Completed on Thu, 8 Oct 2020, 19:38"
      ]
    },
    {
      "cell_type": "markdown",
      "metadata": {
        "id": "UmELB768alHE"
      },
      "source": [
        "**Варивнт 1.**\n",
        "С иcпользованием двумерного массива."
      ]
    },
    {
      "cell_type": "code",
      "metadata": {
        "id": "9idwsBh1nNKA"
      },
      "source": [
        "import numpy as np\n",
        "\n",
        "size = 20\n",
        "m = n = size + 1\n",
        "ways = np.ones((m, n))\n",
        "for i in range(1, m):\n",
        "    for j in range(1, n):\n",
        "        ways[i, j] = ways[i - 1, j] + ways[i, j - 1]\n",
        "\n",
        "#print(ways)\n",
        "ways[size, size]"
      ],
      "execution_count": null,
      "outputs": []
    },
    {
      "cell_type": "markdown",
      "metadata": {
        "id": "f1laGUHYhRYU"
      },
      "source": [
        "**Вариант 2.**\n",
        "С иcпользованием одномерного массива."
      ]
    },
    {
      "cell_type": "code",
      "metadata": {
        "id": "cFDgOaG3Y3He"
      },
      "source": [
        "import numpy as np\n",
        "\n",
        "size = 20\n",
        "ways = np.ones(size + 1)\n",
        "for i in range(1, size + 1):\n",
        "    for j in range(1, size + 1):\n",
        "        ways[j] = ways[j - 1] + ways[j]\n",
        "#print(ways)\n",
        "ways[size]"
      ],
      "execution_count": null,
      "outputs": []
    },
    {
      "cell_type": "markdown",
      "metadata": {
        "id": "R2uSVWMViELb"
      },
      "source": [
        "**Вариант 3.** Через рекурсию с кэшированием (с просторов рунета)."
      ]
    },
    {
      "cell_type": "code",
      "metadata": {
        "id": "vDVe2WBYGMmz"
      },
      "source": [
        "memory = {(0, 1): 1, (1, 0): 1}\n",
        " \n",
        " \n",
        "def func(x, y):\n",
        "    if (x, y) not in memory:\n",
        "        if x == 0:\n",
        "            memory[(x, y)] = func(x, y - 1)\n",
        "        elif y == 0:\n",
        "            memory[(x, y)] = func(x - 1, y)\n",
        "        else:\n",
        "            memory[(x, y)] = func(x - 1, y) + func(x, y - 1)\n",
        "    return memory[(x, y)]\n",
        " \n",
        " \n",
        "#print(func(2, 2))\n",
        "#print(memory)\n",
        "print(func(20, 20))\n",
        "#print(memory)"
      ],
      "execution_count": null,
      "outputs": []
    },
    {
      "cell_type": "markdown",
      "metadata": {
        "id": "OKRdCE0iq8HV"
      },
      "source": [
        "---\n",
        "# Задача 16. Сумма цифр степени\n",
        "2^15 = 32768, сумма цифр этого числа равна 3 + 2 + 7 + 6 + 8 = 26.\n",
        "\n",
        "Какова сумма цифр числа 2^1000?\n",
        "\n",
        "[Оригинал](https://projecteuler.net/problem=16) [На русском](https://euler.jakumo.org/problems/view/16.html)\n",
        "\n",
        "Completed on Thu, 8 Oct 2020, 20:34"
      ]
    },
    {
      "cell_type": "code",
      "metadata": {
        "id": "a8CQuKSyFCUh"
      },
      "source": [
        "sum(int(i) for i in str(2**1000))"
      ],
      "execution_count": null,
      "outputs": []
    },
    {
      "cell_type": "markdown",
      "metadata": {
        "id": "dGvIgvaCFa0S"
      },
      "source": [
        "---\n",
        "# Задача 17. Счет букв в числительных\n",
        "Если записать числа от 1 до 5 английскими словами (one, two, three, four, five), то используется всего 3 + 3 + 5 + 4 + 4 = 19 букв.\n",
        "\n",
        "Сколько букв понадобится для записи всех чисел от 1 до 1000 (one thousand) включительно?\n",
        "\n",
        ">См. файл sample_data/p017_1000_nums_eng.csv\n",
        "\n",
        "**Примечание:** Не считайте пробелы и дефисы. Например, число 342 (three hundred and forty-two) состоит из 23 букв, число 115 (one hundred and fifteen) - из 20 букв. Использование \"and\" при записи чисел соответствует правилам британского английского.\n",
        "\n",
        "[Оригинал](https://projecteuler.net/problem=17) [На русском](https://euler.jakumo.org/problems/view/17.html)\n",
        "\n",
        "Completed on Thu, 8 Oct 2020, 22:10"
      ]
    },
    {
      "cell_type": "code",
      "metadata": {
        "id": "vHzYAL95Fogn"
      },
      "source": [
        "import csv\n",
        "import string\n",
        "\n",
        "count_chars = -8\n",
        "tt = str.maketrans(dict.fromkeys(string.punctuation + ' '))\n",
        "with open('/content/drive/My Drive/ProjectEuler/sample_data/p017_1000_nums_eng.csv') as f:\n",
        "    reader = csv.reader(f, delimiter='\\t')\n",
        "    for row in reader:\n",
        "        count_chars += len(row[1].translate(tt))\n",
        "\n",
        "print(count_chars)"
      ],
      "execution_count": null,
      "outputs": []
    },
    {
      "cell_type": "markdown",
      "metadata": {
        "id": "M3Fqfba1GiwV"
      },
      "source": [
        "---\n",
        "# Задача 18. Максимальная сумма пути I\n",
        "Начиная в вершине треугольника (см. пример ниже) и перемещаясь вниз на смежные числа, максимальная сумма до основания составляет 23.\n",
        "\n",
        "```\n",
        "   3\n",
        "  7 4\n",
        " 2 4 6\n",
        "8 5 9 3\n",
        "```\n",
        "То есть, 3 + 7 + 4 + 9 = 23.\n",
        "\n",
        "Найдите максимальную сумму пути от вершины до основания следующего треугольника:\n",
        "```\n",
        "              75\n",
        "             95 64\n",
        "            17 47 82\n",
        "           18 35 87 10\n",
        "          20 04 82 47 65\n",
        "         19 01 23 75 03 34\n",
        "        88 02 77 73 07 63 67\n",
        "       99 65 04 28 06 16 70 92\n",
        "      41 41 26 56 83 40 80 70 33\n",
        "     41 48 72 33 47 32 37 16 94 29\n",
        "    53 71 44 65 25 43 91 52 97 51 14\n",
        "   70 11 33 28 77 73 17 78 39 68 17 57\n",
        "  91 71 52 38 17 14 91 43 58 50 27 29 48\n",
        " 63 66 04 68 89 53 67 30 73 16 69 87 40 31\n",
        "04 62 98 27 23 09 70 98 73 93 38 53 60 04 23\n",
        "```\n",
        "\n",
        ">См. файл sample_data/p018_lower_triangular_matrix.txt\n",
        "\n",
        "**Примечание:** Так как в данном треугольнике всего 16384 возможных маршрута от вершины до основания, эту задачу можно решить проверяя каждый из маршрутов. Однако похожая Задача 67 с треугольником, состоящим из сотни строк, не решается перебором (brute force) и требует более умного подхода! ;o)\n",
        "\n",
        "[Оригинал](https://projecteuler.net/problem=18) [На русском](https://euler.jakumo.org/problems/view/18.html)\n",
        "\n",
        "Completed on Fri, 9 Oct 2020, 23:29"
      ]
    },
    {
      "cell_type": "code",
      "metadata": {
        "id": "bQIv03OrGrg5"
      },
      "source": [
        "import numpy as np\n",
        "\n",
        "size_matrix = 15\n",
        "lower_triangular_matrix = np.zeros((size_matrix, size_matrix))\n",
        "\n",
        "with open('/content/drive/My Drive/ProjectEuler/sample_data/p018_lower_triangular_matrix.txt') as f:\n",
        "    i = 0\n",
        "    for line in f:\n",
        "        j = 0\n",
        "        for num in line.split():\n",
        "            lower_triangular_matrix[i, j] = int(num)\n",
        "            j += 1\n",
        "        i += 1\n",
        "\n",
        "for i in range(size_matrix - 2, -1, -1):\n",
        "    for j in range(i + 1):\n",
        "        lower_triangular_matrix[i, j] += max(lower_triangular_matrix[i + 1, j], lower_triangular_matrix[i + 1, j + 1])\n",
        "\n",
        "print(lower_triangular_matrix[0, 0])"
      ],
      "execution_count": null,
      "outputs": []
    },
    {
      "cell_type": "markdown",
      "metadata": {
        "id": "9wcgW-7jgr3I"
      },
      "source": [
        "---\n",
        "# Задача 19. Считаем воскресенья\n",
        "\n",
        "Дана следующая информация (однако, вы можете проверить ее самостоятельно):\n",
        "\n",
        "* 1 января 1900 года - понедельник.\n",
        "* В апреле, июне, сентябре и ноябре 30 дней.\n",
        "* В феврале 28 дней, в високосный год - 29.\n",
        "* В остальных месяцах по 31 дню.\n",
        "* Високосный год - любой год, делящийся нацело на 4, однако последний год века (ХХ00) является високосным в том и только том случае, если делится на 400.\n",
        "\n",
        "Сколько воскресений выпадает на первое число месяца в двадцатом веке (с 1 января 1901 года до 31 декабря 2000 года)?\n",
        "\n",
        "[Оригинал](https://projecteuler.net/problem=19) [На русском](https://euler.jakumo.org/problems/view/19.html)\n",
        "\n",
        "Completed on Sun, 11 Oct 2020, 11:31"
      ]
    },
    {
      "cell_type": "markdown",
      "metadata": {
        "id": "BGm5QIzBNkwW"
      },
      "source": [
        "**Вариант 1.**"
      ]
    },
    {
      "cell_type": "code",
      "metadata": {
        "id": "s2hpJPjYQ6Xi"
      },
      "source": [
        "import numpy as np\n",
        "from functools import reduce\n",
        "\n",
        "COUNT_DAYS = {\n",
        "    1: 31,\n",
        "    2: 28,\n",
        "    3: 31,\n",
        "    4: 30,\n",
        "    5: 31,\n",
        "    6: 30,\n",
        "    7: 31,\n",
        "    8: 31,\n",
        "    9: 30,\n",
        "    10: 31,\n",
        "    11: 30,\n",
        "    12: 31,\n",
        "}\n",
        "\n",
        "\n",
        "def is_leap(year):\n",
        "    return (year % 4 == 0 and year % 100 != 0) or (year % 400 == 0)\n",
        "\n",
        "\n",
        "def get_calendar(begin_year, year):\n",
        "    COUNT_DAYS[2] = 29 if is_leap(year) else 28\n",
        "    count_days = reduce(lambda a, b: a + b, COUNT_DAYS.values())\n",
        "    m = count_days//7 + 2\n",
        "    n = 7\n",
        "    matrix_days = np.zeros((m, n))\n",
        "    i = 0\n",
        "    j = begin_year - 1\n",
        "    for days in COUNT_DAYS.values():\n",
        "        for d in range(1, days + 1):\n",
        "            if j == 7:\n",
        "                i += 1\n",
        "                j = 0\n",
        "            matrix_days[i, j] = d\n",
        "            j += 1\n",
        "    \n",
        "    return matrix_days\n",
        "\n",
        "\n",
        "def end_year(calendar):\n",
        "    length = len(calendar)\n",
        "    if any(calendar[length - 1]):\n",
        "        return np.sum(calendar[length - 1] != 0)\n",
        "    else:\n",
        "        return np.sum(calendar[length - 2] != 0)\n",
        "\n",
        "\n",
        "def count_sundays(calendar):\n",
        "    return np.sum(calendar[:, 6] == 1)\n",
        "\n",
        "\n",
        "begin_year = end_year(get_calendar(1, 1900)) + 1\n",
        "count_sun = 0\n",
        "for year in range(1901, 2001, 1):\n",
        "    calendar = get_calendar(begin_year, year)\n",
        "    count_sun += count_sundays(calendar)\n",
        "    begin_year = end_year(calendar) + 1\n",
        "\n",
        "print(count_sun)"
      ],
      "execution_count": null,
      "outputs": []
    },
    {
      "cell_type": "markdown",
      "metadata": {
        "id": "BhdJ_XFyJ9Fh"
      },
      "source": [
        "**Варинат 2.** С просторов интернета."
      ]
    },
    {
      "cell_type": "code",
      "metadata": {
        "id": "D9wfILazHoMz"
      },
      "source": [
        "from datetime import date\n",
        "from collections import Counter\n",
        "\n",
        "Counter([date(y, m, 1).weekday() for y in range(1901, 2000+1) for m in range(1, 12+1)])[6]"
      ],
      "execution_count": null,
      "outputs": []
    },
    {
      "cell_type": "markdown",
      "metadata": {
        "id": "IuhNuT23baFv"
      },
      "source": [
        "**Варинат 3**. С просторов интернета."
      ]
    },
    {
      "cell_type": "code",
      "metadata": {
        "id": "p6r4q7N_a0Xd"
      },
      "source": [
        "import datetime as dt\n",
        "\n",
        "sum(1 for i in range(12*100) if dt.date(1901 + i//12, 1 + i%12, 1).weekday() == 6)"
      ],
      "execution_count": null,
      "outputs": []
    },
    {
      "cell_type": "markdown",
      "metadata": {
        "id": "yY9bQZFEbsG8"
      },
      "source": [
        "**Варинат 4**. С просторов интернета."
      ]
    },
    {
      "cell_type": "code",
      "metadata": {
        "id": "Bvn8dpl8bs1-"
      },
      "source": [
        "import pandas as pd\n",
        "\n",
        "(pd.date_range('1901-01', '2000-12', freq='MS').weekday == 6).sum()"
      ],
      "execution_count": null,
      "outputs": []
    },
    {
      "cell_type": "markdown",
      "metadata": {
        "id": "AigLGrYfNsJv"
      },
      "source": [
        "---\n",
        "# Задача 20. Сумма цифр факториала\n",
        "\n",
        "n! означает n × (n − 1) × ... × 3 × 2 × 1\n",
        "\n",
        "Например, 10! = 10 × 9 × ... × 3 × 2 × 1 = 3628800,\n",
        "и сумма цифр в числе 10! равна 3 + 6 + 2 + 8 + 8 + 0 + 0 = 27.\n",
        "\n",
        "Найдите сумму цифр в числе 100!.\n",
        "\n",
        "[Оригинал](https://projecteuler.net/problem=20) [На русском](https://euler.jakumo.org/problems/view/20.html)\n",
        "\n",
        "Completed on Sun, 11 Oct 2020, 21:04"
      ]
    },
    {
      "cell_type": "code",
      "metadata": {
        "id": "MssRxQxlOHNS"
      },
      "source": [
        "from math import factorial\n",
        "\n",
        "sum([int(i) for i in str(factorial(100))])"
      ],
      "execution_count": null,
      "outputs": []
    }
  ]
}