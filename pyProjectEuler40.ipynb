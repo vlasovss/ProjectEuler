{
  "nbformat": 4,
  "nbformat_minor": 0,
  "metadata": {
    "colab": {
      "name": "pyProjectEuler40.ipynb",
      "private_outputs": true,
      "provenance": [],
      "collapsed_sections": [],
      "mount_file_id": "1ZoIJ4zmXi9hWa4APzkpNc6NnkUC_dOPL",
      "authorship_tag": "ABX9TyOuCclNx9Qdz+HtzpziyU5v",
      "include_colab_link": true
    },
    "kernelspec": {
      "name": "python3",
      "display_name": "Python 3"
    }
  },
  "cells": [
    {
      "cell_type": "markdown",
      "metadata": {
        "id": "view-in-github",
        "colab_type": "text"
      },
      "source": [
        "<a href=\"https://colab.research.google.com/github/vlasovss/ProjectEuler/blob/main/pyProjectEuler40.ipynb\" target=\"_parent\"><img src=\"https://colab.research.google.com/assets/colab-badge.svg\" alt=\"Open In Colab\"/></a>"
      ]
    },
    {
      "cell_type": "markdown",
      "metadata": {
        "id": "xpeYEfcnSQb6"
      },
      "source": [
        "# Project Eulera на Python\n",
        "## Задачи с 21 по 40"
      ]
    },
    {
      "cell_type": "markdown",
      "metadata": {
        "id": "r8t6XMhNTvp3"
      },
      "source": [
        "---\n",
        "# Задача 21. Дружественные числа\n",
        "\n",
        "Пусть d(n) определяется как сумма делителей n (числа меньше n, делящие n нацело).\n",
        "Если d(a) = b и d(b) = a, где a ≠ b, то a и b называются дружественной парой, а каждое из чисел a и b - дружественным числом.\n",
        "\n",
        "Например, делителями числа 220 являются 1, 2, 4, 5, 10, 11, 20, 22, 44, 55 и 110, поэтому d(220) = 284. Делители 284 - 1, 2, 4, 71, 142, поэтому d(284) = 220.\n",
        "\n",
        "Подсчитайте сумму всех дружественных чисел меньше 10000.\n",
        "\n",
        "[Оригинал](https://projecteuler.net/problem=21) [На русском](https://euler.jakumo.org/problems/view/21.html)\n",
        "\n",
        "Completed on Mon, 12 Oct 2020, 23:56"
      ]
    },
    {
      "cell_type": "code",
      "metadata": {
        "id": "wCD2-P8goA3j"
      },
      "source": [
        "def get_delimiters(num):\n",
        "    return [d for d in range(1, int(num // 2) + 1) if num % d == 0]\n",
        "\n",
        "\n",
        "friendly_numbers = []\n",
        "for num in range(1, 10000):\n",
        "    if num not in friendly_numbers:\n",
        "        b = sum(get_delimiters(num))\n",
        "        a = sum(get_delimiters(b))\n",
        "        if a == num and a != b:\n",
        "            friendly_numbers.append(a)\n",
        "            friendly_numbers.append(b)\n",
        "\n",
        "\n",
        "print(friendly_numbers)\n",
        "print(sum(friendly_numbers))"
      ],
      "execution_count": null,
      "outputs": []
    },
    {
      "cell_type": "markdown",
      "metadata": {
        "id": "pUuxmYayVsax"
      },
      "source": [
        "---\n",
        "# Задача 22. Очки за имена\n",
        "\n",
        "Используйте [names.txt](https://projecteuler.net/project/resources/p022_names.txt) (щелкнуть правой кнопкой мыши и выбрать 'Save Link/Target As...'), текстовый файл размером 46 КБ, содержащий более пяти тысяч имен.\n",
        "\n",
        "> См. файл sample_data/p022_names.txt\n",
        "\n",
        "Начните с сортировки в алфавитном порядке. Затем подсчитайте алфавитные значения каждого имени и умножьте это значение на порядковый номер имени в отсортированном списке для получения количества очков имени.\n",
        "\n",
        "Например, если список отсортирован по алфавиту, имя COLIN (алфавитное значение которого 3 + 15 + 12 + 9 + 14 = 53) является 938-ым в списке. Поэтому, имя COLIN получает 938 × 53 = 49714 очков.\n",
        "\n",
        "Какова сумма очков имен в файле?\n",
        "\n",
        "[Оригинал](https://projecteuler.net/problem=22) [На русском](https://euler.jakumo.org/problems/view/22.html)\n",
        "\n",
        "Completed on Wed, 14 Oct 2020, 08:42"
      ]
    },
    {
      "cell_type": "markdown",
      "metadata": {
        "id": "YR858nmssH9-"
      },
      "source": [
        "**Вариант 1.**"
      ]
    },
    {
      "cell_type": "code",
      "metadata": {
        "id": "-Ohix4BSWOwE"
      },
      "source": [
        "import string\n",
        "\n",
        "ENG_ALPHABET = {\n",
        "    'A': 1,\t\n",
        "    'B': 2,\n",
        "    'C': 3,\n",
        "    'D': 4,\n",
        "    'E': 5,\n",
        "    'F': 6,\n",
        "    'G': 7,\n",
        "    'H': 8,\n",
        "    'I': 9,\n",
        "    'J': 10,\n",
        "    'K': 11,\n",
        "    'L': 12,\n",
        "    'M': 13,\n",
        "    'N': 14,\n",
        "    'O': 15,\n",
        "    'P': 16,\n",
        "    'Q': 17,\n",
        "    'R': 18,\n",
        "    'S': 19,\n",
        "    'T': 20,\n",
        "    'U': 21,\n",
        "    'V': 22,\n",
        "    'W': 23,\n",
        "    'X': 24,\n",
        "    'Y': 25,\n",
        "    'Z': 26\n",
        "}\n",
        "\n",
        "tt = str.maketrans(dict.fromkeys(string.punctuation))\n",
        "with open(\"/content/drive/My Drive/ProjectEuler/sample_data/p022_names.txt\") as f:\n",
        "    names = [name.translate(tt) for name in f.read().split(',')]\n",
        "\n",
        "names.sort()\n",
        "print(sum(sum(ENG_ALPHABET[letter] for letter in name) * (i+1) for i, name in enumerate(names)))"
      ],
      "execution_count": null,
      "outputs": []
    },
    {
      "cell_type": "markdown",
      "metadata": {
        "id": "ibd1oGJMsGFi"
      },
      "source": [
        "**Вариант 2.** С просторов интернета."
      ]
    },
    {
      "cell_type": "code",
      "metadata": {
        "id": "nZLc52ThsyEm"
      },
      "source": [
        "from functools import reduce\n",
        "\n",
        "x = eval('[' + open('/content/drive/My Drive/ProjectEuler/sample_data/p022_names.txt').readlines()[0] + ']')\n",
        "x.sort()\n",
        "\n",
        "reduce(lambda x, y: x + y, \n",
        "       [reduce(lambda x, y: x + y, \n",
        "               [(j + 1) * (ord(i) - 64) for i in x[j]]) \n",
        "       for j in range(len(x))])"
      ],
      "execution_count": null,
      "outputs": []
    },
    {
      "cell_type": "markdown",
      "metadata": {
        "id": "ZeujO5hJzfri"
      },
      "source": [
        "**Вариант 3.** С просторов интернета."
      ]
    },
    {
      "cell_type": "code",
      "metadata": {
        "id": "StEWSWGYzmiK"
      },
      "source": [
        "names = list(map(lambda x: x.strip('\"'), \n",
        "                 open('/content/drive/My Drive/ProjectEuler/sample_data/p022_names.txt').read().strip().split(',')))\n",
        "names.sort()\n",
        "print(sum(sum(map(lambda x: ord(x)-64, names[index])) * (index+1) for index in range(len(names))))"
      ],
      "execution_count": null,
      "outputs": []
    },
    {
      "cell_type": "markdown",
      "metadata": {
        "id": "spSuMW2-Bcj7"
      },
      "source": [
        "---\n",
        "# Задача 23. Неизбыточные суммы\n",
        "Идеальным числом называется число, у которого сумма его делителей равна самому числу. Например, сумма делителей числа 28 равна 1 + 2 + 4 + 7 + 14 = 28, что означает, что число 28 является идеальным числом.\n",
        "\n",
        "Число n называется недостаточным, если сумма его делителей меньше n, и называется избыточным, если сумма его делителей больше n.\n",
        "\n",
        "Так как число 12 является наименьшим избыточным числом (1 + 2 + 3 + 4 + 6 = 16), наименьшее число, которое может быть записано как сумма двух избыточных чисел, равно 24. Используя математический анализ, можно показать, что все целые числа больше 28123 могут быть записаны как сумма двух избыточных чисел. Эта граница не может быть уменьшена дальнейшим анализом, даже несмотря на то, что наибольшее число, которое не может быть записано как сумма двух избыточных чисел, меньше этой границы.\n",
        "\n",
        "Найдите сумму всех положительных чисел, которые не могут быть записаны как сумма двух избыточных чисел.\n",
        "\n",
        "[Оригинал](https://projecteuler.net/problem=23) [На русском](https://euler.jakumo.org/problems/view/23.html)\n",
        "\n",
        "Completed on Thu, 15 Oct 2020, 13:00"
      ]
    },
    {
      "cell_type": "markdown",
      "metadata": {
        "id": "0GOwabymUD61"
      },
      "source": [
        "**Вариант 1.1** Лаконичный и красивый.\n",
        "\n",
        "Если использовать list вместо set,то получается очень медлено."
      ]
    },
    {
      "cell_type": "code",
      "metadata": {
        "id": "D2vSVsSmB8G2"
      },
      "source": [
        "def get_delimiters(n):\n",
        "    return [d for d in range(1, int(n // 2) + 1) if n % d == 0]\n",
        "\n",
        "\n",
        "excessive_nums = [n for n in range(1, 28124) if n < sum(get_delimiters(n))]\n",
        "sums_excessive_nums = {excessive_nums[i] + n \n",
        "                       for i in range(len(excessive_nums))\n",
        "                       for n in excessive_nums[i:] \n",
        "                       if excessive_nums[i] + n <= 28123}\n",
        "\n",
        "print(sum([n for n in range(1, 28124) if n not in sums_excessive_nums]))"
      ],
      "execution_count": null,
      "outputs": []
    },
    {
      "cell_type": "markdown",
      "metadata": {
        "id": "QhdlDDeMT0kb"
      },
      "source": [
        "**Вариант 1.2** "
      ]
    },
    {
      "cell_type": "code",
      "metadata": {
        "id": "lmLXlUbCUPpZ"
      },
      "source": [
        "def get_delimiters(n):\n",
        "    return [d for d in range(1, int(n // 2) + 1) if n % d == 0]\n",
        "\n",
        "\n",
        "excessive_nums = [n for n in range(1, 28124) if n < sum(get_delimiters(n))]\n",
        "\n",
        "sums_excessive_nums = set()\n",
        "for i in range(len(excessive_nums)):\n",
        "    for j in range(i, len(excessive_nums)):\n",
        "        sum_ = excessive_nums[i] + excessive_nums[j]\n",
        "        if sum_ <= 28123:\n",
        "            sums_excessive_nums.add(sum_)\n",
        "        else:\n",
        "            break\n",
        "\n",
        "print(sum([n for n in range(1, 28124) if n not in sums_excessive_nums]))"
      ],
      "execution_count": null,
      "outputs": []
    },
    {
      "cell_type": "markdown",
      "metadata": {
        "id": "-vagMn0xUcqJ"
      },
      "source": [
        "**Вариант 1.3**"
      ]
    },
    {
      "cell_type": "code",
      "metadata": {
        "id": "agQfzOJjUe9a"
      },
      "source": [
        "def get_delimiters(n):\n",
        "    return [d for d in range(1, int(n // 2) + 1) if n % d == 0]\n",
        "\n",
        "\n",
        "excessive_nums = [n for n in range(1, 28124) if n < sum(get_delimiters(n))]\n",
        "\n",
        "sums_excessive_nums = [0] * 28124\n",
        "for i in range(len(excessive_nums)):\n",
        "    for j in range(i, len(excessive_nums)):\n",
        "        sum_ = excessive_nums[i] + excessive_nums[j]\n",
        "        if sum_ <= 28123:\n",
        "            if sums_excessive_nums[sum_] == 0:\n",
        "                sums_excessive_nums[sum_] = sum_\n",
        "        else:\n",
        "            break\n",
        "\n",
        "ans = 0\n",
        "for i in range(1, 28124):\n",
        "    if sums_excessive_nums[i] == 0:\n",
        "        ans += i\n",
        "\n",
        "print(ans)"
      ],
      "execution_count": null,
      "outputs": []
    },
    {
      "cell_type": "markdown",
      "metadata": {
        "id": "7E6IfSNWMZBY"
      },
      "source": [
        "**Варивнт 2.** С просторов интернета (модифицированный)."
      ]
    },
    {
      "cell_type": "code",
      "metadata": {
        "id": "WK0luyYAMZha"
      },
      "source": [
        "def get_delimiters(n):\n",
        "    return [d for d in range(1, int(n // 2) + 1) if n % d == 0]\n",
        "\n",
        "abundants = set(i for i in range(1,28124) if sum(get_delimiters(i)) > i)\n",
        "\n",
        "def is_sum_abundant(n):\n",
        "    for a in abundants:\n",
        "        if n-a in abundants:\n",
        "            return True\n",
        "    return False\n",
        "    #return any(n-a in abundants for a in abundants)\n",
        "\n",
        "print(sum(i for i in range(1, 28124) if not is_sum_abundant(i)))"
      ],
      "execution_count": null,
      "outputs": []
    },
    {
      "cell_type": "markdown",
      "metadata": {
        "id": "jgvw2ZkfsKui"
      },
      "source": [
        "---\n",
        "# Задача 24. Словарные перестановки\n",
        "\n",
        "Перестановка - это упорядоченная выборка объектов. К примеру, 3124 является одной из возможных перестановок из цифр 1, 2, 3 и 4. Если все перестановки приведены в порядке возрастания или алфавитном порядке, то такой порядок будем называть словарным. Словарные перестановки из цифр 0, 1 и 2 представлены ниже:\n",
        "\n",
        "012   021   102   120   201   210\n",
        "\n",
        "Какова миллионная словарная перестановка из цифр 0, 1, 2, 3, 4, 5, 6, 7, 8 и 9?\n",
        "\n",
        "[Оригинал](https://projecteuler.net/problem=24) [На русском](https://euler.jakumo.org/problems/view/24.html)\n",
        "\n",
        "Completed on Thu, 15 Oct 2020, 20:18"
      ]
    },
    {
      "cell_type": "markdown",
      "metadata": {
        "id": "kx3bK0FJ_LTt"
      },
      "source": [
        "**Вариант 1.**"
      ]
    },
    {
      "cell_type": "code",
      "metadata": {
        "id": "8OzV51sitYDM"
      },
      "source": [
        "from itertools import permutations, islice\n",
        "\n",
        "int(\"\".join(map(str, next(islice(permutations(range(10), 10), 999999)))))"
      ],
      "execution_count": null,
      "outputs": []
    },
    {
      "cell_type": "markdown",
      "metadata": {
        "id": "U17ibGx6_Ood"
      },
      "source": [
        "**Вариант 2.** С просторов интернета."
      ]
    },
    {
      "cell_type": "code",
      "metadata": {
        "id": "Fpy_-Zw3_UNG"
      },
      "source": [
        "from math import factorial\n",
        "\n",
        "def nthPerm(s, n):\n",
        "\tif len(s)<2:\n",
        "\t\treturn s\n",
        "\tquot, n = divmod(n, factorial(len(s)-1))\n",
        "\treturn s[quot] + nthPerm(s[:quot] + s[quot+1:], n)\n",
        "print(nthPerm('0123456789', 1000000 - 1))"
      ],
      "execution_count": null,
      "outputs": []
    },
    {
      "cell_type": "markdown",
      "metadata": {
        "id": "aG_ET1t6ybTW"
      },
      "source": [
        "---\n",
        "# Задача 25. 1000-Значное число Фибоначчи\n",
        "\n",
        "Последовательность Фибоначчи определяется рекурсивным правилом:\n",
        "\n",
        "Fn = Fn−1 + Fn−2, где F1 = 1 и F2 = 1.\n",
        "Таким образом, первые 12 членов последовательности равны:\n",
        "\n",
        "* F1 = 1\n",
        "* F2 = 1\n",
        "* F3 = 2\n",
        "* F4 = 3\n",
        "* F5 = 5\n",
        "* F6 = 8\n",
        "* F7 = 13\n",
        "* F8 = 21\n",
        "* F9 = 34\n",
        "* F10 = 55\n",
        "* F11 = 89\n",
        "* F12 = 144\n",
        "\n",
        "Двенадцатый член F12 - первый член последовательности, который содержит три цифры.\n",
        "\n",
        "Каков порядковый номер первого члена последовательности Фибоначчи, содержащего 1000 цифр?\n",
        "\n",
        "[Оригинал](https://projecteuler.net/problem=25) [На русском](https://euler.jakumo.org/problems/view/25.html)\n",
        "\n",
        "Completed on Fri, 22 Jan 2021, 19:53"
      ]
    },
    {
      "cell_type": "markdown",
      "metadata": {
        "id": "dh9mzZ9BwKLl"
      },
      "source": [
        "**Вариант 1.**"
      ]
    },
    {
      "cell_type": "code",
      "metadata": {
        "id": "_YWRTLMhTdQn"
      },
      "source": [
        "def fibonacci_number():\n",
        "    f1, f2 = 0, 1\n",
        "    while 1:\n",
        "        f1, f2 = f2, f1 + f2\n",
        "        yield f1\n",
        "\n",
        "\n",
        "fibonacci_numbers = fibonacci_number()\n",
        "\n",
        "for i, f in enumerate(fibonacci_numbers):\n",
        "    if len(str(f)) == 1000:\n",
        "        print(i + 1)\n",
        "        break"
      ],
      "execution_count": null,
      "outputs": []
    },
    {
      "cell_type": "markdown",
      "metadata": {
        "id": "W_lFXSg1wVQ3"
      },
      "source": [
        "**Вариант 2.**"
      ]
    },
    {
      "cell_type": "code",
      "metadata": {
        "id": "sCMEwe0pwFmW"
      },
      "source": [
        "def fibonacci_number():\n",
        "    f1, f2 = 0, 1\n",
        "    while 1:\n",
        "        f1, f2 = f2, f1 + f2\n",
        "        yield f1\n",
        "\n",
        "\n",
        "fibonacci_numbers = fibonacci_number()\n",
        "\n",
        "for i, f in enumerate(fibonacci_numbers):\n",
        "    if f >= 10**999:\n",
        "        print(i + 1)\n",
        "        break"
      ],
      "execution_count": null,
      "outputs": []
    },
    {
      "cell_type": "markdown",
      "metadata": {
        "id": "r52C5TD7Ue9v"
      },
      "source": [
        "---\n",
        "# Задача 26. Обратные циклы\n",
        "\n",
        "Единичная дробь имеет 1 в числителе. Десятичные представления единичных дробей со знаменателями от 2 до 10 даны ниже:\n",
        "\n",
        "* 1/2\t=\t0.5\n",
        "* 1/3\t=\t0.(3)\n",
        "* 1/4\t=\t0.25\n",
        "* 1/5\t=\t0.2\n",
        "* 1/6\t=\t0.1(6)\n",
        "* 1/7\t=\t0.(142857)\n",
        "* 1/8\t=\t0.125\n",
        "* 1/9\t=\t0.(1)\n",
        "* 1/10\t=\t0.1\n",
        "\n",
        "Где 0.1(6) значит 0.166666..., и имеет повторяющуюся последовательность из одной цифры. Заметим, что 1/7 имеет повторяющуюся последовательность из 6 цифр.\n",
        "\n",
        "Найдите значение d < 1000, для которого 1/d в десятичном виде содержит самую длинную повторяющуюся последовательность цифр.\n",
        "\n",
        "[Оригинал](https://projecteuler.net/problem=26) [На русском](https://euler.jakumo.org/problems/view/26.html)\n",
        "\n",
        "Completed on Tue, 2 Mar 2021, 21:06"
      ]
    },
    {
      "cell_type": "code",
      "metadata": {
        "id": "4uumLEO2lkzq"
      },
      "source": [
        "def f(num):\n",
        "    while num % 2 == 0 or num % 5 == 0:\n",
        "        if num % 2 == 0:\n",
        "            num //= 2\n",
        "        else:\n",
        "            num //= 5\n",
        "    return num\n",
        "\n",
        "def get_len_period(denominator):\n",
        "    denominator = f(denominator)\n",
        "    if denominator == 1:\n",
        "        return 0\n",
        "    \n",
        "    len_period = 0\n",
        "    p = 1\n",
        "    while 1:\n",
        "        n = 10**p - 1\n",
        "        len_period += 1\n",
        "        if n % denominator == 0:\n",
        "            break\n",
        "        p += 1\n",
        "    return len_period\n",
        "\n",
        "max_period = (0, 0)\n",
        "for i in range(2, 1000):\n",
        "    max_period = max(max_period, (get_len_period(i), i))\n",
        "\n",
        "print(f\"Длина периада 1/{max_period[1]} - {max_period[0]} \")"
      ],
      "execution_count": null,
      "outputs": []
    },
    {
      "cell_type": "markdown",
      "metadata": {
        "id": "ohyqnGtRTObg"
      },
      "source": [
        "---\n",
        "# Задача 27. Квадратичные простые числа\n",
        "\n",
        "Эйлер опубликовал свою замечательную квадратичную формулу:\n",
        "\n",
        "> n^2 + n + 41\n",
        "\n",
        "Оказалось, что согласно данной формуле можно получить 40 простых чисел, последовательно подставляя значения 0 ≤ n ≤ 39. Однако, при\n",
        "\n",
        "> n = 40, 40^2 + 40 + 41 = 40(40 + 1) + 41 делится на 41 без остатка, \n",
        "\n",
        "и, очевидно, при \n",
        "\n",
        "> n = 41, 41^2 + 41 + 41 делится на 41 без остатка.\n",
        "\n",
        "При помощи компьютеров была найдена невероятная формула \n",
        "\n",
        "> n^2 − 79n + 1601, \n",
        "\n",
        "согласно которой можно получить 80 простых чисел для последовательных значений n от 0 до 79. Произведение коэффициентов − 79 и 1601 равно − 126479.\n",
        "\n",
        "Рассмотрим квадратичную формулу вида:\n",
        "\n",
        "> n^2 + an + b, где |a| < 1000 и |b| ≤ 1000\n",
        "\n",
        "где |n| является модулем (абсолютным значением) n.\n",
        "К примеру, |11| = 11 и |−4| = 4\n",
        "\n",
        "Найдите произведение коэффициентов a и b квадратичного выражения, согласно которому можно получить максимальное количество простых чисел для последовательных значений n, начиная со значения n = 0.\n",
        "\n",
        "[Оригинал](https://projecteuler.net/problem=27) [На русском](https://euler.jakumo.org/problems/view/27.html)\n",
        "\n"
      ]
    },
    {
      "cell_type": "code",
      "metadata": {
        "id": "vAeid8FATcWh"
      },
      "source": [
        "def is_prime(n):\n",
        "    from math import sqrt\n",
        "\n",
        "    if n % 2 == 0 and n > 2: \n",
        "        return False\n",
        "        \n",
        "    return all(n % i for i in range(3, int(sqrt(n)) + 1, 2))\n",
        "\n",
        "def f(a, b):\n",
        "    n = 0\n",
        "    y = n**2 + a*n + b\n",
        "    while is_prime(abs(y)):\n",
        "        n += 1\n",
        "        y = n**2 + a*n + b\n",
        "\n",
        "    return n - 1, a * b\n",
        "\n",
        "max_ab = (0, 0)\n",
        "for a in range(-999, 1000):\n",
        "    for b in range(-1000, 1001):\n",
        "        max_ab = max(max_ab, f(a, b))\n",
        "\n",
        "\n",
        "print(f\"Произведение коэффициентов a и b квадратичного выражения \\\n",
        "n^2 + an + b,\\n где |a| < 1000 и |b| ≤ 1000 равно {max_ab[1]},\\n \\\n",
        "согласно которому максимальное количество простых чисел для последовательных \\\n",
        "значений n,\\n начиная со значения n = 0, равно {max_ab[0]}.\")"
      ],
      "execution_count": null,
      "outputs": []
    },
    {
      "cell_type": "markdown",
      "metadata": {
        "id": "IQCv5CM1utta"
      },
      "source": [
        "# Задача 28. \n",
        "\n",
        "[Оригинал](https://projecteuler.net/problem=28) [На русском](https://euler.jakumo.org/problems/view/28.html)\n",
        "\n"
      ]
    },
    {
      "cell_type": "code",
      "metadata": {
        "id": "B__ykJi7T0jJ"
      },
      "source": [
        ""
      ],
      "execution_count": null,
      "outputs": []
    },
    {
      "cell_type": "markdown",
      "metadata": {
        "id": "DnSl2ivvmHIw"
      },
      "source": [
        "---\n",
        "# Задача 29. \n",
        "\n",
        "[Оригинал](https://projecteuler.net/problem=29) [На русском](https://euler.jakumo.org/problems/view/29.html)\n",
        "\n"
      ]
    },
    {
      "cell_type": "code",
      "metadata": {
        "id": "MtPUDthkT8jG"
      },
      "source": [
        ""
      ],
      "execution_count": null,
      "outputs": []
    },
    {
      "cell_type": "markdown",
      "metadata": {
        "id": "5CKEhqH76IYV"
      },
      "source": [
        "---\n",
        "# Задача 30. Сложение простых чисел\n",
        "\n",
        "\n",
        "[Оригинал](https://projecteuler.net/problem=30) [На русском](https://euler.jakumo.org/problems/view/30.html)\n",
        "\n"
      ]
    },
    {
      "cell_type": "code",
      "metadata": {
        "id": "ZMXNLC-JUD43"
      },
      "source": [
        ""
      ],
      "execution_count": null,
      "outputs": []
    },
    {
      "cell_type": "markdown",
      "metadata": {
        "id": "8HfjBdGtbtyk"
      },
      "source": [
        "---\n",
        "# Задача 31. Наибольшее произведение в таблице\n",
        "\n",
        "\n",
        "[Оригинал](https://projecteuler.net/problem=31) [На русском](https://euler.jakumo.org/problems/view/31.html)\n",
        "\n"
      ]
    },
    {
      "cell_type": "code",
      "metadata": {
        "id": "T3Bp8u4e-FGk"
      },
      "source": [
        ""
      ],
      "execution_count": null,
      "outputs": []
    },
    {
      "cell_type": "markdown",
      "metadata": {
        "id": "9uHEDUZ8wHRz"
      },
      "source": [
        "# Задача 32. \n",
        "\n",
        "\n",
        "[Оригинал](https://projecteuler.net/problem=32) [На русском](https://euler.jakumo.org/problems/view/32.html)\n",
        "\n"
      ]
    },
    {
      "cell_type": "markdown",
      "metadata": {
        "id": "_a6Kz3f15NkW"
      },
      "source": [
        "# Задача 33. Большая сумма\n",
        "\n",
        "[Оригинал](https://projecteuler.net/problem=33) [На русском](https://euler.jakumo.org/problems/view/33.html)\n",
        "\n"
      ]
    },
    {
      "cell_type": "markdown",
      "metadata": {
        "id": "9E-LOou-CNrG"
      },
      "source": [
        "# Задача 34. \n",
        "\n",
        "[Оригинал](https://projecteuler.net/problem=34) [На русском](https://euler.jakumo.org/problems/view/34.html)\n",
        "\n"
      ]
    },
    {
      "cell_type": "markdown",
      "metadata": {
        "id": "0c9NhYl0_h1G"
      },
      "source": [
        "# Задача 35. \n",
        "\n",
        "[Оригинал](https://projecteuler.net/problem=35) [На русском](https://euler.jakumo.org/problems/view/35.html)\n",
        "\n"
      ]
    },
    {
      "cell_type": "markdown",
      "metadata": {
        "id": "OKRdCE0iq8HV"
      },
      "source": [
        "# Задача 36. \n",
        "\n",
        "[Оригинал](https://projecteuler.net/problem=36) [На русском](https://euler.jakumo.org/problems/view/36.html)\n",
        "\n"
      ]
    },
    {
      "cell_type": "markdown",
      "metadata": {
        "id": "dGvIgvaCFa0S"
      },
      "source": [
        "# Задача 37. \n",
        "\n",
        "[Оригинал](https://projecteuler.net/problem=37) [На русском](https://euler.jakumo.org/problems/view/37.html)\n",
        "\n"
      ]
    },
    {
      "cell_type": "markdown",
      "metadata": {
        "id": "M3Fqfba1GiwV"
      },
      "source": [
        "# Задача 38. \n",
        "\n",
        "\n",
        "[Оригинал](https://projecteuler.net/problem=38) [На русском](https://euler.jakumo.org/problems/view/38.html)\n",
        "\n"
      ]
    },
    {
      "cell_type": "markdown",
      "metadata": {
        "id": "9wcgW-7jgr3I"
      },
      "source": [
        "# Задача 39. \n",
        "\n",
        "[Оригинал](https://projecteuler.net/problem=39) [На русском](https://euler.jakumo.org/problems/view/39.html)\n",
        "\n"
      ]
    },
    {
      "cell_type": "markdown",
      "metadata": {
        "id": "AigLGrYfNsJv"
      },
      "source": [
        "# Задача 40. \n",
        "\n",
        "[Оригинал](https://projecteuler.net/problem=40) [На русском](https://euler.jakumo.org/problems/view/40.html)\n"
      ]
    }
  ]
}