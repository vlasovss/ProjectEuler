{
  "nbformat": 4,
  "nbformat_minor": 0,
  "metadata": {
    "colab": {
      "name": "pyProjectEuler40.ipynb",
      "private_outputs": true,
      "provenance": [],
      "collapsed_sections": [],
      "mount_file_id": "1ZoIJ4zmXi9hWa4APzkpNc6NnkUC_dOPL",
      "authorship_tag": "ABX9TyOXL3WDrb/99E3QSdLAXSvB",
      "include_colab_link": true
    },
    "kernelspec": {
      "name": "python3",
      "display_name": "Python 3"
    }
  },
  "cells": [
    {
      "cell_type": "markdown",
      "metadata": {
        "id": "view-in-github",
        "colab_type": "text"
      },
      "source": [
        "<a href=\"https://colab.research.google.com/github/vlasovss/ProjectEuler/blob/main/pyProjectEuler40.ipynb\" target=\"_parent\"><img src=\"https://colab.research.google.com/assets/colab-badge.svg\" alt=\"Open In Colab\"/></a>"
      ]
    },
    {
      "cell_type": "markdown",
      "metadata": {
        "id": "xpeYEfcnSQb6"
      },
      "source": [
        "# Project Eulera на Python\n",
        "## Задачи с 21 по 40"
      ]
    },
    {
      "cell_type": "markdown",
      "metadata": {
        "id": "r8t6XMhNTvp3"
      },
      "source": [
        "---\n",
        "# Задача 21. Дружественные числа\n",
        "\n",
        "Пусть d(n) определяется как сумма делителей n (числа меньше n, делящие n нацело).\n",
        "Если d(a) = b и d(b) = a, где a ≠ b, то a и b называются дружественной парой, а каждое из чисел a и b - дружественным числом.\n",
        "\n",
        "Например, делителями числа 220 являются 1, 2, 4, 5, 10, 11, 20, 22, 44, 55 и 110, поэтому d(220) = 284. Делители 284 - 1, 2, 4, 71, 142, поэтому d(284) = 220.\n",
        "\n",
        "Подсчитайте сумму всех дружественных чисел меньше 10000.\n",
        "\n",
        "[Оригинал](https://projecteuler.net/problem=21) [На русском](https://euler.jakumo.org/problems/view/21.html)\n",
        "\n",
        "Completed on Tue, 13 Oct 2020, 01:56"
      ]
    },
    {
      "cell_type": "code",
      "metadata": {
        "id": "wCD2-P8goA3j"
      },
      "source": [
        "def get_delimiters(num):\n",
        "    return [d for d in range(1, int(num // 2) + 1) if num % d == 0]\n",
        "\n",
        "\n",
        "friendly_numbers = []\n",
        "for num in range(1, 10000):\n",
        "    if num not in friendly_numbers:\n",
        "        b = sum(get_delimiters(num))\n",
        "        a = sum(get_delimiters(b))\n",
        "        if a == num and a != b:\n",
        "            friendly_numbers.append(a)\n",
        "            friendly_numbers.append(b)\n",
        "print(friendly_numbers)\n",
        "print(sum(friendly_numbers))"
      ],
      "execution_count": null,
      "outputs": []
    },
    {
      "cell_type": "markdown",
      "metadata": {
        "id": "pUuxmYayVsax"
      },
      "source": [
        "---\n",
        "# Задача 22. Очки за имена\n",
        "\n",
        "Используйте [names.txt](https://projecteuler.net/project/resources/p022_names.txt) (щелкнуть правой кнопкой мыши и выбрать 'Save Link/Target As...'), текстовый файл размером 46 КБ, содержащий более пяти тысяч имен.\n",
        "\n",
        "> См. файл sample_data/p022_names.txt\n",
        "\n",
        "Начните с сортировки в алфавитном порядке. Затем подсчитайте алфавитные значения каждого имени и умножьте это значение на порядковый номер имени в отсортированном списке для получения количества очков имени.\n",
        "\n",
        "Например, если список отсортирован по алфавиту, имя COLIN (алфавитное значение которого 3 + 15 + 12 + 9 + 14 = 53) является 938-ым в списке. Поэтому, имя COLIN получает 938 × 53 = 49714 очков.\n",
        "\n",
        "Какова сумма очков имен в файле?\n",
        "\n",
        "[Оригинал](https://projecteuler.net/problem=22) [На русском](https://euler.jakumo.org/problems/view/22.html)\n",
        "\n",
        "Completed on Wed, 14 Oct 2020, 10:42"
      ]
    },
    {
      "cell_type": "markdown",
      "metadata": {
        "id": "YR858nmssH9-"
      },
      "source": [
        "**Вариант 1.**"
      ]
    },
    {
      "cell_type": "code",
      "metadata": {
        "id": "-Ohix4BSWOwE"
      },
      "source": [
        "import string\n",
        "\n",
        "ENG_ALPHABET = {\n",
        "    'A': 1,\t\n",
        "    'B': 2,\n",
        "    'C': 3,\n",
        "    'D': 4,\n",
        "    'E': 5,\n",
        "    'F': 6,\n",
        "    'G': 7,\n",
        "    'H': 8,\n",
        "    'I': 9,\n",
        "    'J': 10,\n",
        "    'K': 11,\n",
        "    'L': 12,\n",
        "    'M': 13,\n",
        "    'N': 14,\n",
        "    'O': 15,\n",
        "    'P': 16,\n",
        "    'Q': 17,\n",
        "    'R': 18,\n",
        "    'S': 19,\n",
        "    'T': 20,\n",
        "    'U': 21,\n",
        "    'V': 22,\n",
        "    'W': 23,\n",
        "    'X': 24,\n",
        "    'Y': 25,\n",
        "    'Z': 26\n",
        "}\n",
        "\n",
        "tt = str.maketrans(dict.fromkeys(string.punctuation))\n",
        "with open(\"/content/drive/My Drive/ProjectEuler/sample_data/p022_names.txt\") as f:\n",
        "    names = [name.translate(tt) for name in f.read().split(',')]\n",
        "\n",
        "names.sort()\n",
        "print(sum(sum(ENG_ALPHABET[letter] for letter in name) * (i+1) for i, name in enumerate(names)))"
      ],
      "execution_count": null,
      "outputs": []
    },
    {
      "cell_type": "markdown",
      "metadata": {
        "id": "ibd1oGJMsGFi"
      },
      "source": [
        "**Вариант 2.** С просторов интернета."
      ]
    },
    {
      "cell_type": "code",
      "metadata": {
        "id": "nZLc52ThsyEm"
      },
      "source": [
        "from functools import reduce\n",
        "\n",
        "x = eval('[' + open('/content/drive/My Drive/ProjectEuler/sample_data/p022_names.txt').readlines()[0] + ']')\n",
        "x.sort()\n",
        "\n",
        "reduce(lambda x, y: x + y, \n",
        "       [reduce(lambda x, y: x + y, \n",
        "               [(j + 1) * (ord(i) - 64) for i in x[j]]) \n",
        "       for j in range(len(x))])"
      ],
      "execution_count": null,
      "outputs": []
    },
    {
      "cell_type": "markdown",
      "metadata": {
        "id": "ZeujO5hJzfri"
      },
      "source": [
        "**Вариант 3.** С просторов интернета."
      ]
    },
    {
      "cell_type": "code",
      "metadata": {
        "id": "StEWSWGYzmiK"
      },
      "source": [
        "names = list(map(lambda x: x.strip('\"'), \n",
        "                 open('/content/drive/My Drive/ProjectEuler/sample_data/p022_names.txt').read().strip().split(',')))\n",
        "names.sort()\n",
        "print(sum(sum(map(lambda x: ord(x)-64, names[index])) * (index+1) for index in range(len(names))))"
      ],
      "execution_count": null,
      "outputs": []
    },
    {
      "cell_type": "markdown",
      "metadata": {
        "id": "spSuMW2-Bcj7"
      },
      "source": [
        "---\n",
        "# Задача 23. Неизбыточные суммы\n",
        "Идеальным числом называется число, у которого сумма его делителей равна самому числу. Например, сумма делителей числа 28 равна 1 + 2 + 4 + 7 + 14 = 28, что означает, что число 28 является идеальным числом.\n",
        "\n",
        "Число n называется недостаточным, если сумма его делителей меньше n, и называется избыточным, если сумма его делителей больше n.\n",
        "\n",
        "Так как число 12 является наименьшим избыточным числом (1 + 2 + 3 + 4 + 6 = 16), наименьшее число, которое может быть записано как сумма двух избыточных чисел, равно 24. Используя математический анализ, можно показать, что все целые числа больше 28123 могут быть записаны как сумма двух избыточных чисел. Эта граница не может быть уменьшена дальнейшим анализом, даже несмотря на то, что наибольшее число, которое не может быть записано как сумма двух избыточных чисел, меньше этой границы.\n",
        "\n",
        "Найдите сумму всех положительных чисел, которые не могут быть записаны как сумма двух избыточных чисел.\n",
        "\n",
        "[Оригинал](https://projecteuler.net/problem=23) [На русском](https://euler.jakumo.org/problems/view/23.html)\n",
        "\n",
        "Completed on Thu, 15 Oct 2020, 15:00"
      ]
    },
    {
      "cell_type": "markdown",
      "metadata": {
        "id": "0GOwabymUD61"
      },
      "source": [
        "**Вариант 1.1** Лаконичный и красивый.\n",
        "\n",
        "Если использовать list вместо set,то получается очень медлено."
      ]
    },
    {
      "cell_type": "code",
      "metadata": {
        "id": "D2vSVsSmB8G2"
      },
      "source": [
        "def get_delimiters(n):\n",
        "    return [d for d in range(1, int(n // 2) + 1) if n % d == 0]\n",
        "\n",
        "\n",
        "excessive_nums = [n for n in range(1, 28124) if n < sum(get_delimiters(n))]\n",
        "sums_excessive_nums = {excessive_nums[i] + n \n",
        "                       for i in range(len(excessive_nums))\n",
        "                       for n in excessive_nums[i:] \n",
        "                       if excessive_nums[i] + n <= 28123}\n",
        "print(sum([n for n in range(1, 28124) if n not in sums_excessive_nums]))"
      ],
      "execution_count": null,
      "outputs": []
    },
    {
      "cell_type": "markdown",
      "metadata": {
        "id": "QhdlDDeMT0kb"
      },
      "source": [
        "**Вариант 1.2** "
      ]
    },
    {
      "cell_type": "code",
      "metadata": {
        "id": "lmLXlUbCUPpZ"
      },
      "source": [
        "def get_delimiters(n):\n",
        "    return [d for d in range(1, int(n // 2) + 1) if n % d == 0]\n",
        "\n",
        "\n",
        "excessive_nums = [n for n in range(1, 28124) if n < sum(get_delimiters(n))]\n",
        "sums_excessive_nums = set()\n",
        "for i in range(len(excessive_nums)):\n",
        "    for j in range(i, len(excessive_nums)):\n",
        "        sum_ = excessive_nums[i] + excessive_nums[j]\n",
        "        if sum_ <= 28123:\n",
        "            sums_excessive_nums.add(sum_)\n",
        "        else:\n",
        "            break\n",
        "print(sum([n for n in range(1, 28124) if n not in sums_excessive_nums]))"
      ],
      "execution_count": null,
      "outputs": []
    },
    {
      "cell_type": "markdown",
      "metadata": {
        "id": "-vagMn0xUcqJ"
      },
      "source": [
        "**Вариант 1.3**"
      ]
    },
    {
      "cell_type": "code",
      "metadata": {
        "id": "agQfzOJjUe9a"
      },
      "source": [
        "def get_delimiters(n):\n",
        "    return [d for d in range(1, int(n // 2) + 1) if n % d == 0]\n",
        "\n",
        "\n",
        "excessive_nums = [n for n in range(1, 28124) if n < sum(get_delimiters(n))]\n",
        "sums_excessive_nums = [0] * 28124\n",
        "for i in range(len(excessive_nums)):\n",
        "    for j in range(i, len(excessive_nums)):\n",
        "        sum_ = excessive_nums[i] + excessive_nums[j]\n",
        "        if sum_ <= 28123:\n",
        "            if sums_excessive_nums[sum_] == 0:\n",
        "                sums_excessive_nums[sum_] = sum_\n",
        "        else:\n",
        "            break\n",
        "\n",
        "ans = 0\n",
        "for i in range(1, 28124):\n",
        "    if sums_excessive_nums[i] == 0:\n",
        "        ans += i\n",
        "print(ans)"
      ],
      "execution_count": null,
      "outputs": []
    },
    {
      "cell_type": "markdown",
      "metadata": {
        "id": "7E6IfSNWMZBY"
      },
      "source": [
        "**Варивнт 2.** С просторов интернета (модифицированный)."
      ]
    },
    {
      "cell_type": "code",
      "metadata": {
        "id": "WK0luyYAMZha"
      },
      "source": [
        "def get_delimiters(n):\n",
        "    return [d for d in range(1, int(n // 2) + 1) if n % d == 0]\n",
        "\n",
        "\n",
        "def is_sum_abundant(n):\n",
        "    for a in abundants:\n",
        "        if n-a in abundants:\n",
        "            return True\n",
        "    return False\n",
        "    #return any(n-a in abundants for a in abundants)\n",
        "\n",
        "\n",
        "abundants = set(i for i in range(1,28124) if sum(get_delimiters(i)) > i)\n",
        "print(sum(i for i in range(1, 28124) if not is_sum_abundant(i)))"
      ],
      "execution_count": null,
      "outputs": []
    },
    {
      "cell_type": "markdown",
      "metadata": {
        "id": "jgvw2ZkfsKui"
      },
      "source": [
        "---\n",
        "# Задача 24. Словарные перестановки\n",
        "\n",
        "Перестановка - это упорядоченная выборка объектов. К примеру, 3124 является одной из возможных перестановок из цифр 1, 2, 3 и 4. Если все перестановки приведены в порядке возрастания или алфавитном порядке, то такой порядок будем называть словарным. Словарные перестановки из цифр 0, 1 и 2 представлены ниже:\n",
        "\n",
        "012   021   102   120   201   210\n",
        "\n",
        "Какова миллионная словарная перестановка из цифр 0, 1, 2, 3, 4, 5, 6, 7, 8 и 9?\n",
        "\n",
        "[Оригинал](https://projecteuler.net/problem=24) [На русском](https://euler.jakumo.org/problems/view/24.html)\n",
        "\n",
        "Completed on Thu, 15 Oct 2020, 22:18"
      ]
    },
    {
      "cell_type": "markdown",
      "metadata": {
        "id": "kx3bK0FJ_LTt"
      },
      "source": [
        "**Вариант 1.**"
      ]
    },
    {
      "cell_type": "code",
      "metadata": {
        "id": "8OzV51sitYDM"
      },
      "source": [
        "from itertools import permutations, islice\n",
        "\n",
        "int(\"\".join(map(str, next(islice(permutations(range(10), 10), 999999, 1000000)))))"
      ],
      "execution_count": null,
      "outputs": []
    },
    {
      "cell_type": "markdown",
      "metadata": {
        "id": "U17ibGx6_Ood"
      },
      "source": [
        "**Вариант 2.** С просторов интернета."
      ]
    },
    {
      "cell_type": "code",
      "metadata": {
        "id": "Fpy_-Zw3_UNG"
      },
      "source": [
        "from math import factorial\n",
        "\n",
        "\n",
        "def nthPerm(s, n):\n",
        "\tif len(s)<2:\n",
        "\t\treturn s\n",
        "\tquot, n = divmod(n, factorial(len(s)-1))\n",
        "\treturn s[quot] + nthPerm(s[:quot] + s[quot+1:], n)\n",
        " \n",
        "\n",
        "print(nthPerm('0123456789', 1000000 - 1))"
      ],
      "execution_count": null,
      "outputs": []
    },
    {
      "cell_type": "markdown",
      "metadata": {
        "id": "aG_ET1t6ybTW"
      },
      "source": [
        "---\n",
        "# Задача 25. 1000-Значное число Фибоначчи\n",
        "\n",
        "Последовательность Фибоначчи определяется рекурсивным правилом:\n",
        "\n",
        "Fn = Fn−1 + Fn−2, где F1 = 1 и F2 = 1.\n",
        "Таким образом, первые 12 членов последовательности равны:\n",
        "\n",
        "* F1 = 1\n",
        "* F2 = 1\n",
        "* F3 = 2\n",
        "* F4 = 3\n",
        "* F5 = 5\n",
        "* F6 = 8\n",
        "* F7 = 13\n",
        "* F8 = 21\n",
        "* F9 = 34\n",
        "* F10 = 55\n",
        "* F11 = 89\n",
        "* F12 = 144\n",
        "\n",
        "Двенадцатый член F12 - первый член последовательности, который содержит три цифры.\n",
        "\n",
        "Каков порядковый номер первого члена последовательности Фибоначчи, содержащего 1000 цифр?\n",
        "\n",
        "[Оригинал](https://projecteuler.net/problem=25) [На русском](https://euler.jakumo.org/problems/view/25.html)\n",
        "\n",
        "Completed on Fri, 22 Jan 2021, 22:53"
      ]
    },
    {
      "cell_type": "markdown",
      "metadata": {
        "id": "dh9mzZ9BwKLl"
      },
      "source": [
        "**Вариант 1.**"
      ]
    },
    {
      "cell_type": "code",
      "metadata": {
        "id": "_YWRTLMhTdQn"
      },
      "source": [
        "def fibonacci_number():\n",
        "    f1, f2 = 0, 1\n",
        "    while 1:\n",
        "        f1, f2 = f2, f1 + f2\n",
        "        yield f1\n",
        "\n",
        "\n",
        "fibonacci_numbers = fibonacci_number()\n",
        "for i, f in enumerate(fibonacci_numbers):\n",
        "    if len(str(f)) == 1000:\n",
        "        print(i + 1)\n",
        "        break"
      ],
      "execution_count": null,
      "outputs": []
    },
    {
      "cell_type": "markdown",
      "metadata": {
        "id": "W_lFXSg1wVQ3"
      },
      "source": [
        "**Вариант 2.**"
      ]
    },
    {
      "cell_type": "code",
      "metadata": {
        "id": "sCMEwe0pwFmW"
      },
      "source": [
        "def fibonacci_number():\n",
        "    f1, f2 = 0, 1\n",
        "    while 1:\n",
        "        f1, f2 = f2, f1 + f2\n",
        "        yield f1\n",
        "\n",
        "\n",
        "fibonacci_numbers = fibonacci_number()\n",
        "for i, f in enumerate(fibonacci_numbers):\n",
        "    if f >= 10**999:\n",
        "        print(i + 1)\n",
        "        break"
      ],
      "execution_count": null,
      "outputs": []
    },
    {
      "cell_type": "markdown",
      "metadata": {
        "id": "r52C5TD7Ue9v"
      },
      "source": [
        "---\n",
        "# Задача 26. Обратные циклы\n",
        "\n",
        "Единичная дробь имеет 1 в числителе. Десятичные представления единичных дробей со знаменателями от 2 до 10 даны ниже:\n",
        "\n",
        "* 1/2\t=\t0.5\n",
        "* 1/3\t=\t0.(3)\n",
        "* 1/4\t=\t0.25\n",
        "* 1/5\t=\t0.2\n",
        "* 1/6\t=\t0.1(6)\n",
        "* 1/7\t=\t0.(142857)\n",
        "* 1/8\t=\t0.125\n",
        "* 1/9\t=\t0.(1)\n",
        "* 1/10\t=\t0.1\n",
        "\n",
        "Где 0.1(6) значит 0.166666..., и имеет повторяющуюся последовательность из одной цифры. Заметим, что 1/7 имеет повторяющуюся последовательность из 6 цифр.\n",
        "\n",
        "Найдите значение d < 1000, для которого 1/d в десятичном виде содержит самую длинную повторяющуюся последовательность цифр.\n",
        "\n",
        "[Оригинал](https://projecteuler.net/problem=26) [На русском](https://euler.jakumo.org/problems/view/26.html)\n",
        "\n",
        "Completed on Wed, 3 Mar 2021, 00:06"
      ]
    },
    {
      "cell_type": "code",
      "metadata": {
        "id": "4uumLEO2lkzq"
      },
      "source": [
        "def f(num):\n",
        "    while num % 2 == 0 or num % 5 == 0:\n",
        "        if num % 2 == 0:\n",
        "            num //= 2\n",
        "        else:\n",
        "            num //= 5\n",
        "    return num\n",
        "\n",
        "\n",
        "def get_len_period(denominator):\n",
        "    denominator = f(denominator)\n",
        "    if denominator == 1:\n",
        "        return 0\n",
        "    \n",
        "    len_period = 0\n",
        "    p = 1\n",
        "    while 1:\n",
        "        n = 10**p - 1\n",
        "        len_period += 1\n",
        "        if n % denominator == 0:\n",
        "            break\n",
        "        p += 1\n",
        "    return len_period\n",
        "\n",
        "\n",
        "max_period = (0, 0)\n",
        "for i in range(2, 1000):\n",
        "    max_period = max(max_period, (get_len_period(i), i))\n",
        "print(f\"Длина периада 1/{max_period[1]} - {max_period[0]} \")"
      ],
      "execution_count": null,
      "outputs": []
    },
    {
      "cell_type": "markdown",
      "metadata": {
        "id": "ohyqnGtRTObg"
      },
      "source": [
        "---\n",
        "# Задача 27. Квадратичные простые числа\n",
        "\n",
        "Эйлер опубликовал свою замечательную квадратичную формулу:\n",
        "\n",
        "> n^2 + n + 41\n",
        "\n",
        "Оказалось, что согласно данной формуле можно получить 40 простых чисел, последовательно подставляя значения 0 ≤ n ≤ 39. Однако, при\n",
        "\n",
        "> n = 40, 40^2 + 40 + 41 = 40(40 + 1) + 41 делится на 41 без остатка, \n",
        "\n",
        "и, очевидно, при \n",
        "\n",
        "> n = 41, 41^2 + 41 + 41 делится на 41 без остатка.\n",
        "\n",
        "При помощи компьютеров была найдена невероятная формула \n",
        "\n",
        "> n^2 − 79n + 1601, \n",
        "\n",
        "согласно которой можно получить 80 простых чисел для последовательных значений n от 0 до 79. Произведение коэффициентов − 79 и 1601 равно − 126479.\n",
        "\n",
        "Рассмотрим квадратичную формулу вида:\n",
        "\n",
        "> n^2 + an + b, где |a| < 1000 и |b| ≤ 1000\n",
        "\n",
        "где |n| является модулем (абсолютным значением) n.\n",
        "К примеру, |11| = 11 и |−4| = 4\n",
        "\n",
        "Найдите произведение коэффициентов a и b квадратичного выражения, согласно которому можно получить максимальное количество простых чисел для последовательных значений n, начиная со значения n = 0.\n",
        "\n",
        "[Оригинал](https://projecteuler.net/problem=27) [На русском](https://euler.jakumo.org/problems/view/27.html)\n",
        "\n",
        "Completed on Sun, 7 Mar 2021, 09:19"
      ]
    },
    {
      "cell_type": "code",
      "metadata": {
        "id": "vAeid8FATcWh"
      },
      "source": [
        "from math import sqrt\n",
        "\n",
        "\n",
        "def is_prime(n):\n",
        "    if n % 2 == 0 and n > 2: \n",
        "        return False\n",
        "        \n",
        "    return all(n % i for i in range(3, int(sqrt(n)) + 1, 2))\n",
        "\n",
        "\n",
        "def f(a, b):\n",
        "    n = 0\n",
        "    y = n**2 + a*n + b\n",
        "    while is_prime(abs(y)):\n",
        "        n += 1\n",
        "        y = n**2 + a*n + b\n",
        "\n",
        "    return n - 1, a * b\n",
        "\n",
        "\n",
        "max_ab = (0, 0)\n",
        "for a in range(-999, 1000):\n",
        "    for b in range(-1000, 1001):\n",
        "        max_ab = max(max_ab, f(a, b))\n",
        "print(f\"Произведение коэффициентов a и b квадратичного выражения \\\n",
        "n^2 + an + b,\\n где |a| < 1000 и |b| ≤ 1000 равно {max_ab[1]},\\n \\\n",
        "согласно которому максимальное количество простых чисел для последовательных \\\n",
        "значений n,\\n начиная со значения n = 0, равно {max_ab[0]}.\")"
      ],
      "execution_count": null,
      "outputs": []
    },
    {
      "cell_type": "markdown",
      "metadata": {
        "id": "IQCv5CM1utta"
      },
      "source": [
        "---\n",
        "# Задача 28. Диагонали числовой спирали\n",
        "\n",
        "Начиная с числа 1 и двигаясь дальше вправо по часовой стрелке, образуется следующая спираль 5 на 5:\n",
        "\n",
        "**21** 22 23 24 **25**\n",
        "\n",
        "20  **7** 8  **9** 10\n",
        "\n",
        "19  6  **1**  2 11\n",
        "\n",
        "18  **5**  4  **3** 12\n",
        "\n",
        "**17** 16 15 14 **13**\n",
        "\n",
        "Можно убедиться, что сумма чисел в диагоналях равна 101.\n",
        "\n",
        "Какова сумма чисел в диагоналях спирали 1001 на 1001, образованной таким же способом?\n",
        "\n",
        "[Оригинал](https://projecteuler.net/problem=28) [На русском](https://euler.jakumo.org/problems/view/28.html)\n",
        "\n",
        "Completed on Tue, 9 Mar 2021, 12:42\n"
      ]
    },
    {
      "cell_type": "markdown",
      "metadata": {
        "id": "BFVA9Mo7JZdP"
      },
      "source": [
        "**Вариант 1.**"
      ]
    },
    {
      "cell_type": "code",
      "metadata": {
        "id": "B__ykJi7T0jJ"
      },
      "source": [
        "s = 0\n",
        "step = 2\n",
        "t = 1\n",
        "for shape in range(3, 1002, 2):\n",
        "    for i in range(t, shape**2 + 1, step):\n",
        "        s += i\n",
        "    step += 2\n",
        "    t = shape**2 + step\n",
        "print(s)"
      ],
      "execution_count": null,
      "outputs": []
    },
    {
      "cell_type": "markdown",
      "metadata": {
        "id": "rjsiapR0k1iw"
      },
      "source": [
        "**Вариант 2.** С просторов интернета.\n",
        "\n",
        "Модель натурального ряда чисел (нрч). Спираль Улама."
      ]
    },
    {
      "cell_type": "code",
      "metadata": {
        "id": "6bQvyid2JQZR"
      },
      "source": [
        "sum(4*n**2-6*n+6 for n in range(3, 1002, 2))+1"
      ],
      "execution_count": null,
      "outputs": []
    },
    {
      "cell_type": "markdown",
      "metadata": {
        "id": "DnSl2ivvmHIw"
      },
      "source": [
        "---\n",
        "# Задача 29. Различные степени\n",
        "\n",
        "Рассмотрим все целочисленные комбинации a^b для 2 ≤ a ≤ 5 и 2 ≤ b ≤ 5:\n",
        "\n",
        "2^2=4, 2^3=8, 2^4=16, 2^5=32\n",
        "\n",
        "3^2=9, 3^3=27, 3^4=81, 3^5=243\n",
        "\n",
        "4^2=16, 4^3=64, 4^4=256, 4^5=1024\n",
        "\n",
        "5^2=25, 5^3=125, 5^4=625, 5^5=3125\n",
        "\n",
        "Если их расположить в порядке возрастания, исключив повторения, мы получим следующую последовательность из 15 различных членов:\n",
        "\n",
        "4, 8, 9, 16, 25, 27, 32, 64, 81, 125, 243, 256, 625, 1024, 3125\n",
        "\n",
        "Сколько различных членов имеет последовательность ab для 2 ≤ a ≤ 100 и 2 ≤ b ≤ 100?\n",
        "\n",
        "\n",
        "\n",
        "[Оригинал](https://projecteuler.net/problem=29) [На русском](https://euler.jakumo.org/problems/view/29.html)\n",
        "\n",
        "Completed on Tue, 9 Mar 2021, 21:55"
      ]
    },
    {
      "cell_type": "code",
      "metadata": {
        "id": "MtPUDthkT8jG"
      },
      "source": [
        "len(set(a ** b for a in range(2, 101) for b in range(2, 101)))"
      ],
      "execution_count": null,
      "outputs": []
    },
    {
      "cell_type": "markdown",
      "metadata": {
        "id": "5CKEhqH76IYV"
      },
      "source": [
        "---\n",
        "# Задача 30. Пятые степени цифр\n",
        "\n",
        "Удивительно, но существует только три числа, которые могут быть записаны в виде суммы четвертых степеней их цифр:\n",
        "\n",
        "1634 = 1^4 + 6^4 + 3^4 + 4^4\n",
        "\n",
        "8208 = 8^4 + 2^4 + 0^4 + 8^4\n",
        "\n",
        "9474 = 9^4 + 4^4 + 7^4 + 4^4\n",
        "\n",
        "1 = 1^4 не считается, так как это - не сумма.\n",
        "\n",
        "Сумма этих чисел равна 1634 + 8208 + 9474 = 19316.\n",
        "\n",
        "Найдите сумму всех чисел, которые могут быть записаны в виде суммы пятых степеней их цифр.\n",
        "\n",
        "\n",
        "[Оригинал](https://projecteuler.net/problem=30) [На русском](https://euler.jakumo.org/problems/view/30.html)\n",
        "\n",
        "Completed on Wed, 10 Mar 2021, 17:59"
      ]
    },
    {
      "cell_type": "code",
      "metadata": {
        "id": "ZMXNLC-JUD43"
      },
      "source": [
        "import numpy as np\n",
        "\n",
        "\n",
        "def get_digits_number(num):\n",
        "    digits = []\n",
        "    while num > 0:\n",
        "        digits.append(num % 10)\n",
        "        num //= 10\n",
        "    return digits\n",
        "\n",
        "\n",
        "sum(i for i in range(1, 199999) if i == sum(np.array(get_digits_number(i)) ** 5) and i != 1)"
      ],
      "execution_count": null,
      "outputs": []
    },
    {
      "cell_type": "markdown",
      "metadata": {
        "id": "8HfjBdGtbtyk"
      },
      "source": [
        "---\n",
        "# Задача 31. Суммы монет\n",
        "\n",
        "В Англии валютой являются фунты стерлингов £ и пенсы p, и в обращении есть восемь монет:\n",
        "\n",
        "1p, 2p, 5p, 10p, 20p, 50p, £1 (100p) и £2 (200p).\n",
        "\n",
        "£2 возможно составить следующим образом:\n",
        "\n",
        "1×£1 + 1×50p + 2×20p + 1×5p + 1×2p + 3×1p\n",
        "\n",
        "Сколькими разными способами можно составить £2, используя любое количество монет?\n",
        "\n",
        "[Оригинал](https://projecteuler.net/problem=31) [На русском](https://euler.jakumo.org/problems/view/31.html)\n",
        "\n",
        "Completed on Thu, 25 Mar 2021, 21:25\n"
      ]
    },
    {
      "cell_type": "markdown",
      "metadata": {
        "id": "gXvcRSkTou2s"
      },
      "source": [
        "**Вариант 1.** С просторов интернета.\n",
        "\n",
        "[Материалы](https://www.mathblog.dk/project-euler-31-combinations-english-currency-denominations/) для решения."
      ]
    },
    {
      "cell_type": "code",
      "metadata": {
        "id": "_Nf_XEjHemSF"
      },
      "source": [
        "def compute():\n",
        "    TOTAL = 200\n",
        "    ways = [1] + [0] * TOTAL\n",
        "    for coin in [1, 2, 5, 10, 20, 50, 100, 200]:\n",
        "        for i in range(len(ways) - coin):\n",
        "            ways[i + coin] += ways[i]\n",
        "    return str(ways[-1])\n",
        "\n",
        "\n",
        "if __name__ == \"__main__\":\n",
        "    print(compute())"
      ],
      "execution_count": null,
      "outputs": []
    },
    {
      "cell_type": "markdown",
      "metadata": {
        "id": "LDUIkUiIykr-"
      },
      "source": [
        "**Вариант 2.** С просторов интернета.\n",
        "\n",
        "[Материалы](https://radiusofcircle.blogspot.com/2016/05/problem-31-project-euler-solution-with-python.html) для решения."
      ]
    },
    {
      "cell_type": "code",
      "metadata": {
        "id": "Mv5ieF9Pp2cU"
      },
      "source": [
        "counter = 0\n",
        "\n",
        "# number of 100p coins\n",
        "for a in range(3):\n",
        "\t# number of 50p coins\n",
        "\t\tfor b in range(int(1 + (200 - 100*a)/50)):\n",
        "\t\t\t# number of 20p coins\n",
        "\t\t\t\tfor c in range(int(1 + (200 - 100*a - 50*b)/20)):\n",
        "\t\t\t\t\t# number of 10p coins\n",
        "\t\t\t\t\t\tfor d in range(int(1 + (200 - 100*a - 50*b - 20*c)/10)):\n",
        "\t\t\t\t\t\t\t# number of 5p coins\n",
        "\t\t\t\t\t\t\t\tfor e in range(int(1 + (200 - 100*a - 50*b - 20*c - 10*d)/5)):\n",
        "\t\t\t\t\t\t\t\t\t# number of 2p coins\n",
        "\t\t\t\t\t\t\t\t\t\tfor f in range(int(1 + (200 - 100*a - 50*b - 20*c - 10*d - 5*e)/2)):\n",
        "\t\t\t\t\t\t\t\t\t\t\tcounter += 1\n",
        "\n",
        "# Total number of ways we can form the 200p\n",
        "# Added 1 for 200p case\n",
        "print(counter+1)"
      ],
      "execution_count": null,
      "outputs": []
    },
    {
      "cell_type": "markdown",
      "metadata": {
        "id": "9uHEDUZ8wHRz"
      },
      "source": [
        "---\n",
        "# Задача 32. Пан-цифровые произведения\n",
        "\n",
        "Каждое n-значное число, которое содержит каждую цифру от 1 до n ровно один раз, будем считать пан-цифровым; к примеру, 5-значное число 15234 является пан-цифровым, т.к. содержит цифры от 1 до 5.\n",
        "\n",
        "Произведение 7254 является необычным, поскольку равенство 39 × 186 = 7254, состоящее из множимого, множителя и произведения является пан-цифровым, т.е. содержит цифры от 1 до 9.\n",
        "\n",
        "Найдите сумму всех пан-цифровых произведений, для которых равенство \"множимое × множитель = произведение\" можно записать цифрами от 1 до 9, используя каждую цифру только один раз.\n",
        "\n",
        "ПОДСКАЗКА: Некоторые произведения можно получить несколькими способами, поэтому убедитесь, что включили их в сумму лишь единожды.\n",
        "\n",
        "[Оригинал](https://projecteuler.net/problem=32) [На русском](https://euler.jakumo.org/problems/view/32.html)\n",
        "\n",
        "Completed on Sun, 28 Mar 2021, 20:57"
      ]
    },
    {
      "cell_type": "markdown",
      "metadata": {
        "id": "ngNQsCzRw8my"
      },
      "source": [
        "**Вариант 1.**"
      ]
    },
    {
      "cell_type": "code",
      "metadata": {
        "id": "F7VtqZarlDvJ"
      },
      "source": [
        "from timeit import default_timer\n",
        "\n",
        "pattern = \"123456789\"\n",
        "\n",
        "\n",
        "def is_pandigital_work(a, b, c):\n",
        "    result = str(a) + str(b) + str(c)\n",
        "    if \"\".join(sorted(result)) == pattern:\n",
        "        return True\n",
        "    return False\n",
        "\n",
        "\n",
        "start_time = default_timer()\n",
        "ans = sum(set(a * b \n",
        "            for a in range(1, 99) \n",
        "            for b in range(123, 2000) \n",
        "            if is_pandigital_work(a, b, a * b ) == True))\n",
        "end_time = default_timer()\n",
        "\n",
        "print(\"The total sum is {} and it took {:f} seconds to find.\".format(ans, end_time - start_time))"
      ],
      "execution_count": null,
      "outputs": []
    },
    {
      "cell_type": "markdown",
      "metadata": {
        "id": "uKnLPUEYw5iO"
      },
      "source": [
        "**Вариант 2.** С просторов интернета."
      ]
    },
    {
      "cell_type": "code",
      "metadata": {
        "id": "VbMHIDNpqtGG"
      },
      "source": [
        "from timeit import default_timer\n",
        "\n",
        "\n",
        "# Given integer x, this returns the integer floor(sqrt(x)).\n",
        "def sqrt(x):\n",
        "    assert x >= 0\n",
        "    i = 1\n",
        "    while i * i <= x:\n",
        "        i *= 2\n",
        "    y = 0\n",
        "    while i > 0:\n",
        "        if (y + i)**2 <= x:\n",
        "            y += i\n",
        "        i //= 2\n",
        "    return y\n",
        "\n",
        "\n",
        "def has_pandigital_product(n):\n",
        "    for i in range(1, sqrt(n) + 1):\n",
        "        if n % i == 0:\n",
        "            temp = str(n) + str(i) + str(n // i)\n",
        "            if \"\".join(sorted(temp)) == \"123456789\":\n",
        "                return True\n",
        "    return False\n",
        "\n",
        "\n",
        "def compute():\n",
        "    ans = sum(i for i in range(1, 10000) if has_pandigital_product(i))\n",
        "    return str(ans)\n",
        "\n",
        "\n",
        "if __name__ == \"__main__\":\n",
        "    start_time = default_timer()\n",
        "    ans = compute()\n",
        "    end_time = default_timer()\n",
        "    print(\"The total sum is {} and it took {:f} seconds to find.\".format(ans, end_time - start_time))"
      ],
      "execution_count": null,
      "outputs": []
    },
    {
      "cell_type": "markdown",
      "metadata": {
        "id": "imD5ZUI7_lF6"
      },
      "source": [
        "**Вариант 2.1** С просторов интернета (модифицированный).\n",
        "\n",
        "Используется встроенная функция sqrt() модуля *math*."
      ]
    },
    {
      "cell_type": "code",
      "metadata": {
        "id": "jf4-n0wR_3Xc"
      },
      "source": [
        "from math import sqrt\n",
        "from timeit import default_timer\n",
        "\n",
        "\n",
        "def has_pandigital_product(n):\n",
        "    for i in range(1, int(sqrt(n)) + 1):\n",
        "        if n % i == 0:\n",
        "            temp = str(n) + str(i) + str(n // i)\n",
        "            if \"\".join(sorted(temp)) == \"123456789\":\n",
        "                return True\n",
        "    return False\n",
        "\n",
        "\n",
        "def compute():\n",
        "    ans = sum(i for i in range(1, 10000) if has_pandigital_product(i))\n",
        "    return str(ans)\n",
        "\n",
        "\n",
        "if __name__ == \"__main__\":\n",
        "    start_time = default_timer()\n",
        "    ans = compute()\n",
        "    end_time = default_timer()\n",
        "    print(\"The total sum is {} and it took {:f} seconds to find.\".format(ans, end_time - start_time))"
      ],
      "execution_count": null,
      "outputs": []
    },
    {
      "cell_type": "markdown",
      "metadata": {
        "id": "_a6Kz3f15NkW"
      },
      "source": [
        "---\n",
        "# Задача 33. Дроби, сократимые по цифрам\n",
        "\n",
        "Дробь 49/98 является любопытной, поскольку неопытный математик, пытаясь сократить ее, будет ошибочно полагать, что 49/98 = 4/8, являющееся истиной, получено вычеркиванием девяток.\n",
        "\n",
        "Дроби вида 30/50 = 3/5 будем считать тривиальными примерами.\n",
        "\n",
        "Существует ровно 4 нетривиальных примера дробей подобного типа, которые меньше единицы и содержат двухзначные числа как в числителе, так и в знаменателе.\n",
        "\n",
        "Пусть произведение этих четырех дробей дано в виде несократимой дроби (числитель и знаменатель дроби не имеют общих сомножителей). Найдите знаменатель этой дроби.\n",
        "\n",
        "[Оригинал](https://projecteuler.net/problem=33) [На русском](https://euler.jakumo.org/problems/view/33.html)\n",
        "\n",
        "Completed on Mon, 12 Apr 2021, 09:46\n"
      ]
    },
    {
      "cell_type": "markdown",
      "metadata": {
        "id": "lcRnuoGx1VDF"
      },
      "source": [
        "**Вариант 1.**"
      ]
    },
    {
      "cell_type": "code",
      "metadata": {
        "id": "09hx3SiY2-Ik"
      },
      "source": [
        "from math import gcd\n",
        "from timeit import default_timer\n",
        "\n",
        "numerator = []\n",
        "denominator = []\n",
        "a_n = 1\n",
        "b_d = 1\n",
        "start_time = default_timer()\n",
        "for a in range(11, 99):\n",
        "    for b in range(a + 1, 100):\n",
        "        gcd_ = gcd(a, b)\n",
        "        if a % 10 != 0 and b % 10 != 0 and gcd_ != 1:\n",
        "            numerator.append(a // 10)\n",
        "            numerator.append(a % 10)\n",
        "            denominator.append(b // 10)\n",
        "            denominator.append(b % 10)\n",
        "            if numerator[1] == denominator[0]:\n",
        "                n = numerator[0]\n",
        "                d = denominator[1]\n",
        "            else:\n",
        "                continue\n",
        "            if a / b == n / d:\n",
        "                a_n *= a\n",
        "                b_d *= b\n",
        "        numerator.clear()\n",
        "        denominator.clear()\n",
        "b_d /= gcd(a_n, b_d)\n",
        "end_time = default_timer()\n",
        "\n",
        "print(\"The denominator is {} and it took {:f} seconds to find.\".format(int(b_d), end_time - start_time))"
      ],
      "execution_count": null,
      "outputs": []
    },
    {
      "cell_type": "markdown",
      "metadata": {
        "id": "HUqGMFZA4BVH"
      },
      "source": [
        "**Вариант 1.1**"
      ]
    },
    {
      "cell_type": "code",
      "metadata": {
        "id": "rb_Td6b-35p0"
      },
      "source": [
        "from math import gcd\n",
        "from timeit import default_timer\n",
        "\n",
        "numerator = []\n",
        "denominator = []\n",
        "a_n = 1\n",
        "b_d = 1\n",
        "start_time = default_timer()\n",
        "for a in range(11, 100):\n",
        "    for b in range(a + 1, 100):\n",
        "        gcd_ = gcd(a, b)\n",
        "        if a % 10 != 0 and b % 10 != 0 and gcd_ != 1:\n",
        "            a0 = a // 10\n",
        "            a1 = a % 10\n",
        "            b0 = b // 10\n",
        "            b1 = b % 10\n",
        "            if a1 == b0 and a / b == a0 / b1:\n",
        "                a_n *= a\n",
        "                b_d *= b\n",
        "b_d /= gcd(a_n, b_d)\n",
        "end_time = default_timer()\n",
        "\n",
        "print(\"The denominator is {} and it took {:f} seconds to find.\".format(int(b_d), end_time - start_time))"
      ],
      "execution_count": null,
      "outputs": []
    },
    {
      "cell_type": "markdown",
      "metadata": {
        "id": "sg_gyraF1y5m"
      },
      "source": [
        "**Вариант 2.** С просторов интернета."
      ]
    },
    {
      "cell_type": "code",
      "metadata": {
        "id": "cjGpNMabAuv-"
      },
      "source": [
        "import math\n",
        "from timeit import default_timer\n",
        "\n",
        "\n",
        "def compute():\n",
        "    numer = 1\n",
        "    denom = 1\n",
        "    for d in range(10, 100):\n",
        "        for n in range(10, d):\n",
        "            n0 = n % 10\n",
        "            n1 = n // 10\n",
        "            d0 = d % 10\n",
        "            d1 = d // 10\n",
        "            if (n1 == d0 and n0 * d == n * d1) or (n0 == d1 and n1 * d == n * d0):\n",
        "                numer *= n\n",
        "                denom *= d\n",
        "    return str(denom // math.gcd(numer, denom))\n",
        "\n",
        "\n",
        "if __name__ == \"__main__\":\n",
        "    start_time = default_timer()\n",
        "    ans = compute()\n",
        "    end_time = default_timer()\n",
        "    print(\"The denominator is {} and it took {:f} seconds to find.\".format(ans, end_time - start_time))"
      ],
      "execution_count": null,
      "outputs": []
    },
    {
      "cell_type": "markdown",
      "metadata": {
        "id": "l-_XHxWTFtow"
      },
      "source": [
        "**Вариант 3.** С просторов интернета (модифицированный).\n",
        "\n",
        "Исходный [материал](https://euler.beerbaronbill.com/en/latest/solutions/33.html)"
      ]
    },
    {
      "cell_type": "code",
      "metadata": {
        "id": "I6JYBWQ61_8G"
      },
      "source": [
        "from fractions import Fraction\n",
        "from timeit import default_timer\n",
        "\n",
        "\n",
        "def digits_of(n):\n",
        "    assert n > 9 and n < 100\n",
        "    return [n // 10, n % 10]\n",
        "\n",
        "\n",
        "def digits_to_num(digits):\n",
        "    if len(digits) == 1:\n",
        "        return digits[0]\n",
        "    elif len(digits) == 2:\n",
        "        return digits[0]*10 + digits[1]\n",
        "    return 0\n",
        "\n",
        "\n",
        "def simplify_bad(a, b):\n",
        "    a_digits = digits_of(a)\n",
        "    b_digits = digits_of(b)\n",
        "    aa = a_digits.copy()\n",
        "    bb = b_digits.copy()\n",
        "    for a_i in a_digits:\n",
        "        if a_i in bb and a_i != 0:\n",
        "            aa.remove(a_i)\n",
        "            bb.remove(a_i)\n",
        "\n",
        "    return digits_to_num(aa), digits_to_num(bb)  \n",
        "\n",
        "\n",
        "def is_curious_fraction(x, y, x_bad, y_bad):\n",
        "    if x_bad == x:\n",
        "        return False \n",
        "    elif y_bad == 0:\n",
        "        return False \n",
        "    else:\n",
        "        return x_bad / y_bad == x / y\n",
        "\n",
        "\n",
        "def solve():\n",
        "    curious_product = Fraction(1, 1)\n",
        "\n",
        "    for numerator in range(11, 100):\n",
        "        for denominator in range(numerator + 1, 100):\n",
        "            numerator_cancelled, denominator_cancelled = simplify_bad(numerator, denominator)\n",
        "            if is_curious_fraction(numerator, denominator, numerator_cancelled, denominator_cancelled):\n",
        "                curious_product *= Fraction(numerator_cancelled, denominator_cancelled)\n",
        "\n",
        "    return curious_product.denominator\n",
        "\n",
        "\n",
        "if __name__ == \"__main__\":\n",
        "    start_time = default_timer()\n",
        "    ans = solve()\n",
        "    end_time = default_timer()\n",
        "    print(\"The denominator is {} and it took {:f} seconds to find.\".format(ans, end_time - start_time))"
      ],
      "execution_count": null,
      "outputs": []
    },
    {
      "cell_type": "markdown",
      "metadata": {
        "id": "9E-LOou-CNrG"
      },
      "source": [
        "---\n",
        "# Задача 34. Факториалы цифр\n",
        "\n",
        "145 является любопытным числом, поскольку 1! + 4! + 5! = 1 + 24 + 120 = 145.\n",
        "\n",
        "Найдите сумму всех чисел, каждое из которых равно сумме факториалов своих цифр.\n",
        "\n",
        "Примечание: поскольку 1! = 1 и 2! = 2 не являются суммами, учитывать их не следует.\n",
        "\n",
        "[Оригинал](https://projecteuler.net/problem=34) [На русском](https://euler.jakumo.org/problems/view/34.html)\n",
        "\n",
        "Completed on Tue, 13 Apr 2021, 00:26"
      ]
    },
    {
      "cell_type": "code",
      "metadata": {
        "id": "-zbWSlUwZ3Om"
      },
      "source": [
        "from typing import List\n",
        "from math import factorial\n",
        "from timeit import default_timer\n",
        "\n",
        "\n",
        "def digits_of(n: int) -> List[int]:\n",
        "    digits = []\n",
        "    n = abs(n)\n",
        "    while n > 0:\n",
        "        digits.append(n % 10)\n",
        "        n //= 10\n",
        "    return digits\n",
        "\n",
        "\n",
        "def is_curious_number(n: int) -> bool:\n",
        "    digits = digits_of(n)\n",
        "    return n == sum([factorial(digit) for digit in digits])\n",
        "\n",
        "\n",
        "def compute():\n",
        "    return sum([n for n in range(3, 40586) if is_curious_number(n)])\n",
        "\n",
        "\n",
        "if __name__ == \"__main__\":\n",
        "    start_time = default_timer()\n",
        "    ans = compute()\n",
        "    end_time = default_timer()\n",
        "    print(\"The sum of all numbers, each of which is equal to the sum of the \\n\\\n",
        "    factorials of its digits is {} and it took {:f} seconds to find.\".format(ans, end_time - start_time))"
      ],
      "execution_count": null,
      "outputs": []
    },
    {
      "cell_type": "markdown",
      "metadata": {
        "id": "0c9NhYl0_h1G"
      },
      "source": [
        "---\n",
        "# Задача 35. \n",
        "\n",
        "[Оригинал](https://projecteuler.net/problem=35) [На русском](https://euler.jakumo.org/problems/view/35.html)\n",
        "\n"
      ]
    },
    {
      "cell_type": "code",
      "metadata": {
        "id": "louXWqGlZ4SE"
      },
      "source": [
        ""
      ],
      "execution_count": null,
      "outputs": []
    },
    {
      "cell_type": "markdown",
      "metadata": {
        "id": "OKRdCE0iq8HV"
      },
      "source": [
        "---\n",
        "# Задача 36. \n",
        "\n",
        "[Оригинал](https://projecteuler.net/problem=36) [На русском](https://euler.jakumo.org/problems/view/36.html)\n",
        "\n"
      ]
    },
    {
      "cell_type": "code",
      "metadata": {
        "id": "7wV1F_gMZ4wh"
      },
      "source": [
        ""
      ],
      "execution_count": null,
      "outputs": []
    },
    {
      "cell_type": "markdown",
      "metadata": {
        "id": "dGvIgvaCFa0S"
      },
      "source": [
        "---\n",
        "# Задача 37. \n",
        "\n",
        "[Оригинал](https://projecteuler.net/problem=37) [На русском](https://euler.jakumo.org/problems/view/37.html)\n",
        "\n"
      ]
    },
    {
      "cell_type": "code",
      "metadata": {
        "id": "fOOXGmcPZ5fH"
      },
      "source": [
        ""
      ],
      "execution_count": null,
      "outputs": []
    },
    {
      "cell_type": "markdown",
      "metadata": {
        "id": "M3Fqfba1GiwV"
      },
      "source": [
        "---\n",
        "# Задача 38. \n",
        "\n",
        "\n",
        "[Оригинал](https://projecteuler.net/problem=38) [На русском](https://euler.jakumo.org/problems/view/38.html)\n",
        "\n"
      ]
    },
    {
      "cell_type": "code",
      "metadata": {
        "id": "-njaGW8EZ6Rs"
      },
      "source": [
        ""
      ],
      "execution_count": null,
      "outputs": []
    },
    {
      "cell_type": "markdown",
      "metadata": {
        "id": "9wcgW-7jgr3I"
      },
      "source": [
        "---\n",
        "# Задача 39. \n",
        "\n",
        "[Оригинал](https://projecteuler.net/problem=39) [На русском](https://euler.jakumo.org/problems/view/39.html)\n",
        "\n"
      ]
    },
    {
      "cell_type": "code",
      "metadata": {
        "id": "bH55eeCvZ61d"
      },
      "source": [
        ""
      ],
      "execution_count": null,
      "outputs": []
    },
    {
      "cell_type": "markdown",
      "metadata": {
        "id": "AigLGrYfNsJv"
      },
      "source": [
        "---\n",
        "# Задача 40. \n",
        "\n",
        "[Оригинал](https://projecteuler.net/problem=40) [На русском](https://euler.jakumo.org/problems/view/40.html)\n"
      ]
    },
    {
      "cell_type": "code",
      "metadata": {
        "id": "gOcUNTk6Z72x"
      },
      "source": [
        ""
      ],
      "execution_count": null,
      "outputs": []
    }
  ]
}