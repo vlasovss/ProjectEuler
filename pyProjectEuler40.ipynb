{
  "nbformat": 4,
  "nbformat_minor": 0,
  "metadata": {
    "colab": {
      "name": "pyProjectEuler40.ipynb",
      "provenance": [],
      "private_outputs": true,
      "collapsed_sections": [],
      "mount_file_id": "1ZoIJ4zmXi9hWa4APzkpNc6NnkUC_dOPL",
      "authorship_tag": "ABX9TyO0Bj3T46RPw0oemxJa5GBi",
      "include_colab_link": true
    },
    "kernelspec": {
      "name": "python3",
      "display_name": "Python 3"
    }
  },
  "cells": [
    {
      "cell_type": "markdown",
      "metadata": {
        "id": "view-in-github",
        "colab_type": "text"
      },
      "source": [
        "<a href=\"https://colab.research.google.com/github/vlasovss/ProjectEuler/blob/main/pyProjectEuler40.ipynb\" target=\"_parent\"><img src=\"https://colab.research.google.com/assets/colab-badge.svg\" alt=\"Open In Colab\"/></a>"
      ]
    },
    {
      "cell_type": "markdown",
      "metadata": {
        "id": "xpeYEfcnSQb6"
      },
      "source": [
        "# Project Eulera на Python\n",
        "## Задачи с 21 по 40"
      ]
    },
    {
      "cell_type": "markdown",
      "metadata": {
        "id": "r8t6XMhNTvp3"
      },
      "source": [
        "---\n",
        "# Задача 21. \n",
        "\n",
        "Пусть d(n) определяется как сумма делителей n (числа меньше n, делящие n нацело).\n",
        "Если d(a) = b и d(b) = a, где a ≠ b, то a и b называются дружественной парой, а каждое из чисел a и b - дружественным числом.\n",
        "\n",
        "Например, делителями числа 220 являются 1, 2, 4, 5, 10, 11, 20, 22, 44, 55 и 110, поэтому d(220) = 284. Делители 284 - 1, 2, 4, 71, 142, поэтому d(284) = 220.\n",
        "\n",
        "Подсчитайте сумму всех дружественных чисел меньше 10000.\n",
        "\n",
        "[Оригинал](https://projecteuler.net/problem=21) [На русском](https://euler.jakumo.org/problems/view/21.html)\n",
        "\n",
        "Completed on Mon, 12 Oct 2020, 23:56"
      ]
    },
    {
      "cell_type": "code",
      "metadata": {
        "id": "wCD2-P8goA3j"
      },
      "source": [
        "def get_delimiters(num):\n",
        "    return [d for d in range(1, num) if num % d == 0]\n",
        "\n",
        "friendly_numbers = []\n",
        "for num in range(1, 10000):\n",
        "    if num not in friendly_numbers:\n",
        "        b = sum(get_delimiters(num))\n",
        "        a = sum(get_delimiters(b))\n",
        "        if a == num and a != b:\n",
        "            friendly_numbers.append(a)\n",
        "            friendly_numbers.append(b)\n",
        "\n",
        "print(friendly_numbers)\n",
        "print(sum(friendly_numbers))"
      ],
      "execution_count": null,
      "outputs": []
    },
    {
      "cell_type": "markdown",
      "metadata": {
        "id": "pUuxmYayVsax"
      },
      "source": [
        "---\n",
        "# Задача 22. \n",
        "\n",
        "Используйте [names.txt](https://projecteuler.net/project/resources/p022_names.txt) (щелкнуть правой кнопкой мыши и выбрать 'Save Link/Target As...'), текстовый файл размером 46 КБ, содержащий более пяти тысяч имен.\n",
        "\n",
        "> См. файл sample_data/p022_names.txt\n",
        "\n",
        "Начните с сортировки в алфавитном порядке. Затем подсчитайте алфавитные значения каждого имени и умножьте это значение на порядковый номер имени в отсортированном списке для получения количества очков имени.\n",
        "\n",
        "Например, если список отсортирован по алфавиту, имя COLIN (алфавитное значение которого 3 + 15 + 12 + 9 + 14 = 53) является 938-ым в списке. Поэтому, имя COLIN получает 938 × 53 = 49714 очков.\n",
        "\n",
        "Какова сумма очков имен в файле?\n",
        "\n",
        "[Оригинал](https://projecteuler.net/problem=22) [На русском](https://euler.jakumo.org/problems/view/22.html)\n",
        "\n",
        "Completed on Wed, 14 Oct 2020, 08:42"
      ]
    },
    {
      "cell_type": "code",
      "metadata": {
        "id": "-Ohix4BSWOwE"
      },
      "source": [
        "import string\n",
        "\n",
        "ENG_ALPHABET = {\n",
        "    'A': 1,\t\n",
        "\t'B': 2,\n",
        "\t'C': 3,\t\n",
        "\t'D': 4,\t\n",
        "\t'E': 5,\n",
        "\t'F': 6,\n",
        "\t'G': 7,\t\n",
        "\t'H': 8,\t\n",
        "\t'I': 9,\n",
        "\t'J': 10,\t\n",
        "\t'K': 11,\n",
        "\t'L': 12,\n",
        "\t'M': 13,\n",
        "\t'N': 14,\n",
        "\t'O': 15,\n",
        "\t'P': 16,\n",
        "\t'Q': 17,\n",
        "\t'R': 18,\n",
        "\t'S': 19,\n",
        "\t'T': 20,\t\n",
        "\t'U': 21,\n",
        "\t'V': 22,\n",
        "\t'W': 23,\n",
        "\t'X': 24,\n",
        "\t'Y': 25,\n",
        "\t'Z': 26\n",
        "}\n",
        "\n",
        "tt = str.maketrans(dict.fromkeys(string.punctuation))\n",
        "with open(\"/content/drive/My Drive/ProjectEuler/sample_data/p022_names.txt\") as f:\n",
        "    names = [name.translate(tt) for name in f.read().split(',')]\n",
        "\n",
        "names.sort()\n",
        "print(sum(sum(ENG_ALPHABET[letter] for letter in name) * (i+1) for i, name in enumerate(names)))\n",
        "\n"
      ],
      "execution_count": null,
      "outputs": []
    },
    {
      "cell_type": "markdown",
      "metadata": {
        "id": "spSuMW2-Bcj7"
      },
      "source": [
        "---\n",
        "# Задача 23. \n",
        "\n",
        "[Оригинал](https://projecteuler.net/problem=23) [На русском](https://euler.jakumo.org/problems/view/23.html)\n",
        "\n"
      ]
    },
    {
      "cell_type": "code",
      "metadata": {
        "id": "D2vSVsSmB8G2"
      },
      "source": [
        ""
      ],
      "execution_count": null,
      "outputs": []
    },
    {
      "cell_type": "markdown",
      "metadata": {
        "id": "jgvw2ZkfsKui"
      },
      "source": [
        "---\n",
        "# Задача 24.\n",
        "\n",
        "[Оригинал](https://projecteuler.net/problem=24) [На русском](https://euler.jakumo.org/problems/view/24.html)\n",
        "\n"
      ]
    },
    {
      "cell_type": "code",
      "metadata": {
        "id": "8OzV51sitYDM"
      },
      "source": [
        ""
      ],
      "execution_count": null,
      "outputs": []
    },
    {
      "cell_type": "markdown",
      "metadata": {
        "id": "aG_ET1t6ybTW"
      },
      "source": [
        "---\n",
        "# Задача 25. \n",
        "\n",
        "[Оригинал](https://projecteuler.net/problem=25) [На русском](https://euler.jakumo.org/problems/view/25.html)\n",
        "\n"
      ]
    },
    {
      "cell_type": "code",
      "metadata": {
        "id": "_YWRTLMhTdQn"
      },
      "source": [
        ""
      ],
      "execution_count": null,
      "outputs": []
    },
    {
      "cell_type": "markdown",
      "metadata": {
        "id": "r52C5TD7Ue9v"
      },
      "source": [
        "# Задача 26. \n",
        "\n",
        "[Оригинал](https://projecteuler.net/problem=26) [На русском](https://euler.jakumo.org/problems/view/26.html)\n",
        "\n"
      ]
    },
    {
      "cell_type": "code",
      "metadata": {
        "id": "RsxYARypTn45"
      },
      "source": [
        ""
      ],
      "execution_count": null,
      "outputs": []
    },
    {
      "cell_type": "markdown",
      "metadata": {
        "id": "ohyqnGtRTObg"
      },
      "source": [
        "---\n",
        "# Задача 27. \n",
        "\n",
        "[Оригинал](https://projecteuler.net/problem=27) [На русском](https://euler.jakumo.org/problems/view/27.html)\n",
        "\n"
      ]
    },
    {
      "cell_type": "code",
      "metadata": {
        "id": "vAeid8FATcWh"
      },
      "source": [
        ""
      ],
      "execution_count": null,
      "outputs": []
    },
    {
      "cell_type": "markdown",
      "metadata": {
        "id": "IQCv5CM1utta"
      },
      "source": [
        "# Задача 28. \n",
        "\n",
        "[Оригинал](https://projecteuler.net/problem=28) [На русском](https://euler.jakumo.org/problems/view/28.html)\n",
        "\n"
      ]
    },
    {
      "cell_type": "code",
      "metadata": {
        "id": "B__ykJi7T0jJ"
      },
      "source": [
        ""
      ],
      "execution_count": null,
      "outputs": []
    },
    {
      "cell_type": "markdown",
      "metadata": {
        "id": "DnSl2ivvmHIw"
      },
      "source": [
        "---\n",
        "# Задача 29. \n",
        "\n",
        "[Оригинал](https://projecteuler.net/problem=29) [На русском](https://euler.jakumo.org/problems/view/29.html)\n",
        "\n"
      ]
    },
    {
      "cell_type": "code",
      "metadata": {
        "id": "MtPUDthkT8jG"
      },
      "source": [
        ""
      ],
      "execution_count": null,
      "outputs": []
    },
    {
      "cell_type": "markdown",
      "metadata": {
        "id": "5CKEhqH76IYV"
      },
      "source": [
        "---\n",
        "# Задача 30. Сложение простых чисел\n",
        "\n",
        "\n",
        "[Оригинал](https://projecteuler.net/problem=30) [На русском](https://euler.jakumo.org/problems/view/30.html)\n",
        "\n"
      ]
    },
    {
      "cell_type": "code",
      "metadata": {
        "id": "ZMXNLC-JUD43"
      },
      "source": [
        ""
      ],
      "execution_count": null,
      "outputs": []
    },
    {
      "cell_type": "markdown",
      "metadata": {
        "id": "8HfjBdGtbtyk"
      },
      "source": [
        "---\n",
        "# Задача 31. Наибольшее произведение в таблице\n",
        "\n",
        "\n",
        "[Оригинал](https://projecteuler.net/problem=31) [На русском](https://euler.jakumo.org/problems/view/31.html)\n",
        "\n"
      ]
    },
    {
      "cell_type": "code",
      "metadata": {
        "id": "T3Bp8u4e-FGk"
      },
      "source": [
        ""
      ],
      "execution_count": null,
      "outputs": []
    },
    {
      "cell_type": "markdown",
      "metadata": {
        "id": "9uHEDUZ8wHRz"
      },
      "source": [
        "# Задача 12. Треугольное число с большим количеством делителей\n",
        "Последовательность треугольных чисел образуется путем сложения натуральных чисел. К примеру, 7-ое треугольное число равно 1 + 2 + 3 + 4 + 5 + 6 + 7 = 28. Первые десять треугольных чисел:\n",
        "\n",
        ">1, 3, 6, 10, 15, 21, 28, 36, 45, 55, ...\n",
        "\n",
        "Перечислим делители первых семи треугольных чисел:\n",
        "\n",
        " 1: 1\n",
        "\n",
        " 3: 1, 3\n",
        "\n",
        " 6: 1, 2, 3, 6\n",
        "\n",
        "10: 1, 2, 5, 10\n",
        "\n",
        "15: 1, 3, 5, 15\n",
        "\n",
        "21: 1, 3, 7, 21\n",
        "\n",
        "28: 1, 2, 4, 7, 14, 28\n",
        "\n",
        "Как мы видим, 28 - первое треугольное число, у которого более пяти делителей.\n",
        "\n",
        "Каково первое треугольное число, у которого более пятисот делителей?\n",
        "\n",
        "[Оригинал](https://projecteuler.net/problem=12) [На русском](https://euler.jakumo.org/problems/view/12.html)\n",
        "\n",
        "Completed on Mon, 5 Oct 2020, 23:21"
      ]
    },
    {
      "cell_type": "markdown",
      "metadata": {
        "id": "_a6Kz3f15NkW"
      },
      "source": [
        "# Задача 13. Большая сумма\n",
        "Найдите первые десять цифр суммы следующих ста 50-значных чисел.\n",
        "\n",
        ">См. файл sample_data/50digit_nums.txt\n",
        "\n",
        "[Оригинал](https://projecteuler.net/problem=13) [На русском](https://euler.jakumo.org/problems/view/13.html)\n",
        "\n",
        "Completed on Tue, 6 Oct 2020, 08:40"
      ]
    },
    {
      "cell_type": "markdown",
      "metadata": {
        "id": "9E-LOou-CNrG"
      },
      "source": [
        "# Задача 14. Самая длинная последовательность Коллатца\n",
        "Следующая повторяющаяся последовательность определена для множества натуральных чисел:\n",
        "\n",
        ">n → n/2 (n - четное)\n",
        "\n",
        ">n → 3n + 1 (n - нечетное)\n",
        "\n",
        "Используя описанное выше правило и начиная с 13, сгенерируется следующая последовательность:\n",
        "\n",
        ">13 → 40 → 20 → 10 → 5 → 16 → 8 → 4 → 2 → 1\n",
        "\n",
        "Получившаяся последовательность (начиная с 13 и заканчивая 1) содержит 10 элементов. Хотя это до сих пор и не доказано (проблема Коллатца (Collatz)), предполагается, что все сгенерированные таким образом последовательности оканчиваются на 1.\n",
        "\n",
        "Какой начальный элемент меньше миллиона генерирует самую длинную последовательность?\n",
        "\n",
        "**Примечание:** Следующие за первым элементы последовательности могут быть больше миллиона.\n",
        "\n",
        "[Оригинал](https://projecteuler.net/problem=14) [На русском](https://euler.jakumo.org/problems/view/14.html)\n",
        "\n",
        "Completed on Tue, 6 Oct 2020, 13:26"
      ]
    },
    {
      "cell_type": "markdown",
      "metadata": {
        "id": "0c9NhYl0_h1G"
      },
      "source": [
        "# Задача 15. Пути через таблицу\n",
        "Начиная в левом верхнем углу сетки 2×2 и имея возможность двигаться только вниз или вправо, существует ровно 6 маршрутов до правого нижнего угла сетки.\n",
        "\n",
        "![p015.png](data:image/png;base64,iVBORw0KGgoAAAANSUhEUgAAANAAAACXAQMAAABeN0fjAAAABlBMVEVsAGUAAADWqXHfAAAAAXRSTlMAQObYZgAAAAlwSFlzAAAuIwAALiMBeKU/dgAAAAd0SU1FB+MDCREdAmoqMqEAAAAkdEVYdENvbW1lbnQAVWxlYWQgR0lGIFNtYXJ0U2F2ZXIgVmVyIDIuMLqaStoAAAGnSURBVEjH7dexboMwEAbgQ45Eh6p0zBT3QSrxWtlg6INZyot4yAN49GDhGuy7BptzKrVqpIpbkvBhMOJs/QHAarz34/JNem/nz97P5SIpJFdQHCjToUgTjRpx1KFGbwCvAKdAACJS+P2+006/QbFFv0GhRU2k28bGFu1i98ZRehnVzxro6faCenUvojC95pHUhdlHmqe4opZoKMkRqTUJor4kSzSuqSGSJRmi/LmIupI00pTTgNSWpJDcXToS9WMiYSOdeJIjkqSXYhJpnizSCxKkVyknnvxHomcihS16LXZs9bVjb1dXJctQuKjmaWRpApYsT5on9lbz+uDqCHv9o4qdHvqnpc18SD0fl1pYLC2uWTgvhw477fR3tGpRdY+GJZ0gTbeNfU479orogk95PBAPphRFtqitkeNI1Mhy1NTIsM9VI83SUCF1jy5EeRQRF4V0Ksgg5VFEXByRzskTZVEkkEKaCjJIWRQJkdjR3nvd+vM4bEWROgGSzckBZpssH4h59WxHEUHnzsEzIzxX5oFIUGyRJieallQ5GTalCMWmFPHzlPIJSygqFqlA3XYAAAAASUVORK5CYII=)\n",
        "\n",
        "Сколько существует таких маршрутов в сетке 20×20?\n",
        "\n",
        "[Материалы](https://informatics.mccme.ru/mod/book/view.php?id=266&chapterid=57) для решения.\n",
        "\n",
        "[Оригинал](https://projecteuler.net/problem=15) [На русском](https://euler.jakumo.org/problems/view/15.html)\n",
        "\n",
        "Completed on Thu, 8 Oct 2020, 19:38"
      ]
    },
    {
      "cell_type": "markdown",
      "metadata": {
        "id": "OKRdCE0iq8HV"
      },
      "source": [
        "# Задача 16. Сумма цифр степени\n",
        "2^15 = 32768, сумма цифр этого числа равна 3 + 2 + 7 + 6 + 8 = 26.\n",
        "\n",
        "Какова сумма цифр числа 2^1000?\n",
        "\n",
        "[Оригинал](https://projecteuler.net/problem=16) [На русском](https://euler.jakumo.org/problems/view/16.html)\n",
        "\n",
        "Completed on Thu, 8 Oct 2020, 20:34"
      ]
    },
    {
      "cell_type": "markdown",
      "metadata": {
        "id": "dGvIgvaCFa0S"
      },
      "source": [
        "# Задача 17. Счет букв в числительных\n",
        "Если записать числа от 1 до 5 английскими словами (one, two, three, four, five), то используется всего 3 + 3 + 5 + 4 + 4 = 19 букв.\n",
        "\n",
        "Сколько букв понадобится для записи всех чисел от 1 до 1000 (one thousand) включительно?\n",
        "\n",
        ">См. файл sample_data/1000_nums_eng.csv\n",
        "\n",
        "**Примечание:** Не считайте пробелы и дефисы. Например, число 342 (three hundred and forty-two) состоит из 23 букв, число 115 (one hundred and fifteen) - из 20 букв. Использование \"and\" при записи чисел соответствует правилам британского английского.\n",
        "\n",
        "[Оригинал](https://projecteuler.net/problem=17) [На русском](https://euler.jakumo.org/problems/view/17.html)\n",
        "\n",
        "Completed on Thu, 8 Oct 2020, 22:10"
      ]
    },
    {
      "cell_type": "markdown",
      "metadata": {
        "id": "M3Fqfba1GiwV"
      },
      "source": [
        "# Задача 18. Максимальная сумма пути I\n",
        "Начиная в вершине треугольника (см. пример ниже) и перемещаясь вниз на смежные числа, максимальная сумма до основания составляет 23.\n",
        "\n",
        "```\n",
        "   3\n",
        "  7 4\n",
        " 2 4 6\n",
        "8 5 9 3\n",
        "```\n",
        "То есть, 3 + 7 + 4 + 9 = 23.\n",
        "\n",
        "Найдите максимальную сумму пути от вершины до основания следующего треугольника:\n",
        "```\n",
        "              75\n",
        "             95 64\n",
        "            17 47 82\n",
        "           18 35 87 10\n",
        "          20 04 82 47 65\n",
        "         19 01 23 75 03 34\n",
        "        88 02 77 73 07 63 67\n",
        "       99 65 04 28 06 16 70 92\n",
        "      41 41 26 56 83 40 80 70 33\n",
        "     41 48 72 33 47 32 37 16 94 29\n",
        "    53 71 44 65 25 43 91 52 97 51 14\n",
        "   70 11 33 28 77 73 17 78 39 68 17 57\n",
        "  91 71 52 38 17 14 91 43 58 50 27 29 48\n",
        " 63 66 04 68 89 53 67 30 73 16 69 87 40 31\n",
        "04 62 98 27 23 09 70 98 73 93 38 53 60 04 23\n",
        "```\n",
        "\n",
        ">См. файл sample_data/lower_triangular_matrix.txt\n",
        "\n",
        "**Примечание:** Так как в данном треугольнике всего 16384 возможных маршрута от вершины до основания, эту задачу можно решить проверяя каждый из маршрутов. Однако похожая Задача 67 с треугольником, состоящим из сотни строк, не решается перебором (brute force) и требует более умного подхода! ;o)\n",
        "\n",
        "[Оригинал](https://projecteuler.net/problem=18) [На русском](https://euler.jakumo.org/problems/view/18.html)\n",
        "\n",
        "Completed on Fri, 9 Oct 2020, 23:29"
      ]
    },
    {
      "cell_type": "markdown",
      "metadata": {
        "id": "9wcgW-7jgr3I"
      },
      "source": [
        "# Задача 19. Считаем воскресенья\n",
        "\n",
        "Дана следующая информация (однако, вы можете проверить ее самостоятельно):\n",
        "\n",
        "* 1 января 1900 года - понедельник.\n",
        "* В апреле, июне, сентябре и ноябре 30 дней.\n",
        "* В феврале 28 дней, в високосный год - 29.\n",
        "* В остальных месяцах по 31 дню.\n",
        "* Високосный год - любой год, делящийся нацело на 4, однако последний год века (ХХ00) является високосным в том и только том случае, если делится на 400.\n",
        "\n",
        "Сколько воскресений выпадает на первое число месяца в двадцатом веке (с 1 января 1901 года до 31 декабря 2000 года)?\n",
        "\n",
        "[Оригинал](https://projecteuler.net/problem=19) [На русском](https://euler.jakumo.org/problems/view/19.html)\n",
        "\n",
        "Completed on Sun, 11 Oct 2020, 11:31"
      ]
    },
    {
      "cell_type": "markdown",
      "metadata": {
        "id": "AigLGrYfNsJv"
      },
      "source": [
        "# Задача 20. Сумма цифр факториала\n",
        "\n",
        "n! означает n × (n − 1) × ... × 3 × 2 × 1\n",
        "\n",
        "Например, 10! = 10 × 9 × ... × 3 × 2 × 1 = 3628800,\n",
        "и сумма цифр в числе 10! равна 3 + 6 + 2 + 8 + 8 + 0 + 0 = 27.\n",
        "\n",
        "Найдите сумму цифр в числе 100!.\n",
        "\n",
        "[Оригинал](https://projecteuler.net/problem=20) [На русском](https://euler.jakumo.org/problems/view/20.html)\n",
        "\n",
        "Completed on Sun, 11 Oct 2020, 21:04"
      ]
    }
  ]
}